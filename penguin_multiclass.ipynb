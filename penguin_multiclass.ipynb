{
 "cells": [
  {
   "cell_type": "code",
   "execution_count": null,
   "id": "245321f5-6bda-4135-905b-d9d239773fc8",
   "metadata": {
    "jupyter": {
     "source_hidden": true
    }
   },
   "outputs": [
    {
     "name": "stderr",
     "output_type": "stream",
     "text": [
      "\u001b[32m\u001b[1m   Resolving\u001b[22m\u001b[39m package versions...\n",
      "\u001b[32m\u001b[1m  No Changes\u001b[22m\u001b[39m to `C:\\Users\\aurascoper\\.julia\\environments\\v1.9\\Project.toml`\n",
      "\u001b[32m\u001b[1m  No Changes\u001b[22m\u001b[39m to `C:\\Users\\aurascoper\\.julia\\environments\\v1.9\\Manifest.toml`\n"
     ]
    }
   ],
   "source": [
    "import Pkg\n",
    "Pkg.add(\"PlotlyJS\")\n",
    "Pkg.add(\"CSV\")\n",
    "Pkg.add(\"DataFrames\")\n",
    "Pkg.add(\"Interpolations\")  # Optional, only if you need to interpolate missing values\n",
    "Pkg.add(\"CategoricalArrays\")\n",
    "Pkg.add(\"Turing\")     # For Bayesian inference (optional if you want to run inference)\n",
    "Pkg.add(\"GraphPlot\")   # For graph visualization\n",
    "Pkg.add(\"LightGraphs\") # For working with graphs\n",
    "Pkg.add(\"Distributions\") # For handling distributions in Bayesian models"
   ]
  },
  {
   "cell_type": "code",
   "execution_count": 3,
   "id": "c75c2efe-6eb0-44b9-9b1d-06c81f709835",
   "metadata": {},
   "outputs": [
    {
     "data": {
      "text/plain": [
       "344-element CategoricalArray{String15,1,UInt32}:\n",
       " String15(\"Adelie\")\n",
       " String15(\"Adelie\")\n",
       " String15(\"Adelie\")\n",
       " String15(\"Adelie\")\n",
       " String15(\"Adelie\")\n",
       " String15(\"Adelie\")\n",
       " String15(\"Adelie\")\n",
       " String15(\"Adelie\")\n",
       " String15(\"Adelie\")\n",
       " String15(\"Adelie\")\n",
       " String15(\"Adelie\")\n",
       " String15(\"Adelie\")\n",
       " String15(\"Adelie\")\n",
       " ⋮\n",
       " String15(\"Chinstrap\")\n",
       " String15(\"Chinstrap\")\n",
       " String15(\"Chinstrap\")\n",
       " String15(\"Chinstrap\")\n",
       " String15(\"Chinstrap\")\n",
       " String15(\"Chinstrap\")\n",
       " String15(\"Chinstrap\")\n",
       " String15(\"Chinstrap\")\n",
       " String15(\"Chinstrap\")\n",
       " String15(\"Chinstrap\")\n",
       " String15(\"Chinstrap\")\n",
       " String15(\"Chinstrap\")"
      ]
     },
     "execution_count": 3,
     "metadata": {},
     "output_type": "execute_result"
    }
   ],
   "source": [
    "using CSV, DataFrames, CategoricalArrays\n",
    "using PlotlyJS  # For creating interactive 3D plots\n",
    "using Interpolations  # If you are using interpolation for missing data\n",
    "\n",
    "# Load the Palmer Penguins dataset (adjust the path to your CSV file)\n",
    "penguins = CSV.read(\"C:/users/aurascoper/Documents/SysDev/Kaggles/palmer_penguins/penguins.csv\", DataFrame)\n",
    "\n",
    "# Convert species to categorical data type\n",
    "penguins.species = categorical(penguins.species)"
   ]
  },
  {
   "cell_type": "code",
   "execution_count": 5,
   "id": "2d03d87f-2b35-4eff-aa84-d5d584649a15",
   "metadata": {},
   "outputs": [
    {
     "data": {
      "application/vnd.plotly.v1+json": {
       "config": {
        "editable": false,
        "responsive": true,
        "scrollZoom": true,
        "showLink": false,
        "staticPlot": false
       },
       "data": [
        {
         "marker": {
          "color": [
           "Adelie",
           "Adelie",
           "Adelie",
           "Adelie",
           "Adelie",
           "Adelie",
           "Adelie",
           "Adelie",
           "Adelie",
           "Adelie",
           "Adelie",
           "Adelie",
           "Adelie",
           "Adelie",
           "Adelie",
           "Adelie",
           "Adelie",
           "Adelie",
           "Adelie",
           "Adelie",
           "Adelie",
           "Adelie",
           "Adelie",
           "Adelie",
           "Adelie",
           "Adelie",
           "Adelie",
           "Adelie",
           "Adelie",
           "Adelie",
           "Adelie",
           "Adelie",
           "Adelie",
           "Adelie",
           "Adelie",
           "Adelie",
           "Adelie",
           "Adelie",
           "Adelie",
           "Adelie",
           "Adelie",
           "Adelie",
           "Adelie",
           "Adelie",
           "Adelie",
           "Adelie",
           "Adelie",
           "Adelie",
           "Adelie",
           "Adelie",
           "Adelie",
           "Adelie",
           "Adelie",
           "Adelie",
           "Adelie",
           "Adelie",
           "Adelie",
           "Adelie",
           "Adelie",
           "Adelie",
           "Adelie",
           "Adelie",
           "Adelie",
           "Adelie",
           "Adelie",
           "Adelie",
           "Adelie",
           "Adelie",
           "Adelie",
           "Adelie",
           "Adelie",
           "Adelie",
           "Adelie",
           "Adelie",
           "Adelie",
           "Adelie",
           "Adelie",
           "Adelie",
           "Adelie",
           "Adelie",
           "Adelie",
           "Adelie",
           "Adelie",
           "Adelie",
           "Adelie",
           "Adelie",
           "Adelie",
           "Adelie",
           "Adelie",
           "Adelie",
           "Adelie",
           "Adelie",
           "Adelie",
           "Adelie",
           "Adelie",
           "Adelie",
           "Adelie",
           "Adelie",
           "Adelie",
           "Adelie",
           "Adelie",
           "Adelie",
           "Adelie",
           "Adelie",
           "Adelie",
           "Adelie",
           "Adelie",
           "Adelie",
           "Adelie",
           "Adelie",
           "Adelie",
           "Adelie",
           "Adelie",
           "Adelie",
           "Adelie",
           "Adelie",
           "Adelie",
           "Adelie",
           "Adelie",
           "Adelie",
           "Adelie",
           "Adelie",
           "Adelie",
           "Adelie",
           "Adelie",
           "Adelie",
           "Adelie",
           "Adelie",
           "Adelie",
           "Adelie",
           "Adelie",
           "Adelie",
           "Adelie",
           "Adelie",
           "Adelie",
           "Adelie",
           "Adelie",
           "Adelie",
           "Adelie",
           "Adelie",
           "Adelie",
           "Adelie",
           "Adelie",
           "Adelie",
           "Adelie",
           "Adelie",
           "Adelie",
           "Adelie",
           "Adelie",
           "Adelie",
           "Adelie",
           "Adelie",
           "Gentoo",
           "Gentoo",
           "Gentoo",
           "Gentoo",
           "Gentoo",
           "Gentoo",
           "Gentoo",
           "Gentoo",
           "Gentoo",
           "Gentoo",
           "Gentoo",
           "Gentoo",
           "Gentoo",
           "Gentoo",
           "Gentoo",
           "Gentoo",
           "Gentoo",
           "Gentoo",
           "Gentoo",
           "Gentoo",
           "Gentoo",
           "Gentoo",
           "Gentoo",
           "Gentoo",
           "Gentoo",
           "Gentoo",
           "Gentoo",
           "Gentoo",
           "Gentoo",
           "Gentoo",
           "Gentoo",
           "Gentoo",
           "Gentoo",
           "Gentoo",
           "Gentoo",
           "Gentoo",
           "Gentoo",
           "Gentoo",
           "Gentoo",
           "Gentoo",
           "Gentoo",
           "Gentoo",
           "Gentoo",
           "Gentoo",
           "Gentoo",
           "Gentoo",
           "Gentoo",
           "Gentoo",
           "Gentoo",
           "Gentoo",
           "Gentoo",
           "Gentoo",
           "Gentoo",
           "Gentoo",
           "Gentoo",
           "Gentoo",
           "Gentoo",
           "Gentoo",
           "Gentoo",
           "Gentoo",
           "Gentoo",
           "Gentoo",
           "Gentoo",
           "Gentoo",
           "Gentoo",
           "Gentoo",
           "Gentoo",
           "Gentoo",
           "Gentoo",
           "Gentoo",
           "Gentoo",
           "Gentoo",
           "Gentoo",
           "Gentoo",
           "Gentoo",
           "Gentoo",
           "Gentoo",
           "Gentoo",
           "Gentoo",
           "Gentoo",
           "Gentoo",
           "Gentoo",
           "Gentoo",
           "Gentoo",
           "Gentoo",
           "Gentoo",
           "Gentoo",
           "Gentoo",
           "Gentoo",
           "Gentoo",
           "Gentoo",
           "Gentoo",
           "Gentoo",
           "Gentoo",
           "Gentoo",
           "Gentoo",
           "Gentoo",
           "Gentoo",
           "Gentoo",
           "Gentoo",
           "Gentoo",
           "Gentoo",
           "Gentoo",
           "Gentoo",
           "Gentoo",
           "Gentoo",
           "Gentoo",
           "Gentoo",
           "Gentoo",
           "Gentoo",
           "Gentoo",
           "Gentoo",
           "Gentoo",
           "Gentoo",
           "Gentoo",
           "Gentoo",
           "Gentoo",
           "Gentoo",
           "Gentoo",
           "Gentoo",
           "Gentoo",
           "Gentoo",
           "Gentoo",
           "Gentoo",
           "Chinstrap",
           "Chinstrap",
           "Chinstrap",
           "Chinstrap",
           "Chinstrap",
           "Chinstrap",
           "Chinstrap",
           "Chinstrap",
           "Chinstrap",
           "Chinstrap",
           "Chinstrap",
           "Chinstrap",
           "Chinstrap",
           "Chinstrap",
           "Chinstrap",
           "Chinstrap",
           "Chinstrap",
           "Chinstrap",
           "Chinstrap",
           "Chinstrap",
           "Chinstrap",
           "Chinstrap",
           "Chinstrap",
           "Chinstrap",
           "Chinstrap",
           "Chinstrap",
           "Chinstrap",
           "Chinstrap",
           "Chinstrap",
           "Chinstrap",
           "Chinstrap",
           "Chinstrap",
           "Chinstrap",
           "Chinstrap",
           "Chinstrap",
           "Chinstrap",
           "Chinstrap",
           "Chinstrap",
           "Chinstrap",
           "Chinstrap",
           "Chinstrap",
           "Chinstrap",
           "Chinstrap",
           "Chinstrap",
           "Chinstrap",
           "Chinstrap",
           "Chinstrap",
           "Chinstrap",
           "Chinstrap",
           "Chinstrap",
           "Chinstrap",
           "Chinstrap",
           "Chinstrap",
           "Chinstrap",
           "Chinstrap",
           "Chinstrap",
           "Chinstrap",
           "Chinstrap",
           "Chinstrap",
           "Chinstrap",
           "Chinstrap",
           "Chinstrap",
           "Chinstrap",
           "Chinstrap",
           "Chinstrap",
           "Chinstrap",
           "Chinstrap",
           "Chinstrap"
          ],
          "colorscale": "Viridis",
          "size": 5
         },
         "mode": "markers",
         "text": [
          "Species: Adelie<br>Flipper Length (mm): 181<br>Bill Length (mm): 39.1<br>Body Mass (g): 3750",
          "Species: Adelie<br>Flipper Length (mm): 186<br>Bill Length (mm): 39.5<br>Body Mass (g): 3800",
          "Species: Adelie<br>Flipper Length (mm): 195<br>Bill Length (mm): 40.3<br>Body Mass (g): 3250",
          "Species: Adelie<br>Flipper Length (mm): NA<br>Bill Length (mm): NA<br>Body Mass (g): NA",
          "Species: Adelie<br>Flipper Length (mm): 193<br>Bill Length (mm): 36.7<br>Body Mass (g): 3450",
          "Species: Adelie<br>Flipper Length (mm): 190<br>Bill Length (mm): 39.3<br>Body Mass (g): 3650",
          "Species: Adelie<br>Flipper Length (mm): 181<br>Bill Length (mm): 38.9<br>Body Mass (g): 3625",
          "Species: Adelie<br>Flipper Length (mm): 195<br>Bill Length (mm): 39.2<br>Body Mass (g): 4675",
          "Species: Adelie<br>Flipper Length (mm): 193<br>Bill Length (mm): 34.1<br>Body Mass (g): 3475",
          "Species: Adelie<br>Flipper Length (mm): 190<br>Bill Length (mm): 42<br>Body Mass (g): 4250",
          "Species: Adelie<br>Flipper Length (mm): 186<br>Bill Length (mm): 37.8<br>Body Mass (g): 3300",
          "Species: Adelie<br>Flipper Length (mm): 180<br>Bill Length (mm): 37.8<br>Body Mass (g): 3700",
          "Species: Adelie<br>Flipper Length (mm): 182<br>Bill Length (mm): 41.1<br>Body Mass (g): 3200",
          "Species: Adelie<br>Flipper Length (mm): 191<br>Bill Length (mm): 38.6<br>Body Mass (g): 3800",
          "Species: Adelie<br>Flipper Length (mm): 198<br>Bill Length (mm): 34.6<br>Body Mass (g): 4400",
          "Species: Adelie<br>Flipper Length (mm): 185<br>Bill Length (mm): 36.6<br>Body Mass (g): 3700",
          "Species: Adelie<br>Flipper Length (mm): 195<br>Bill Length (mm): 38.7<br>Body Mass (g): 3450",
          "Species: Adelie<br>Flipper Length (mm): 197<br>Bill Length (mm): 42.5<br>Body Mass (g): 4500",
          "Species: Adelie<br>Flipper Length (mm): 184<br>Bill Length (mm): 34.4<br>Body Mass (g): 3325",
          "Species: Adelie<br>Flipper Length (mm): 194<br>Bill Length (mm): 46<br>Body Mass (g): 4200",
          "Species: Adelie<br>Flipper Length (mm): 174<br>Bill Length (mm): 37.8<br>Body Mass (g): 3400",
          "Species: Adelie<br>Flipper Length (mm): 180<br>Bill Length (mm): 37.7<br>Body Mass (g): 3600",
          "Species: Adelie<br>Flipper Length (mm): 189<br>Bill Length (mm): 35.9<br>Body Mass (g): 3800",
          "Species: Adelie<br>Flipper Length (mm): 185<br>Bill Length (mm): 38.2<br>Body Mass (g): 3950",
          "Species: Adelie<br>Flipper Length (mm): 180<br>Bill Length (mm): 38.8<br>Body Mass (g): 3800",
          "Species: Adelie<br>Flipper Length (mm): 187<br>Bill Length (mm): 35.3<br>Body Mass (g): 3800",
          "Species: Adelie<br>Flipper Length (mm): 183<br>Bill Length (mm): 40.6<br>Body Mass (g): 3550",
          "Species: Adelie<br>Flipper Length (mm): 187<br>Bill Length (mm): 40.5<br>Body Mass (g): 3200",
          "Species: Adelie<br>Flipper Length (mm): 172<br>Bill Length (mm): 37.9<br>Body Mass (g): 3150",
          "Species: Adelie<br>Flipper Length (mm): 180<br>Bill Length (mm): 40.5<br>Body Mass (g): 3950",
          "Species: Adelie<br>Flipper Length (mm): 178<br>Bill Length (mm): 39.5<br>Body Mass (g): 3250",
          "Species: Adelie<br>Flipper Length (mm): 178<br>Bill Length (mm): 37.2<br>Body Mass (g): 3900",
          "Species: Adelie<br>Flipper Length (mm): 188<br>Bill Length (mm): 39.5<br>Body Mass (g): 3300",
          "Species: Adelie<br>Flipper Length (mm): 184<br>Bill Length (mm): 40.9<br>Body Mass (g): 3900",
          "Species: Adelie<br>Flipper Length (mm): 195<br>Bill Length (mm): 36.4<br>Body Mass (g): 3325",
          "Species: Adelie<br>Flipper Length (mm): 196<br>Bill Length (mm): 39.2<br>Body Mass (g): 4150",
          "Species: Adelie<br>Flipper Length (mm): 190<br>Bill Length (mm): 38.8<br>Body Mass (g): 3950",
          "Species: Adelie<br>Flipper Length (mm): 180<br>Bill Length (mm): 42.2<br>Body Mass (g): 3550",
          "Species: Adelie<br>Flipper Length (mm): 181<br>Bill Length (mm): 37.6<br>Body Mass (g): 3300",
          "Species: Adelie<br>Flipper Length (mm): 184<br>Bill Length (mm): 39.8<br>Body Mass (g): 4650",
          "Species: Adelie<br>Flipper Length (mm): 182<br>Bill Length (mm): 36.5<br>Body Mass (g): 3150",
          "Species: Adelie<br>Flipper Length (mm): 195<br>Bill Length (mm): 40.8<br>Body Mass (g): 3900",
          "Species: Adelie<br>Flipper Length (mm): 186<br>Bill Length (mm): 36<br>Body Mass (g): 3100",
          "Species: Adelie<br>Flipper Length (mm): 196<br>Bill Length (mm): 44.1<br>Body Mass (g): 4400",
          "Species: Adelie<br>Flipper Length (mm): 185<br>Bill Length (mm): 37<br>Body Mass (g): 3000",
          "Species: Adelie<br>Flipper Length (mm): 190<br>Bill Length (mm): 39.6<br>Body Mass (g): 4600",
          "Species: Adelie<br>Flipper Length (mm): 182<br>Bill Length (mm): 41.1<br>Body Mass (g): 3425",
          "Species: Adelie<br>Flipper Length (mm): 179<br>Bill Length (mm): 37.5<br>Body Mass (g): 2975",
          "Species: Adelie<br>Flipper Length (mm): 190<br>Bill Length (mm): 36<br>Body Mass (g): 3450",
          "Species: Adelie<br>Flipper Length (mm): 191<br>Bill Length (mm): 42.3<br>Body Mass (g): 4150",
          "Species: Adelie<br>Flipper Length (mm): 186<br>Bill Length (mm): 39.6<br>Body Mass (g): 3500",
          "Species: Adelie<br>Flipper Length (mm): 188<br>Bill Length (mm): 40.1<br>Body Mass (g): 4300",
          "Species: Adelie<br>Flipper Length (mm): 190<br>Bill Length (mm): 35<br>Body Mass (g): 3450",
          "Species: Adelie<br>Flipper Length (mm): 200<br>Bill Length (mm): 42<br>Body Mass (g): 4050",
          "Species: Adelie<br>Flipper Length (mm): 187<br>Bill Length (mm): 34.5<br>Body Mass (g): 2900",
          "Species: Adelie<br>Flipper Length (mm): 191<br>Bill Length (mm): 41.4<br>Body Mass (g): 3700",
          "Species: Adelie<br>Flipper Length (mm): 186<br>Bill Length (mm): 39<br>Body Mass (g): 3550",
          "Species: Adelie<br>Flipper Length (mm): 193<br>Bill Length (mm): 40.6<br>Body Mass (g): 3800",
          "Species: Adelie<br>Flipper Length (mm): 181<br>Bill Length (mm): 36.5<br>Body Mass (g): 2850",
          "Species: Adelie<br>Flipper Length (mm): 194<br>Bill Length (mm): 37.6<br>Body Mass (g): 3750",
          "Species: Adelie<br>Flipper Length (mm): 185<br>Bill Length (mm): 35.7<br>Body Mass (g): 3150",
          "Species: Adelie<br>Flipper Length (mm): 195<br>Bill Length (mm): 41.3<br>Body Mass (g): 4400",
          "Species: Adelie<br>Flipper Length (mm): 185<br>Bill Length (mm): 37.6<br>Body Mass (g): 3600",
          "Species: Adelie<br>Flipper Length (mm): 192<br>Bill Length (mm): 41.1<br>Body Mass (g): 4050",
          "Species: Adelie<br>Flipper Length (mm): 184<br>Bill Length (mm): 36.4<br>Body Mass (g): 2850",
          "Species: Adelie<br>Flipper Length (mm): 192<br>Bill Length (mm): 41.6<br>Body Mass (g): 3950",
          "Species: Adelie<br>Flipper Length (mm): 195<br>Bill Length (mm): 35.5<br>Body Mass (g): 3350",
          "Species: Adelie<br>Flipper Length (mm): 188<br>Bill Length (mm): 41.1<br>Body Mass (g): 4100",
          "Species: Adelie<br>Flipper Length (mm): 190<br>Bill Length (mm): 35.9<br>Body Mass (g): 3050",
          "Species: Adelie<br>Flipper Length (mm): 198<br>Bill Length (mm): 41.8<br>Body Mass (g): 4450",
          "Species: Adelie<br>Flipper Length (mm): 190<br>Bill Length (mm): 33.5<br>Body Mass (g): 3600",
          "Species: Adelie<br>Flipper Length (mm): 190<br>Bill Length (mm): 39.7<br>Body Mass (g): 3900",
          "Species: Adelie<br>Flipper Length (mm): 196<br>Bill Length (mm): 39.6<br>Body Mass (g): 3550",
          "Species: Adelie<br>Flipper Length (mm): 197<br>Bill Length (mm): 45.8<br>Body Mass (g): 4150",
          "Species: Adelie<br>Flipper Length (mm): 190<br>Bill Length (mm): 35.5<br>Body Mass (g): 3700",
          "Species: Adelie<br>Flipper Length (mm): 195<br>Bill Length (mm): 42.8<br>Body Mass (g): 4250",
          "Species: Adelie<br>Flipper Length (mm): 191<br>Bill Length (mm): 40.9<br>Body Mass (g): 3700",
          "Species: Adelie<br>Flipper Length (mm): 184<br>Bill Length (mm): 37.2<br>Body Mass (g): 3900",
          "Species: Adelie<br>Flipper Length (mm): 187<br>Bill Length (mm): 36.2<br>Body Mass (g): 3550",
          "Species: Adelie<br>Flipper Length (mm): 195<br>Bill Length (mm): 42.1<br>Body Mass (g): 4000",
          "Species: Adelie<br>Flipper Length (mm): 189<br>Bill Length (mm): 34.6<br>Body Mass (g): 3200",
          "Species: Adelie<br>Flipper Length (mm): 196<br>Bill Length (mm): 42.9<br>Body Mass (g): 4700",
          "Species: Adelie<br>Flipper Length (mm): 187<br>Bill Length (mm): 36.7<br>Body Mass (g): 3800",
          "Species: Adelie<br>Flipper Length (mm): 193<br>Bill Length (mm): 35.1<br>Body Mass (g): 4200",
          "Species: Adelie<br>Flipper Length (mm): 191<br>Bill Length (mm): 37.3<br>Body Mass (g): 3350",
          "Species: Adelie<br>Flipper Length (mm): 194<br>Bill Length (mm): 41.3<br>Body Mass (g): 3550",
          "Species: Adelie<br>Flipper Length (mm): 190<br>Bill Length (mm): 36.3<br>Body Mass (g): 3800",
          "Species: Adelie<br>Flipper Length (mm): 189<br>Bill Length (mm): 36.9<br>Body Mass (g): 3500",
          "Species: Adelie<br>Flipper Length (mm): 189<br>Bill Length (mm): 38.3<br>Body Mass (g): 3950",
          "Species: Adelie<br>Flipper Length (mm): 190<br>Bill Length (mm): 38.9<br>Body Mass (g): 3600",
          "Species: Adelie<br>Flipper Length (mm): 202<br>Bill Length (mm): 35.7<br>Body Mass (g): 3550",
          "Species: Adelie<br>Flipper Length (mm): 205<br>Bill Length (mm): 41.1<br>Body Mass (g): 4300",
          "Species: Adelie<br>Flipper Length (mm): 185<br>Bill Length (mm): 34<br>Body Mass (g): 3400",
          "Species: Adelie<br>Flipper Length (mm): 186<br>Bill Length (mm): 39.6<br>Body Mass (g): 4450",
          "Species: Adelie<br>Flipper Length (mm): 187<br>Bill Length (mm): 36.2<br>Body Mass (g): 3300",
          "Species: Adelie<br>Flipper Length (mm): 208<br>Bill Length (mm): 40.8<br>Body Mass (g): 4300",
          "Species: Adelie<br>Flipper Length (mm): 190<br>Bill Length (mm): 38.1<br>Body Mass (g): 3700",
          "Species: Adelie<br>Flipper Length (mm): 196<br>Bill Length (mm): 40.3<br>Body Mass (g): 4350",
          "Species: Adelie<br>Flipper Length (mm): 178<br>Bill Length (mm): 33.1<br>Body Mass (g): 2900",
          "Species: Adelie<br>Flipper Length (mm): 192<br>Bill Length (mm): 43.2<br>Body Mass (g): 4100",
          "Species: Adelie<br>Flipper Length (mm): 192<br>Bill Length (mm): 35<br>Body Mass (g): 3725",
          "Species: Adelie<br>Flipper Length (mm): 203<br>Bill Length (mm): 41<br>Body Mass (g): 4725",
          "Species: Adelie<br>Flipper Length (mm): 183<br>Bill Length (mm): 37.7<br>Body Mass (g): 3075",
          "Species: Adelie<br>Flipper Length (mm): 190<br>Bill Length (mm): 37.8<br>Body Mass (g): 4250",
          "Species: Adelie<br>Flipper Length (mm): 193<br>Bill Length (mm): 37.9<br>Body Mass (g): 2925",
          "Species: Adelie<br>Flipper Length (mm): 184<br>Bill Length (mm): 39.7<br>Body Mass (g): 3550",
          "Species: Adelie<br>Flipper Length (mm): 199<br>Bill Length (mm): 38.6<br>Body Mass (g): 3750",
          "Species: Adelie<br>Flipper Length (mm): 190<br>Bill Length (mm): 38.2<br>Body Mass (g): 3900",
          "Species: Adelie<br>Flipper Length (mm): 181<br>Bill Length (mm): 38.1<br>Body Mass (g): 3175",
          "Species: Adelie<br>Flipper Length (mm): 197<br>Bill Length (mm): 43.2<br>Body Mass (g): 4775",
          "Species: Adelie<br>Flipper Length (mm): 198<br>Bill Length (mm): 38.1<br>Body Mass (g): 3825",
          "Species: Adelie<br>Flipper Length (mm): 191<br>Bill Length (mm): 45.6<br>Body Mass (g): 4600",
          "Species: Adelie<br>Flipper Length (mm): 193<br>Bill Length (mm): 39.7<br>Body Mass (g): 3200",
          "Species: Adelie<br>Flipper Length (mm): 197<br>Bill Length (mm): 42.2<br>Body Mass (g): 4275",
          "Species: Adelie<br>Flipper Length (mm): 191<br>Bill Length (mm): 39.6<br>Body Mass (g): 3900",
          "Species: Adelie<br>Flipper Length (mm): 196<br>Bill Length (mm): 42.7<br>Body Mass (g): 4075",
          "Species: Adelie<br>Flipper Length (mm): 188<br>Bill Length (mm): 38.6<br>Body Mass (g): 2900",
          "Species: Adelie<br>Flipper Length (mm): 199<br>Bill Length (mm): 37.3<br>Body Mass (g): 3775",
          "Species: Adelie<br>Flipper Length (mm): 189<br>Bill Length (mm): 35.7<br>Body Mass (g): 3350",
          "Species: Adelie<br>Flipper Length (mm): 189<br>Bill Length (mm): 41.1<br>Body Mass (g): 3325",
          "Species: Adelie<br>Flipper Length (mm): 187<br>Bill Length (mm): 36.2<br>Body Mass (g): 3150",
          "Species: Adelie<br>Flipper Length (mm): 198<br>Bill Length (mm): 37.7<br>Body Mass (g): 3500",
          "Species: Adelie<br>Flipper Length (mm): 176<br>Bill Length (mm): 40.2<br>Body Mass (g): 3450",
          "Species: Adelie<br>Flipper Length (mm): 202<br>Bill Length (mm): 41.4<br>Body Mass (g): 3875",
          "Species: Adelie<br>Flipper Length (mm): 186<br>Bill Length (mm): 35.2<br>Body Mass (g): 3050",
          "Species: Adelie<br>Flipper Length (mm): 199<br>Bill Length (mm): 40.6<br>Body Mass (g): 4000",
          "Species: Adelie<br>Flipper Length (mm): 191<br>Bill Length (mm): 38.8<br>Body Mass (g): 3275",
          "Species: Adelie<br>Flipper Length (mm): 195<br>Bill Length (mm): 41.5<br>Body Mass (g): 4300",
          "Species: Adelie<br>Flipper Length (mm): 191<br>Bill Length (mm): 39<br>Body Mass (g): 3050",
          "Species: Adelie<br>Flipper Length (mm): 210<br>Bill Length (mm): 44.1<br>Body Mass (g): 4000",
          "Species: Adelie<br>Flipper Length (mm): 190<br>Bill Length (mm): 38.5<br>Body Mass (g): 3325",
          "Species: Adelie<br>Flipper Length (mm): 197<br>Bill Length (mm): 43.1<br>Body Mass (g): 3500",
          "Species: Adelie<br>Flipper Length (mm): 193<br>Bill Length (mm): 36.8<br>Body Mass (g): 3500",
          "Species: Adelie<br>Flipper Length (mm): 199<br>Bill Length (mm): 37.5<br>Body Mass (g): 4475",
          "Species: Adelie<br>Flipper Length (mm): 187<br>Bill Length (mm): 38.1<br>Body Mass (g): 3425",
          "Species: Adelie<br>Flipper Length (mm): 190<br>Bill Length (mm): 41.1<br>Body Mass (g): 3900",
          "Species: Adelie<br>Flipper Length (mm): 191<br>Bill Length (mm): 35.6<br>Body Mass (g): 3175",
          "Species: Adelie<br>Flipper Length (mm): 200<br>Bill Length (mm): 40.2<br>Body Mass (g): 3975",
          "Species: Adelie<br>Flipper Length (mm): 185<br>Bill Length (mm): 37<br>Body Mass (g): 3400",
          "Species: Adelie<br>Flipper Length (mm): 193<br>Bill Length (mm): 39.7<br>Body Mass (g): 4250",
          "Species: Adelie<br>Flipper Length (mm): 193<br>Bill Length (mm): 40.2<br>Body Mass (g): 3400",
          "Species: Adelie<br>Flipper Length (mm): 187<br>Bill Length (mm): 40.6<br>Body Mass (g): 3475",
          "Species: Adelie<br>Flipper Length (mm): 188<br>Bill Length (mm): 32.1<br>Body Mass (g): 3050",
          "Species: Adelie<br>Flipper Length (mm): 190<br>Bill Length (mm): 40.7<br>Body Mass (g): 3725",
          "Species: Adelie<br>Flipper Length (mm): 192<br>Bill Length (mm): 37.3<br>Body Mass (g): 3000",
          "Species: Adelie<br>Flipper Length (mm): 185<br>Bill Length (mm): 39<br>Body Mass (g): 3650",
          "Species: Adelie<br>Flipper Length (mm): 190<br>Bill Length (mm): 39.2<br>Body Mass (g): 4250",
          "Species: Adelie<br>Flipper Length (mm): 184<br>Bill Length (mm): 36.6<br>Body Mass (g): 3475",
          "Species: Adelie<br>Flipper Length (mm): 195<br>Bill Length (mm): 36<br>Body Mass (g): 3450",
          "Species: Adelie<br>Flipper Length (mm): 193<br>Bill Length (mm): 37.8<br>Body Mass (g): 3750",
          "Species: Adelie<br>Flipper Length (mm): 187<br>Bill Length (mm): 36<br>Body Mass (g): 3700",
          "Species: Adelie<br>Flipper Length (mm): 201<br>Bill Length (mm): 41.5<br>Body Mass (g): 4000",
          "Species: Gentoo<br>Flipper Length (mm): 211<br>Bill Length (mm): 46.1<br>Body Mass (g): 4500",
          "Species: Gentoo<br>Flipper Length (mm): 230<br>Bill Length (mm): 50<br>Body Mass (g): 5700",
          "Species: Gentoo<br>Flipper Length (mm): 210<br>Bill Length (mm): 48.7<br>Body Mass (g): 4450",
          "Species: Gentoo<br>Flipper Length (mm): 218<br>Bill Length (mm): 50<br>Body Mass (g): 5700",
          "Species: Gentoo<br>Flipper Length (mm): 215<br>Bill Length (mm): 47.6<br>Body Mass (g): 5400",
          "Species: Gentoo<br>Flipper Length (mm): 210<br>Bill Length (mm): 46.5<br>Body Mass (g): 4550",
          "Species: Gentoo<br>Flipper Length (mm): 211<br>Bill Length (mm): 45.4<br>Body Mass (g): 4800",
          "Species: Gentoo<br>Flipper Length (mm): 219<br>Bill Length (mm): 46.7<br>Body Mass (g): 5200",
          "Species: Gentoo<br>Flipper Length (mm): 209<br>Bill Length (mm): 43.3<br>Body Mass (g): 4400",
          "Species: Gentoo<br>Flipper Length (mm): 215<br>Bill Length (mm): 46.8<br>Body Mass (g): 5150",
          "Species: Gentoo<br>Flipper Length (mm): 214<br>Bill Length (mm): 40.9<br>Body Mass (g): 4650",
          "Species: Gentoo<br>Flipper Length (mm): 216<br>Bill Length (mm): 49<br>Body Mass (g): 5550",
          "Species: Gentoo<br>Flipper Length (mm): 214<br>Bill Length (mm): 45.5<br>Body Mass (g): 4650",
          "Species: Gentoo<br>Flipper Length (mm): 213<br>Bill Length (mm): 48.4<br>Body Mass (g): 5850",
          "Species: Gentoo<br>Flipper Length (mm): 210<br>Bill Length (mm): 45.8<br>Body Mass (g): 4200",
          "Species: Gentoo<br>Flipper Length (mm): 217<br>Bill Length (mm): 49.3<br>Body Mass (g): 5850",
          "Species: Gentoo<br>Flipper Length (mm): 210<br>Bill Length (mm): 42<br>Body Mass (g): 4150",
          "Species: Gentoo<br>Flipper Length (mm): 221<br>Bill Length (mm): 49.2<br>Body Mass (g): 6300",
          "Species: Gentoo<br>Flipper Length (mm): 209<br>Bill Length (mm): 46.2<br>Body Mass (g): 4800",
          "Species: Gentoo<br>Flipper Length (mm): 222<br>Bill Length (mm): 48.7<br>Body Mass (g): 5350",
          "Species: Gentoo<br>Flipper Length (mm): 218<br>Bill Length (mm): 50.2<br>Body Mass (g): 5700",
          "Species: Gentoo<br>Flipper Length (mm): 215<br>Bill Length (mm): 45.1<br>Body Mass (g): 5000",
          "Species: Gentoo<br>Flipper Length (mm): 213<br>Bill Length (mm): 46.5<br>Body Mass (g): 4400",
          "Species: Gentoo<br>Flipper Length (mm): 215<br>Bill Length (mm): 46.3<br>Body Mass (g): 5050",
          "Species: Gentoo<br>Flipper Length (mm): 215<br>Bill Length (mm): 42.9<br>Body Mass (g): 5000",
          "Species: Gentoo<br>Flipper Length (mm): 215<br>Bill Length (mm): 46.1<br>Body Mass (g): 5100",
          "Species: Gentoo<br>Flipper Length (mm): 216<br>Bill Length (mm): 44.5<br>Body Mass (g): 4100",
          "Species: Gentoo<br>Flipper Length (mm): 215<br>Bill Length (mm): 47.8<br>Body Mass (g): 5650",
          "Species: Gentoo<br>Flipper Length (mm): 210<br>Bill Length (mm): 48.2<br>Body Mass (g): 4600",
          "Species: Gentoo<br>Flipper Length (mm): 220<br>Bill Length (mm): 50<br>Body Mass (g): 5550",
          "Species: Gentoo<br>Flipper Length (mm): 222<br>Bill Length (mm): 47.3<br>Body Mass (g): 5250",
          "Species: Gentoo<br>Flipper Length (mm): 209<br>Bill Length (mm): 42.8<br>Body Mass (g): 4700",
          "Species: Gentoo<br>Flipper Length (mm): 207<br>Bill Length (mm): 45.1<br>Body Mass (g): 5050",
          "Species: Gentoo<br>Flipper Length (mm): 230<br>Bill Length (mm): 59.6<br>Body Mass (g): 6050",
          "Species: Gentoo<br>Flipper Length (mm): 220<br>Bill Length (mm): 49.1<br>Body Mass (g): 5150",
          "Species: Gentoo<br>Flipper Length (mm): 220<br>Bill Length (mm): 48.4<br>Body Mass (g): 5400",
          "Species: Gentoo<br>Flipper Length (mm): 213<br>Bill Length (mm): 42.6<br>Body Mass (g): 4950",
          "Species: Gentoo<br>Flipper Length (mm): 219<br>Bill Length (mm): 44.4<br>Body Mass (g): 5250",
          "Species: Gentoo<br>Flipper Length (mm): 208<br>Bill Length (mm): 44<br>Body Mass (g): 4350",
          "Species: Gentoo<br>Flipper Length (mm): 208<br>Bill Length (mm): 48.7<br>Body Mass (g): 5350",
          "Species: Gentoo<br>Flipper Length (mm): 208<br>Bill Length (mm): 42.7<br>Body Mass (g): 3950",
          "Species: Gentoo<br>Flipper Length (mm): 225<br>Bill Length (mm): 49.6<br>Body Mass (g): 5700",
          "Species: Gentoo<br>Flipper Length (mm): 210<br>Bill Length (mm): 45.3<br>Body Mass (g): 4300",
          "Species: Gentoo<br>Flipper Length (mm): 216<br>Bill Length (mm): 49.6<br>Body Mass (g): 4750",
          "Species: Gentoo<br>Flipper Length (mm): 222<br>Bill Length (mm): 50.5<br>Body Mass (g): 5550",
          "Species: Gentoo<br>Flipper Length (mm): 217<br>Bill Length (mm): 43.6<br>Body Mass (g): 4900",
          "Species: Gentoo<br>Flipper Length (mm): 210<br>Bill Length (mm): 45.5<br>Body Mass (g): 4200",
          "Species: Gentoo<br>Flipper Length (mm): 225<br>Bill Length (mm): 50.5<br>Body Mass (g): 5400",
          "Species: Gentoo<br>Flipper Length (mm): 213<br>Bill Length (mm): 44.9<br>Body Mass (g): 5100",
          "Species: Gentoo<br>Flipper Length (mm): 215<br>Bill Length (mm): 45.2<br>Body Mass (g): 5300",
          "Species: Gentoo<br>Flipper Length (mm): 210<br>Bill Length (mm): 46.6<br>Body Mass (g): 4850",
          "Species: Gentoo<br>Flipper Length (mm): 220<br>Bill Length (mm): 48.5<br>Body Mass (g): 5300",
          "Species: Gentoo<br>Flipper Length (mm): 210<br>Bill Length (mm): 45.1<br>Body Mass (g): 4400",
          "Species: Gentoo<br>Flipper Length (mm): 225<br>Bill Length (mm): 50.1<br>Body Mass (g): 5000",
          "Species: Gentoo<br>Flipper Length (mm): 217<br>Bill Length (mm): 46.5<br>Body Mass (g): 4900",
          "Species: Gentoo<br>Flipper Length (mm): 220<br>Bill Length (mm): 45<br>Body Mass (g): 5050",
          "Species: Gentoo<br>Flipper Length (mm): 208<br>Bill Length (mm): 43.8<br>Body Mass (g): 4300",
          "Species: Gentoo<br>Flipper Length (mm): 220<br>Bill Length (mm): 45.5<br>Body Mass (g): 5000",
          "Species: Gentoo<br>Flipper Length (mm): 208<br>Bill Length (mm): 43.2<br>Body Mass (g): 4450",
          "Species: Gentoo<br>Flipper Length (mm): 224<br>Bill Length (mm): 50.4<br>Body Mass (g): 5550",
          "Species: Gentoo<br>Flipper Length (mm): 208<br>Bill Length (mm): 45.3<br>Body Mass (g): 4200",
          "Species: Gentoo<br>Flipper Length (mm): 221<br>Bill Length (mm): 46.2<br>Body Mass (g): 5300",
          "Species: Gentoo<br>Flipper Length (mm): 214<br>Bill Length (mm): 45.7<br>Body Mass (g): 4400",
          "Species: Gentoo<br>Flipper Length (mm): 231<br>Bill Length (mm): 54.3<br>Body Mass (g): 5650",
          "Species: Gentoo<br>Flipper Length (mm): 219<br>Bill Length (mm): 45.8<br>Body Mass (g): 4700",
          "Species: Gentoo<br>Flipper Length (mm): 230<br>Bill Length (mm): 49.8<br>Body Mass (g): 5700",
          "Species: Gentoo<br>Flipper Length (mm): 214<br>Bill Length (mm): 46.2<br>Body Mass (g): 4650",
          "Species: Gentoo<br>Flipper Length (mm): 229<br>Bill Length (mm): 49.5<br>Body Mass (g): 5800",
          "Species: Gentoo<br>Flipper Length (mm): 220<br>Bill Length (mm): 43.5<br>Body Mass (g): 4700",
          "Species: Gentoo<br>Flipper Length (mm): 223<br>Bill Length (mm): 50.7<br>Body Mass (g): 5550",
          "Species: Gentoo<br>Flipper Length (mm): 216<br>Bill Length (mm): 47.7<br>Body Mass (g): 4750",
          "Species: Gentoo<br>Flipper Length (mm): 221<br>Bill Length (mm): 46.4<br>Body Mass (g): 5000",
          "Species: Gentoo<br>Flipper Length (mm): 221<br>Bill Length (mm): 48.2<br>Body Mass (g): 5100",
          "Species: Gentoo<br>Flipper Length (mm): 217<br>Bill Length (mm): 46.5<br>Body Mass (g): 5200",
          "Species: Gentoo<br>Flipper Length (mm): 216<br>Bill Length (mm): 46.4<br>Body Mass (g): 4700",
          "Species: Gentoo<br>Flipper Length (mm): 230<br>Bill Length (mm): 48.6<br>Body Mass (g): 5800",
          "Species: Gentoo<br>Flipper Length (mm): 209<br>Bill Length (mm): 47.5<br>Body Mass (g): 4600",
          "Species: Gentoo<br>Flipper Length (mm): 220<br>Bill Length (mm): 51.1<br>Body Mass (g): 6000",
          "Species: Gentoo<br>Flipper Length (mm): 215<br>Bill Length (mm): 45.2<br>Body Mass (g): 4750",
          "Species: Gentoo<br>Flipper Length (mm): 223<br>Bill Length (mm): 45.2<br>Body Mass (g): 5950",
          "Species: Gentoo<br>Flipper Length (mm): 212<br>Bill Length (mm): 49.1<br>Body Mass (g): 4625",
          "Species: Gentoo<br>Flipper Length (mm): 221<br>Bill Length (mm): 52.5<br>Body Mass (g): 5450",
          "Species: Gentoo<br>Flipper Length (mm): 212<br>Bill Length (mm): 47.4<br>Body Mass (g): 4725",
          "Species: Gentoo<br>Flipper Length (mm): 224<br>Bill Length (mm): 50<br>Body Mass (g): 5350",
          "Species: Gentoo<br>Flipper Length (mm): 212<br>Bill Length (mm): 44.9<br>Body Mass (g): 4750",
          "Species: Gentoo<br>Flipper Length (mm): 228<br>Bill Length (mm): 50.8<br>Body Mass (g): 5600",
          "Species: Gentoo<br>Flipper Length (mm): 218<br>Bill Length (mm): 43.4<br>Body Mass (g): 4600",
          "Species: Gentoo<br>Flipper Length (mm): 218<br>Bill Length (mm): 51.3<br>Body Mass (g): 5300",
          "Species: Gentoo<br>Flipper Length (mm): 212<br>Bill Length (mm): 47.5<br>Body Mass (g): 4875",
          "Species: Gentoo<br>Flipper Length (mm): 230<br>Bill Length (mm): 52.1<br>Body Mass (g): 5550",
          "Species: Gentoo<br>Flipper Length (mm): 218<br>Bill Length (mm): 47.5<br>Body Mass (g): 4950",
          "Species: Gentoo<br>Flipper Length (mm): 228<br>Bill Length (mm): 52.2<br>Body Mass (g): 5400",
          "Species: Gentoo<br>Flipper Length (mm): 212<br>Bill Length (mm): 45.5<br>Body Mass (g): 4750",
          "Species: Gentoo<br>Flipper Length (mm): 224<br>Bill Length (mm): 49.5<br>Body Mass (g): 5650",
          "Species: Gentoo<br>Flipper Length (mm): 214<br>Bill Length (mm): 44.5<br>Body Mass (g): 4850",
          "Species: Gentoo<br>Flipper Length (mm): 226<br>Bill Length (mm): 50.8<br>Body Mass (g): 5200",
          "Species: Gentoo<br>Flipper Length (mm): 216<br>Bill Length (mm): 49.4<br>Body Mass (g): 4925",
          "Species: Gentoo<br>Flipper Length (mm): 222<br>Bill Length (mm): 46.9<br>Body Mass (g): 4875",
          "Species: Gentoo<br>Flipper Length (mm): 203<br>Bill Length (mm): 48.4<br>Body Mass (g): 4625",
          "Species: Gentoo<br>Flipper Length (mm): 225<br>Bill Length (mm): 51.1<br>Body Mass (g): 5250",
          "Species: Gentoo<br>Flipper Length (mm): 219<br>Bill Length (mm): 48.5<br>Body Mass (g): 4850",
          "Species: Gentoo<br>Flipper Length (mm): 228<br>Bill Length (mm): 55.9<br>Body Mass (g): 5600",
          "Species: Gentoo<br>Flipper Length (mm): 215<br>Bill Length (mm): 47.2<br>Body Mass (g): 4975",
          "Species: Gentoo<br>Flipper Length (mm): 228<br>Bill Length (mm): 49.1<br>Body Mass (g): 5500",
          "Species: Gentoo<br>Flipper Length (mm): 216<br>Bill Length (mm): 47.3<br>Body Mass (g): 4725",
          "Species: Gentoo<br>Flipper Length (mm): 215<br>Bill Length (mm): 46.8<br>Body Mass (g): 5500",
          "Species: Gentoo<br>Flipper Length (mm): 210<br>Bill Length (mm): 41.7<br>Body Mass (g): 4700",
          "Species: Gentoo<br>Flipper Length (mm): 219<br>Bill Length (mm): 53.4<br>Body Mass (g): 5500",
          "Species: Gentoo<br>Flipper Length (mm): 208<br>Bill Length (mm): 43.3<br>Body Mass (g): 4575",
          "Species: Gentoo<br>Flipper Length (mm): 209<br>Bill Length (mm): 48.1<br>Body Mass (g): 5500",
          "Species: Gentoo<br>Flipper Length (mm): 216<br>Bill Length (mm): 50.5<br>Body Mass (g): 5000",
          "Species: Gentoo<br>Flipper Length (mm): 229<br>Bill Length (mm): 49.8<br>Body Mass (g): 5950",
          "Species: Gentoo<br>Flipper Length (mm): 213<br>Bill Length (mm): 43.5<br>Body Mass (g): 4650",
          "Species: Gentoo<br>Flipper Length (mm): 230<br>Bill Length (mm): 51.5<br>Body Mass (g): 5500",
          "Species: Gentoo<br>Flipper Length (mm): 217<br>Bill Length (mm): 46.2<br>Body Mass (g): 4375",
          "Species: Gentoo<br>Flipper Length (mm): 230<br>Bill Length (mm): 55.1<br>Body Mass (g): 5850",
          "Species: Gentoo<br>Flipper Length (mm): 217<br>Bill Length (mm): 44.5<br>Body Mass (g): 4875",
          "Species: Gentoo<br>Flipper Length (mm): 222<br>Bill Length (mm): 48.8<br>Body Mass (g): 6000",
          "Species: Gentoo<br>Flipper Length (mm): 214<br>Bill Length (mm): 47.2<br>Body Mass (g): 4925",
          "Species: Gentoo<br>Flipper Length (mm): NA<br>Bill Length (mm): NA<br>Body Mass (g): NA",
          "Species: Gentoo<br>Flipper Length (mm): 215<br>Bill Length (mm): 46.8<br>Body Mass (g): 4850",
          "Species: Gentoo<br>Flipper Length (mm): 222<br>Bill Length (mm): 50.4<br>Body Mass (g): 5750",
          "Species: Gentoo<br>Flipper Length (mm): 212<br>Bill Length (mm): 45.2<br>Body Mass (g): 5200",
          "Species: Gentoo<br>Flipper Length (mm): 213<br>Bill Length (mm): 49.9<br>Body Mass (g): 5400",
          "Species: Chinstrap<br>Flipper Length (mm): 192<br>Bill Length (mm): 46.5<br>Body Mass (g): 3500",
          "Species: Chinstrap<br>Flipper Length (mm): 196<br>Bill Length (mm): 50<br>Body Mass (g): 3900",
          "Species: Chinstrap<br>Flipper Length (mm): 193<br>Bill Length (mm): 51.3<br>Body Mass (g): 3650",
          "Species: Chinstrap<br>Flipper Length (mm): 188<br>Bill Length (mm): 45.4<br>Body Mass (g): 3525",
          "Species: Chinstrap<br>Flipper Length (mm): 197<br>Bill Length (mm): 52.7<br>Body Mass (g): 3725",
          "Species: Chinstrap<br>Flipper Length (mm): 198<br>Bill Length (mm): 45.2<br>Body Mass (g): 3950",
          "Species: Chinstrap<br>Flipper Length (mm): 178<br>Bill Length (mm): 46.1<br>Body Mass (g): 3250",
          "Species: Chinstrap<br>Flipper Length (mm): 197<br>Bill Length (mm): 51.3<br>Body Mass (g): 3750",
          "Species: Chinstrap<br>Flipper Length (mm): 195<br>Bill Length (mm): 46<br>Body Mass (g): 4150",
          "Species: Chinstrap<br>Flipper Length (mm): 198<br>Bill Length (mm): 51.3<br>Body Mass (g): 3700",
          "Species: Chinstrap<br>Flipper Length (mm): 193<br>Bill Length (mm): 46.6<br>Body Mass (g): 3800",
          "Species: Chinstrap<br>Flipper Length (mm): 194<br>Bill Length (mm): 51.7<br>Body Mass (g): 3775",
          "Species: Chinstrap<br>Flipper Length (mm): 185<br>Bill Length (mm): 47<br>Body Mass (g): 3700",
          "Species: Chinstrap<br>Flipper Length (mm): 201<br>Bill Length (mm): 52<br>Body Mass (g): 4050",
          "Species: Chinstrap<br>Flipper Length (mm): 190<br>Bill Length (mm): 45.9<br>Body Mass (g): 3575",
          "Species: Chinstrap<br>Flipper Length (mm): 201<br>Bill Length (mm): 50.5<br>Body Mass (g): 4050",
          "Species: Chinstrap<br>Flipper Length (mm): 197<br>Bill Length (mm): 50.3<br>Body Mass (g): 3300",
          "Species: Chinstrap<br>Flipper Length (mm): 181<br>Bill Length (mm): 58<br>Body Mass (g): 3700",
          "Species: Chinstrap<br>Flipper Length (mm): 190<br>Bill Length (mm): 46.4<br>Body Mass (g): 3450",
          "Species: Chinstrap<br>Flipper Length (mm): 195<br>Bill Length (mm): 49.2<br>Body Mass (g): 4400",
          "Species: Chinstrap<br>Flipper Length (mm): 181<br>Bill Length (mm): 42.4<br>Body Mass (g): 3600",
          "Species: Chinstrap<br>Flipper Length (mm): 191<br>Bill Length (mm): 48.5<br>Body Mass (g): 3400",
          "Species: Chinstrap<br>Flipper Length (mm): 187<br>Bill Length (mm): 43.2<br>Body Mass (g): 2900",
          "Species: Chinstrap<br>Flipper Length (mm): 193<br>Bill Length (mm): 50.6<br>Body Mass (g): 3800",
          "Species: Chinstrap<br>Flipper Length (mm): 195<br>Bill Length (mm): 46.7<br>Body Mass (g): 3300",
          "Species: Chinstrap<br>Flipper Length (mm): 197<br>Bill Length (mm): 52<br>Body Mass (g): 4150",
          "Species: Chinstrap<br>Flipper Length (mm): 200<br>Bill Length (mm): 50.5<br>Body Mass (g): 3400",
          "Species: Chinstrap<br>Flipper Length (mm): 200<br>Bill Length (mm): 49.5<br>Body Mass (g): 3800",
          "Species: Chinstrap<br>Flipper Length (mm): 191<br>Bill Length (mm): 46.4<br>Body Mass (g): 3700",
          "Species: Chinstrap<br>Flipper Length (mm): 205<br>Bill Length (mm): 52.8<br>Body Mass (g): 4550",
          "Species: Chinstrap<br>Flipper Length (mm): 187<br>Bill Length (mm): 40.9<br>Body Mass (g): 3200",
          "Species: Chinstrap<br>Flipper Length (mm): 201<br>Bill Length (mm): 54.2<br>Body Mass (g): 4300",
          "Species: Chinstrap<br>Flipper Length (mm): 187<br>Bill Length (mm): 42.5<br>Body Mass (g): 3350",
          "Species: Chinstrap<br>Flipper Length (mm): 203<br>Bill Length (mm): 51<br>Body Mass (g): 4100",
          "Species: Chinstrap<br>Flipper Length (mm): 195<br>Bill Length (mm): 49.7<br>Body Mass (g): 3600",
          "Species: Chinstrap<br>Flipper Length (mm): 199<br>Bill Length (mm): 47.5<br>Body Mass (g): 3900",
          "Species: Chinstrap<br>Flipper Length (mm): 195<br>Bill Length (mm): 47.6<br>Body Mass (g): 3850",
          "Species: Chinstrap<br>Flipper Length (mm): 210<br>Bill Length (mm): 52<br>Body Mass (g): 4800",
          "Species: Chinstrap<br>Flipper Length (mm): 192<br>Bill Length (mm): 46.9<br>Body Mass (g): 2700",
          "Species: Chinstrap<br>Flipper Length (mm): 205<br>Bill Length (mm): 53.5<br>Body Mass (g): 4500",
          "Species: Chinstrap<br>Flipper Length (mm): 210<br>Bill Length (mm): 49<br>Body Mass (g): 3950",
          "Species: Chinstrap<br>Flipper Length (mm): 187<br>Bill Length (mm): 46.2<br>Body Mass (g): 3650",
          "Species: Chinstrap<br>Flipper Length (mm): 196<br>Bill Length (mm): 50.9<br>Body Mass (g): 3550",
          "Species: Chinstrap<br>Flipper Length (mm): 196<br>Bill Length (mm): 45.5<br>Body Mass (g): 3500",
          "Species: Chinstrap<br>Flipper Length (mm): 196<br>Bill Length (mm): 50.9<br>Body Mass (g): 3675",
          "Species: Chinstrap<br>Flipper Length (mm): 201<br>Bill Length (mm): 50.8<br>Body Mass (g): 4450",
          "Species: Chinstrap<br>Flipper Length (mm): 190<br>Bill Length (mm): 50.1<br>Body Mass (g): 3400",
          "Species: Chinstrap<br>Flipper Length (mm): 212<br>Bill Length (mm): 49<br>Body Mass (g): 4300",
          "Species: Chinstrap<br>Flipper Length (mm): 187<br>Bill Length (mm): 51.5<br>Body Mass (g): 3250",
          "Species: Chinstrap<br>Flipper Length (mm): 198<br>Bill Length (mm): 49.8<br>Body Mass (g): 3675",
          "Species: Chinstrap<br>Flipper Length (mm): 199<br>Bill Length (mm): 48.1<br>Body Mass (g): 3325",
          "Species: Chinstrap<br>Flipper Length (mm): 201<br>Bill Length (mm): 51.4<br>Body Mass (g): 3950",
          "Species: Chinstrap<br>Flipper Length (mm): 193<br>Bill Length (mm): 45.7<br>Body Mass (g): 3600",
          "Species: Chinstrap<br>Flipper Length (mm): 203<br>Bill Length (mm): 50.7<br>Body Mass (g): 4050",
          "Species: Chinstrap<br>Flipper Length (mm): 187<br>Bill Length (mm): 42.5<br>Body Mass (g): 3350",
          "Species: Chinstrap<br>Flipper Length (mm): 197<br>Bill Length (mm): 52.2<br>Body Mass (g): 3450",
          "Species: Chinstrap<br>Flipper Length (mm): 191<br>Bill Length (mm): 45.2<br>Body Mass (g): 3250",
          "Species: Chinstrap<br>Flipper Length (mm): 203<br>Bill Length (mm): 49.3<br>Body Mass (g): 4050",
          "Species: Chinstrap<br>Flipper Length (mm): 202<br>Bill Length (mm): 50.2<br>Body Mass (g): 3800",
          "Species: Chinstrap<br>Flipper Length (mm): 194<br>Bill Length (mm): 45.6<br>Body Mass (g): 3525",
          "Species: Chinstrap<br>Flipper Length (mm): 206<br>Bill Length (mm): 51.9<br>Body Mass (g): 3950",
          "Species: Chinstrap<br>Flipper Length (mm): 189<br>Bill Length (mm): 46.8<br>Body Mass (g): 3650",
          "Species: Chinstrap<br>Flipper Length (mm): 195<br>Bill Length (mm): 45.7<br>Body Mass (g): 3650",
          "Species: Chinstrap<br>Flipper Length (mm): 207<br>Bill Length (mm): 55.8<br>Body Mass (g): 4000",
          "Species: Chinstrap<br>Flipper Length (mm): 202<br>Bill Length (mm): 43.5<br>Body Mass (g): 3400",
          "Species: Chinstrap<br>Flipper Length (mm): 193<br>Bill Length (mm): 49.6<br>Body Mass (g): 3775",
          "Species: Chinstrap<br>Flipper Length (mm): 210<br>Bill Length (mm): 50.8<br>Body Mass (g): 4100",
          "Species: Chinstrap<br>Flipper Length (mm): 198<br>Bill Length (mm): 50.2<br>Body Mass (g): 3775"
         ],
         "type": "scatter3d",
         "x": [
          "181",
          "186",
          "195",
          "NA",
          "193",
          "190",
          "181",
          "195",
          "193",
          "190",
          "186",
          "180",
          "182",
          "191",
          "198",
          "185",
          "195",
          "197",
          "184",
          "194",
          "174",
          "180",
          "189",
          "185",
          "180",
          "187",
          "183",
          "187",
          "172",
          "180",
          "178",
          "178",
          "188",
          "184",
          "195",
          "196",
          "190",
          "180",
          "181",
          "184",
          "182",
          "195",
          "186",
          "196",
          "185",
          "190",
          "182",
          "179",
          "190",
          "191",
          "186",
          "188",
          "190",
          "200",
          "187",
          "191",
          "186",
          "193",
          "181",
          "194",
          "185",
          "195",
          "185",
          "192",
          "184",
          "192",
          "195",
          "188",
          "190",
          "198",
          "190",
          "190",
          "196",
          "197",
          "190",
          "195",
          "191",
          "184",
          "187",
          "195",
          "189",
          "196",
          "187",
          "193",
          "191",
          "194",
          "190",
          "189",
          "189",
          "190",
          "202",
          "205",
          "185",
          "186",
          "187",
          "208",
          "190",
          "196",
          "178",
          "192",
          "192",
          "203",
          "183",
          "190",
          "193",
          "184",
          "199",
          "190",
          "181",
          "197",
          "198",
          "191",
          "193",
          "197",
          "191",
          "196",
          "188",
          "199",
          "189",
          "189",
          "187",
          "198",
          "176",
          "202",
          "186",
          "199",
          "191",
          "195",
          "191",
          "210",
          "190",
          "197",
          "193",
          "199",
          "187",
          "190",
          "191",
          "200",
          "185",
          "193",
          "193",
          "187",
          "188",
          "190",
          "192",
          "185",
          "190",
          "184",
          "195",
          "193",
          "187",
          "201",
          "211",
          "230",
          "210",
          "218",
          "215",
          "210",
          "211",
          "219",
          "209",
          "215",
          "214",
          "216",
          "214",
          "213",
          "210",
          "217",
          "210",
          "221",
          "209",
          "222",
          "218",
          "215",
          "213",
          "215",
          "215",
          "215",
          "216",
          "215",
          "210",
          "220",
          "222",
          "209",
          "207",
          "230",
          "220",
          "220",
          "213",
          "219",
          "208",
          "208",
          "208",
          "225",
          "210",
          "216",
          "222",
          "217",
          "210",
          "225",
          "213",
          "215",
          "210",
          "220",
          "210",
          "225",
          "217",
          "220",
          "208",
          "220",
          "208",
          "224",
          "208",
          "221",
          "214",
          "231",
          "219",
          "230",
          "214",
          "229",
          "220",
          "223",
          "216",
          "221",
          "221",
          "217",
          "216",
          "230",
          "209",
          "220",
          "215",
          "223",
          "212",
          "221",
          "212",
          "224",
          "212",
          "228",
          "218",
          "218",
          "212",
          "230",
          "218",
          "228",
          "212",
          "224",
          "214",
          "226",
          "216",
          "222",
          "203",
          "225",
          "219",
          "228",
          "215",
          "228",
          "216",
          "215",
          "210",
          "219",
          "208",
          "209",
          "216",
          "229",
          "213",
          "230",
          "217",
          "230",
          "217",
          "222",
          "214",
          "NA",
          "215",
          "222",
          "212",
          "213",
          "192",
          "196",
          "193",
          "188",
          "197",
          "198",
          "178",
          "197",
          "195",
          "198",
          "193",
          "194",
          "185",
          "201",
          "190",
          "201",
          "197",
          "181",
          "190",
          "195",
          "181",
          "191",
          "187",
          "193",
          "195",
          "197",
          "200",
          "200",
          "191",
          "205",
          "187",
          "201",
          "187",
          "203",
          "195",
          "199",
          "195",
          "210",
          "192",
          "205",
          "210",
          "187",
          "196",
          "196",
          "196",
          "201",
          "190",
          "212",
          "187",
          "198",
          "199",
          "201",
          "193",
          "203",
          "187",
          "197",
          "191",
          "203",
          "202",
          "194",
          "206",
          "189",
          "195",
          "207",
          "202",
          "193",
          "210",
          "198"
         ],
         "y": [
          "39.1",
          "39.5",
          "40.3",
          "NA",
          "36.7",
          "39.3",
          "38.9",
          "39.2",
          "34.1",
          "42",
          "37.8",
          "37.8",
          "41.1",
          "38.6",
          "34.6",
          "36.6",
          "38.7",
          "42.5",
          "34.4",
          "46",
          "37.8",
          "37.7",
          "35.9",
          "38.2",
          "38.8",
          "35.3",
          "40.6",
          "40.5",
          "37.9",
          "40.5",
          "39.5",
          "37.2",
          "39.5",
          "40.9",
          "36.4",
          "39.2",
          "38.8",
          "42.2",
          "37.6",
          "39.8",
          "36.5",
          "40.8",
          "36",
          "44.1",
          "37",
          "39.6",
          "41.1",
          "37.5",
          "36",
          "42.3",
          "39.6",
          "40.1",
          "35",
          "42",
          "34.5",
          "41.4",
          "39",
          "40.6",
          "36.5",
          "37.6",
          "35.7",
          "41.3",
          "37.6",
          "41.1",
          "36.4",
          "41.6",
          "35.5",
          "41.1",
          "35.9",
          "41.8",
          "33.5",
          "39.7",
          "39.6",
          "45.8",
          "35.5",
          "42.8",
          "40.9",
          "37.2",
          "36.2",
          "42.1",
          "34.6",
          "42.9",
          "36.7",
          "35.1",
          "37.3",
          "41.3",
          "36.3",
          "36.9",
          "38.3",
          "38.9",
          "35.7",
          "41.1",
          "34",
          "39.6",
          "36.2",
          "40.8",
          "38.1",
          "40.3",
          "33.1",
          "43.2",
          "35",
          "41",
          "37.7",
          "37.8",
          "37.9",
          "39.7",
          "38.6",
          "38.2",
          "38.1",
          "43.2",
          "38.1",
          "45.6",
          "39.7",
          "42.2",
          "39.6",
          "42.7",
          "38.6",
          "37.3",
          "35.7",
          "41.1",
          "36.2",
          "37.7",
          "40.2",
          "41.4",
          "35.2",
          "40.6",
          "38.8",
          "41.5",
          "39",
          "44.1",
          "38.5",
          "43.1",
          "36.8",
          "37.5",
          "38.1",
          "41.1",
          "35.6",
          "40.2",
          "37",
          "39.7",
          "40.2",
          "40.6",
          "32.1",
          "40.7",
          "37.3",
          "39",
          "39.2",
          "36.6",
          "36",
          "37.8",
          "36",
          "41.5",
          "46.1",
          "50",
          "48.7",
          "50",
          "47.6",
          "46.5",
          "45.4",
          "46.7",
          "43.3",
          "46.8",
          "40.9",
          "49",
          "45.5",
          "48.4",
          "45.8",
          "49.3",
          "42",
          "49.2",
          "46.2",
          "48.7",
          "50.2",
          "45.1",
          "46.5",
          "46.3",
          "42.9",
          "46.1",
          "44.5",
          "47.8",
          "48.2",
          "50",
          "47.3",
          "42.8",
          "45.1",
          "59.6",
          "49.1",
          "48.4",
          "42.6",
          "44.4",
          "44",
          "48.7",
          "42.7",
          "49.6",
          "45.3",
          "49.6",
          "50.5",
          "43.6",
          "45.5",
          "50.5",
          "44.9",
          "45.2",
          "46.6",
          "48.5",
          "45.1",
          "50.1",
          "46.5",
          "45",
          "43.8",
          "45.5",
          "43.2",
          "50.4",
          "45.3",
          "46.2",
          "45.7",
          "54.3",
          "45.8",
          "49.8",
          "46.2",
          "49.5",
          "43.5",
          "50.7",
          "47.7",
          "46.4",
          "48.2",
          "46.5",
          "46.4",
          "48.6",
          "47.5",
          "51.1",
          "45.2",
          "45.2",
          "49.1",
          "52.5",
          "47.4",
          "50",
          "44.9",
          "50.8",
          "43.4",
          "51.3",
          "47.5",
          "52.1",
          "47.5",
          "52.2",
          "45.5",
          "49.5",
          "44.5",
          "50.8",
          "49.4",
          "46.9",
          "48.4",
          "51.1",
          "48.5",
          "55.9",
          "47.2",
          "49.1",
          "47.3",
          "46.8",
          "41.7",
          "53.4",
          "43.3",
          "48.1",
          "50.5",
          "49.8",
          "43.5",
          "51.5",
          "46.2",
          "55.1",
          "44.5",
          "48.8",
          "47.2",
          "NA",
          "46.8",
          "50.4",
          "45.2",
          "49.9",
          "46.5",
          "50",
          "51.3",
          "45.4",
          "52.7",
          "45.2",
          "46.1",
          "51.3",
          "46",
          "51.3",
          "46.6",
          "51.7",
          "47",
          "52",
          "45.9",
          "50.5",
          "50.3",
          "58",
          "46.4",
          "49.2",
          "42.4",
          "48.5",
          "43.2",
          "50.6",
          "46.7",
          "52",
          "50.5",
          "49.5",
          "46.4",
          "52.8",
          "40.9",
          "54.2",
          "42.5",
          "51",
          "49.7",
          "47.5",
          "47.6",
          "52",
          "46.9",
          "53.5",
          "49",
          "46.2",
          "50.9",
          "45.5",
          "50.9",
          "50.8",
          "50.1",
          "49",
          "51.5",
          "49.8",
          "48.1",
          "51.4",
          "45.7",
          "50.7",
          "42.5",
          "52.2",
          "45.2",
          "49.3",
          "50.2",
          "45.6",
          "51.9",
          "46.8",
          "45.7",
          "55.8",
          "43.5",
          "49.6",
          "50.8",
          "50.2"
         ],
         "z": [
          "3750",
          "3800",
          "3250",
          "NA",
          "3450",
          "3650",
          "3625",
          "4675",
          "3475",
          "4250",
          "3300",
          "3700",
          "3200",
          "3800",
          "4400",
          "3700",
          "3450",
          "4500",
          "3325",
          "4200",
          "3400",
          "3600",
          "3800",
          "3950",
          "3800",
          "3800",
          "3550",
          "3200",
          "3150",
          "3950",
          "3250",
          "3900",
          "3300",
          "3900",
          "3325",
          "4150",
          "3950",
          "3550",
          "3300",
          "4650",
          "3150",
          "3900",
          "3100",
          "4400",
          "3000",
          "4600",
          "3425",
          "2975",
          "3450",
          "4150",
          "3500",
          "4300",
          "3450",
          "4050",
          "2900",
          "3700",
          "3550",
          "3800",
          "2850",
          "3750",
          "3150",
          "4400",
          "3600",
          "4050",
          "2850",
          "3950",
          "3350",
          "4100",
          "3050",
          "4450",
          "3600",
          "3900",
          "3550",
          "4150",
          "3700",
          "4250",
          "3700",
          "3900",
          "3550",
          "4000",
          "3200",
          "4700",
          "3800",
          "4200",
          "3350",
          "3550",
          "3800",
          "3500",
          "3950",
          "3600",
          "3550",
          "4300",
          "3400",
          "4450",
          "3300",
          "4300",
          "3700",
          "4350",
          "2900",
          "4100",
          "3725",
          "4725",
          "3075",
          "4250",
          "2925",
          "3550",
          "3750",
          "3900",
          "3175",
          "4775",
          "3825",
          "4600",
          "3200",
          "4275",
          "3900",
          "4075",
          "2900",
          "3775",
          "3350",
          "3325",
          "3150",
          "3500",
          "3450",
          "3875",
          "3050",
          "4000",
          "3275",
          "4300",
          "3050",
          "4000",
          "3325",
          "3500",
          "3500",
          "4475",
          "3425",
          "3900",
          "3175",
          "3975",
          "3400",
          "4250",
          "3400",
          "3475",
          "3050",
          "3725",
          "3000",
          "3650",
          "4250",
          "3475",
          "3450",
          "3750",
          "3700",
          "4000",
          "4500",
          "5700",
          "4450",
          "5700",
          "5400",
          "4550",
          "4800",
          "5200",
          "4400",
          "5150",
          "4650",
          "5550",
          "4650",
          "5850",
          "4200",
          "5850",
          "4150",
          "6300",
          "4800",
          "5350",
          "5700",
          "5000",
          "4400",
          "5050",
          "5000",
          "5100",
          "4100",
          "5650",
          "4600",
          "5550",
          "5250",
          "4700",
          "5050",
          "6050",
          "5150",
          "5400",
          "4950",
          "5250",
          "4350",
          "5350",
          "3950",
          "5700",
          "4300",
          "4750",
          "5550",
          "4900",
          "4200",
          "5400",
          "5100",
          "5300",
          "4850",
          "5300",
          "4400",
          "5000",
          "4900",
          "5050",
          "4300",
          "5000",
          "4450",
          "5550",
          "4200",
          "5300",
          "4400",
          "5650",
          "4700",
          "5700",
          "4650",
          "5800",
          "4700",
          "5550",
          "4750",
          "5000",
          "5100",
          "5200",
          "4700",
          "5800",
          "4600",
          "6000",
          "4750",
          "5950",
          "4625",
          "5450",
          "4725",
          "5350",
          "4750",
          "5600",
          "4600",
          "5300",
          "4875",
          "5550",
          "4950",
          "5400",
          "4750",
          "5650",
          "4850",
          "5200",
          "4925",
          "4875",
          "4625",
          "5250",
          "4850",
          "5600",
          "4975",
          "5500",
          "4725",
          "5500",
          "4700",
          "5500",
          "4575",
          "5500",
          "5000",
          "5950",
          "4650",
          "5500",
          "4375",
          "5850",
          "4875",
          "6000",
          "4925",
          "NA",
          "4850",
          "5750",
          "5200",
          "5400",
          "3500",
          "3900",
          "3650",
          "3525",
          "3725",
          "3950",
          "3250",
          "3750",
          "4150",
          "3700",
          "3800",
          "3775",
          "3700",
          "4050",
          "3575",
          "4050",
          "3300",
          "3700",
          "3450",
          "4400",
          "3600",
          "3400",
          "2900",
          "3800",
          "3300",
          "4150",
          "3400",
          "3800",
          "3700",
          "4550",
          "3200",
          "4300",
          "3350",
          "4100",
          "3600",
          "3900",
          "3850",
          "4800",
          "2700",
          "4500",
          "3950",
          "3650",
          "3550",
          "3500",
          "3675",
          "4450",
          "3400",
          "4300",
          "3250",
          "3675",
          "3325",
          "3950",
          "3600",
          "4050",
          "3350",
          "3450",
          "3250",
          "4050",
          "3800",
          "3525",
          "3950",
          "3650",
          "3650",
          "4000",
          "3400",
          "3775",
          "4100",
          "3775"
         ]
        }
       ],
       "frames": [],
       "layout": {
        "autosize": true,
        "legend": {
         "title": {
          "text": "Species"
         }
        },
        "margin": {
         "b": 50,
         "l": 50,
         "r": 50,
         "t": 60
        },
        "scene": {
         "aspectmode": "auto",
         "aspectratio": {
          "x": 0.5811004687685175,
          "y": 1.7327359432370337,
          "z": 0.9931535284407389
         },
         "camera": {
          "center": {
           "x": 0,
           "y": 0,
           "z": 0
          },
          "eye": {
           "x": -0.8944080392499254,
           "y": -1.4061585908391534,
           "z": 0.7822852904695972
          },
          "projection": {
           "type": "perspective"
          },
          "up": {
           "x": 0,
           "y": 0,
           "z": 1
          }
         },
         "xaxis": {
          "title": {
           "text": "Flipper Length (mm)"
          },
          "type": "category"
         },
         "yaxis": {
          "title": {
           "text": "Bill Length (mm)"
          },
          "type": "category"
         },
         "zaxis": {
          "title": {
           "text": "Body Mass (g)"
          },
          "type": "category"
         }
        },
        "template": {
         "data": {
          "bar": [
           {
            "error_x": {
             "color": "#2a3f5f"
            },
            "error_y": {
             "color": "#2a3f5f"
            },
            "marker": {
             "line": {
              "color": "#E5ECF6",
              "width": 0.5
             }
            },
            "type": "bar"
           }
          ],
          "barpolar": [
           {
            "marker": {
             "line": {
              "color": "#E5ECF6",
              "width": 0.5
             }
            },
            "type": "barpolar"
           }
          ],
          "carpet": [
           {
            "aaxis": {
             "endlinecolor": "#2a3f5f",
             "gridcolor": "white",
             "linecolor": "white",
             "minorgridcolor": "white",
             "startlinecolor": "#2a3f5f"
            },
            "baxis": {
             "endlinecolor": "#2a3f5f",
             "gridcolor": "white",
             "linecolor": "white",
             "minorgridcolor": "white",
             "startlinecolor": "#2a3f5f"
            },
            "type": "carpet"
           }
          ],
          "choropleth": [
           {
            "colorbar": {
             "outlinewidth": 0,
             "ticks": ""
            },
            "type": "choropleth"
           }
          ],
          "contour": [
           {
            "colorbar": {
             "outlinewidth": 0,
             "ticks": ""
            },
            "colorscale": [
             [
              0,
              "#0d0887"
             ],
             [
              0.1111111111111111,
              "#46039f"
             ],
             [
              0.2222222222222222,
              "#7201a8"
             ],
             [
              0.3333333333333333,
              "#9c179e"
             ],
             [
              0.4444444444444444,
              "#bd3786"
             ],
             [
              0.5555555555555556,
              "#d8576b"
             ],
             [
              0.6666666666666666,
              "#ed7953"
             ],
             [
              0.7777777777777778,
              "#fb9f3a"
             ],
             [
              0.8888888888888888,
              "#fdca26"
             ],
             [
              1,
              "#f0f921"
             ]
            ],
            "type": "contour"
           }
          ],
          "contourcarpet": [
           {
            "colorbar": {
             "outlinewidth": 0,
             "ticks": ""
            },
            "type": "contourcarpet"
           }
          ],
          "heatmap": [
           {
            "colorbar": {
             "outlinewidth": 0,
             "ticks": ""
            },
            "colorscale": [
             [
              0,
              "#0d0887"
             ],
             [
              0.1111111111111111,
              "#46039f"
             ],
             [
              0.2222222222222222,
              "#7201a8"
             ],
             [
              0.3333333333333333,
              "#9c179e"
             ],
             [
              0.4444444444444444,
              "#bd3786"
             ],
             [
              0.5555555555555556,
              "#d8576b"
             ],
             [
              0.6666666666666666,
              "#ed7953"
             ],
             [
              0.7777777777777778,
              "#fb9f3a"
             ],
             [
              0.8888888888888888,
              "#fdca26"
             ],
             [
              1,
              "#f0f921"
             ]
            ],
            "type": "heatmap"
           }
          ],
          "heatmapgl": [
           {
            "colorbar": {
             "outlinewidth": 0,
             "ticks": ""
            },
            "colorscale": [
             [
              0,
              "#0d0887"
             ],
             [
              0.1111111111111111,
              "#46039f"
             ],
             [
              0.2222222222222222,
              "#7201a8"
             ],
             [
              0.3333333333333333,
              "#9c179e"
             ],
             [
              0.4444444444444444,
              "#bd3786"
             ],
             [
              0.5555555555555556,
              "#d8576b"
             ],
             [
              0.6666666666666666,
              "#ed7953"
             ],
             [
              0.7777777777777778,
              "#fb9f3a"
             ],
             [
              0.8888888888888888,
              "#fdca26"
             ],
             [
              1,
              "#f0f921"
             ]
            ],
            "type": "heatmapgl"
           }
          ],
          "histogram": [
           {
            "marker": {
             "colorbar": {
              "outlinewidth": 0,
              "ticks": ""
             }
            },
            "type": "histogram"
           }
          ],
          "histogram2d": [
           {
            "colorbar": {
             "outlinewidth": 0,
             "ticks": ""
            },
            "colorscale": [
             [
              0,
              "#0d0887"
             ],
             [
              0.1111111111111111,
              "#46039f"
             ],
             [
              0.2222222222222222,
              "#7201a8"
             ],
             [
              0.3333333333333333,
              "#9c179e"
             ],
             [
              0.4444444444444444,
              "#bd3786"
             ],
             [
              0.5555555555555556,
              "#d8576b"
             ],
             [
              0.6666666666666666,
              "#ed7953"
             ],
             [
              0.7777777777777778,
              "#fb9f3a"
             ],
             [
              0.8888888888888888,
              "#fdca26"
             ],
             [
              1,
              "#f0f921"
             ]
            ],
            "type": "histogram2d"
           }
          ],
          "histogram2dcontour": [
           {
            "colorbar": {
             "outlinewidth": 0,
             "ticks": ""
            },
            "colorscale": [
             [
              0,
              "#0d0887"
             ],
             [
              0.1111111111111111,
              "#46039f"
             ],
             [
              0.2222222222222222,
              "#7201a8"
             ],
             [
              0.3333333333333333,
              "#9c179e"
             ],
             [
              0.4444444444444444,
              "#bd3786"
             ],
             [
              0.5555555555555556,
              "#d8576b"
             ],
             [
              0.6666666666666666,
              "#ed7953"
             ],
             [
              0.7777777777777778,
              "#fb9f3a"
             ],
             [
              0.8888888888888888,
              "#fdca26"
             ],
             [
              1,
              "#f0f921"
             ]
            ],
            "type": "histogram2dcontour"
           }
          ],
          "mesh3d": [
           {
            "colorbar": {
             "outlinewidth": 0,
             "ticks": ""
            },
            "type": "mesh3d"
           }
          ],
          "parcoords": [
           {
            "line": {
             "colorbar": {
              "outlinewidth": 0,
              "ticks": ""
             }
            },
            "type": "parcoords"
           }
          ],
          "pie": [
           {
            "automargin": true,
            "type": "pie"
           }
          ],
          "scatter": [
           {
            "marker": {
             "colorbar": {
              "outlinewidth": 0,
              "ticks": ""
             }
            },
            "type": "scatter"
           }
          ],
          "scatter3d": [
           {
            "line": {
             "colorbar": {
              "outlinewidth": 0,
              "ticks": ""
             }
            },
            "marker": {
             "colorbar": {
              "outlinewidth": 0,
              "ticks": ""
             }
            },
            "type": "scatter3d"
           }
          ],
          "scattercarpet": [
           {
            "marker": {
             "colorbar": {
              "outlinewidth": 0,
              "ticks": ""
             }
            },
            "type": "scattercarpet"
           }
          ],
          "scattergeo": [
           {
            "marker": {
             "colorbar": {
              "outlinewidth": 0,
              "ticks": ""
             }
            },
            "type": "scattergeo"
           }
          ],
          "scattergl": [
           {
            "marker": {
             "colorbar": {
              "outlinewidth": 0,
              "ticks": ""
             }
            },
            "type": "scattergl"
           }
          ],
          "scattermapbox": [
           {
            "marker": {
             "colorbar": {
              "outlinewidth": 0,
              "ticks": ""
             }
            },
            "type": "scattermapbox"
           }
          ],
          "scatterpolar": [
           {
            "marker": {
             "colorbar": {
              "outlinewidth": 0,
              "ticks": ""
             }
            },
            "type": "scatterpolar"
           }
          ],
          "scatterpolargl": [
           {
            "marker": {
             "colorbar": {
              "outlinewidth": 0,
              "ticks": ""
             }
            },
            "type": "scatterpolargl"
           }
          ],
          "scatterternary": [
           {
            "marker": {
             "colorbar": {
              "outlinewidth": 0,
              "ticks": ""
             }
            },
            "type": "scatterternary"
           }
          ],
          "surface": [
           {
            "colorbar": {
             "outlinewidth": 0,
             "ticks": ""
            },
            "colorscale": [
             [
              0,
              "#0d0887"
             ],
             [
              0.1111111111111111,
              "#46039f"
             ],
             [
              0.2222222222222222,
              "#7201a8"
             ],
             [
              0.3333333333333333,
              "#9c179e"
             ],
             [
              0.4444444444444444,
              "#bd3786"
             ],
             [
              0.5555555555555556,
              "#d8576b"
             ],
             [
              0.6666666666666666,
              "#ed7953"
             ],
             [
              0.7777777777777778,
              "#fb9f3a"
             ],
             [
              0.8888888888888888,
              "#fdca26"
             ],
             [
              1,
              "#f0f921"
             ]
            ],
            "type": "surface"
           }
          ],
          "table": [
           {
            "cells": {
             "fill": {
              "color": "#EBF0F8"
             },
             "line": {
              "color": "white"
             }
            },
            "header": {
             "fill": {
              "color": "#C8D4E3"
             },
             "line": {
              "color": "white"
             }
            },
            "type": "table"
           }
          ]
         },
         "layout": {
          "annotationdefaults": {
           "arrowcolor": "#2a3f5f",
           "arrowhead": 0,
           "arrowwidth": 1
          },
          "autotypenumbers": "strict",
          "coloraxis": {
           "colorbar": {
            "outlinewidth": 0,
            "ticks": ""
           }
          },
          "colorscale": {
           "diverging": [
            [
             0,
             "#8e0152"
            ],
            [
             0.1,
             "#c51b7d"
            ],
            [
             0.2,
             "#de77ae"
            ],
            [
             0.3,
             "#f1b6da"
            ],
            [
             0.4,
             "#fde0ef"
            ],
            [
             0.5,
             "#f7f7f7"
            ],
            [
             0.6,
             "#e6f5d0"
            ],
            [
             0.7,
             "#b8e186"
            ],
            [
             0.8,
             "#7fbc41"
            ],
            [
             0.9,
             "#4d9221"
            ],
            [
             1,
             "#276419"
            ]
           ],
           "sequential": [
            [
             0,
             "#0d0887"
            ],
            [
             0.1111111111111111,
             "#46039f"
            ],
            [
             0.2222222222222222,
             "#7201a8"
            ],
            [
             0.3333333333333333,
             "#9c179e"
            ],
            [
             0.4444444444444444,
             "#bd3786"
            ],
            [
             0.5555555555555556,
             "#d8576b"
            ],
            [
             0.6666666666666666,
             "#ed7953"
            ],
            [
             0.7777777777777778,
             "#fb9f3a"
            ],
            [
             0.8888888888888888,
             "#fdca26"
            ],
            [
             1,
             "#f0f921"
            ]
           ],
           "sequentialminus": [
            [
             0,
             "#0d0887"
            ],
            [
             0.1111111111111111,
             "#46039f"
            ],
            [
             0.2222222222222222,
             "#7201a8"
            ],
            [
             0.3333333333333333,
             "#9c179e"
            ],
            [
             0.4444444444444444,
             "#bd3786"
            ],
            [
             0.5555555555555556,
             "#d8576b"
            ],
            [
             0.6666666666666666,
             "#ed7953"
            ],
            [
             0.7777777777777778,
             "#fb9f3a"
            ],
            [
             0.8888888888888888,
             "#fdca26"
            ],
            [
             1,
             "#f0f921"
            ]
           ]
          },
          "colorway": [
           "#636efa",
           "#EF553B",
           "#00cc96",
           "#ab63fa",
           "#FFA15A",
           "#19d3f3",
           "#FF6692",
           "#B6E880",
           "#FF97FF",
           "#FECB52"
          ],
          "font": {
           "color": "#2a3f5f"
          },
          "geo": {
           "bgcolor": "white",
           "lakecolor": "white",
           "landcolor": "#E5ECF6",
           "showlakes": true,
           "showland": true,
           "subunitcolor": "white"
          },
          "hoverlabel": {
           "align": "left"
          },
          "hovermode": "closest",
          "mapbox": {
           "style": "light"
          },
          "paper_bgcolor": "white",
          "plot_bgcolor": "#E5ECF6",
          "polar": {
           "angularaxis": {
            "gridcolor": "white",
            "linecolor": "white",
            "ticks": ""
           },
           "bgcolor": "#E5ECF6",
           "radialaxis": {
            "gridcolor": "white",
            "linecolor": "white",
            "ticks": ""
           }
          },
          "scene": {
           "xaxis": {
            "backgroundcolor": "#E5ECF6",
            "gridcolor": "white",
            "gridwidth": 2,
            "linecolor": "white",
            "showbackground": true,
            "ticks": "",
            "zerolinecolor": "white"
           },
           "yaxis": {
            "backgroundcolor": "#E5ECF6",
            "gridcolor": "white",
            "gridwidth": 2,
            "linecolor": "white",
            "showbackground": true,
            "ticks": "",
            "zerolinecolor": "white"
           },
           "zaxis": {
            "backgroundcolor": "#E5ECF6",
            "gridcolor": "white",
            "gridwidth": 2,
            "linecolor": "white",
            "showbackground": true,
            "ticks": "",
            "zerolinecolor": "white"
           }
          },
          "shapedefaults": {
           "line": {
            "color": "#2a3f5f"
           }
          },
          "ternary": {
           "aaxis": {
            "gridcolor": "white",
            "linecolor": "white",
            "ticks": ""
           },
           "baxis": {
            "gridcolor": "white",
            "linecolor": "white",
            "ticks": ""
           },
           "bgcolor": "#E5ECF6",
           "caxis": {
            "gridcolor": "white",
            "linecolor": "white",
            "ticks": ""
           }
          },
          "title": {
           "x": 0.05
          },
          "xaxis": {
           "automargin": true,
           "gridcolor": "white",
           "linecolor": "white",
           "ticks": "",
           "title": {
            "standoff": 15
           },
           "zerolinecolor": "white",
           "zerolinewidth": 2
          },
          "yaxis": {
           "automargin": true,
           "gridcolor": "white",
           "linecolor": "white",
           "ticks": "",
           "title": {
            "standoff": 15
           },
           "zerolinecolor": "white",
           "zerolinewidth": 2
          }
         }
        },
        "title": {
         "text": "3D Scatter Plot of Penguins"
        }
       }
      },
      "image/png": "[encoded data removed]",
      "text/html": [
       "<div\n",
       "    class=\"webio-mountpoint\"\n",
       "    data-webio-mountpoint=\"17557188164649384615\"\n",
       ">\n",
       "    <script>\n",
       "    (function(){\n",
       "    // Some integrations (namely, IJulia/Jupyter) use an alternate render pathway than\n",
       "    // just putting the html on the page. If WebIO isn't defined, then it's pretty likely\n",
       "    // that we're in one of those situations and the integration just isn't installed\n",
       "    // correctly.\n",
       "    if (typeof window.WebIO === \"undefined\") {\n",
       "        document\n",
       "            .querySelector('[data-webio-mountpoint=\"17557188164649384615\"]')\n",
       "            .innerHTML = (\n",
       "                '<div style=\"padding: 1em; background-color: #f8d6da; border: 1px solid #f5c6cb; font-weight: bold;\">' +\n",
       "                '<p><strong>WebIO not detected.</strong></p>' +\n",
       "                '<p>Please read ' +\n",
       "                '<a href=\"https://juliagizmos.github.io/WebIO.jl/latest/troubleshooting/not-detected/\" target=\"_blank\">the troubleshooting guide</a> ' +\n",
       "                'for more information on how to resolve this issue.</p>' +\n",
       "                '<p><a href=\"https://juliagizmos.github.io/WebIO.jl/latest/troubleshooting/not-detected/\" target=\"_blank\">https://juliagizmos.github.io/WebIO.jl/latest/troubleshooting/not-detected/</a></p>' +\n",
       "                '</div>'\n",
       "            );\n",
       "        return;\n",
       "    }\n",
       "    WebIO.mount(\n",
       "        document.querySelector('[data-webio-mountpoint=\"17557188164649384615\"]'),\n",
       "        {\"props\":{},\"nodeType\":\"Scope\",\"type\":\"node\",\"instanceArgs\":{\"imports\":{\"data\":[{\"name\":\"Plotly\",\"type\":\"js\",\"url\":\"\\/assetserver\\/0dc3ed29c80963b07dcdb1858908f32b148bc21b-plotly.min.js\"},{\"name\":null,\"type\":\"js\",\"url\":\"\\/assetserver\\/6a775dc5ba4204515a8fc4d3cf669abc14b5b899-plotly_webio.bundle.js\"}],\"type\":\"async_block\"},\"id\":\"3736333226672420282\",\"handlers\":{\"_toImage\":[\"(function (options){return this.Plotly.toImage(this.plotElem,options).then((function (data){return WebIO.setval({\\\"name\\\":\\\"image\\\",\\\"scope\\\":\\\"3736333226672420282\\\",\\\"id\\\":\\\"25\\\",\\\"type\\\":\\\"observable\\\"},data)}))})\"],\"__get_gd_contents\":[\"(function (prop){prop==\\\"data\\\" ? (WebIO.setval({\\\"name\\\":\\\"__gd_contents\\\",\\\"scope\\\":\\\"3736333226672420282\\\",\\\"id\\\":\\\"26\\\",\\\"type\\\":\\\"observable\\\"},this.plotElem.data)) : undefined; return prop==\\\"layout\\\" ? (WebIO.setval({\\\"name\\\":\\\"__gd_contents\\\",\\\"scope\\\":\\\"3736333226672420282\\\",\\\"id\\\":\\\"26\\\",\\\"type\\\":\\\"observable\\\"},this.plotElem.layout)) : undefined})\"],\"_downloadImage\":[\"(function (options){return this.Plotly.downloadImage(this.plotElem,options)})\"],\"_commands\":[\"(function (args){var fn=args.shift(); var elem=this.plotElem; var Plotly=this.Plotly; args.unshift(elem); return Plotly[fn].apply(this,args)})\"]},\"systemjs_options\":null,\"mount_callbacks\":[\"function () {\\n    var handler = ((function (Plotly,PlotlyWebIO){PlotlyWebIO.init(WebIO); var gd=this.dom.querySelector(\\\"#plot-0e40dad4-5c23-4f23-b8e9-d5da6dfdb04b\\\"); this.plotElem=gd; this.Plotly=Plotly; (window.Blink!==undefined) ? (gd.style.width=\\\"100%\\\", gd.style.height=\\\"100vh\\\", gd.style.marginLeft=\\\"0%\\\", gd.style.marginTop=\\\"0vh\\\") : undefined; window.onresize=(function (){return Plotly.Plots.resize(gd)}); Plotly.newPlot(gd,[{\\\"x\\\":[\\\"181\\\",\\\"186\\\",\\\"195\\\",\\\"NA\\\",\\\"193\\\",\\\"190\\\",\\\"181\\\",\\\"195\\\",\\\"193\\\",\\\"190\\\",\\\"186\\\",\\\"180\\\",\\\"182\\\",\\\"191\\\",\\\"198\\\",\\\"185\\\",\\\"195\\\",\\\"197\\\",\\\"184\\\",\\\"194\\\",\\\"174\\\",\\\"180\\\",\\\"189\\\",\\\"185\\\",\\\"180\\\",\\\"187\\\",\\\"183\\\",\\\"187\\\",\\\"172\\\",\\\"180\\\",\\\"178\\\",\\\"178\\\",\\\"188\\\",\\\"184\\\",\\\"195\\\",\\\"196\\\",\\\"190\\\",\\\"180\\\",\\\"181\\\",\\\"184\\\",\\\"182\\\",\\\"195\\\",\\\"186\\\",\\\"196\\\",\\\"185\\\",\\\"190\\\",\\\"182\\\",\\\"179\\\",\\\"190\\\",\\\"191\\\",\\\"186\\\",\\\"188\\\",\\\"190\\\",\\\"200\\\",\\\"187\\\",\\\"191\\\",\\\"186\\\",\\\"193\\\",\\\"181\\\",\\\"194\\\",\\\"185\\\",\\\"195\\\",\\\"185\\\",\\\"192\\\",\\\"184\\\",\\\"192\\\",\\\"195\\\",\\\"188\\\",\\\"190\\\",\\\"198\\\",\\\"190\\\",\\\"190\\\",\\\"196\\\",\\\"197\\\",\\\"190\\\",\\\"195\\\",\\\"191\\\",\\\"184\\\",\\\"187\\\",\\\"195\\\",\\\"189\\\",\\\"196\\\",\\\"187\\\",\\\"193\\\",\\\"191\\\",\\\"194\\\",\\\"190\\\",\\\"189\\\",\\\"189\\\",\\\"190\\\",\\\"202\\\",\\\"205\\\",\\\"185\\\",\\\"186\\\",\\\"187\\\",\\\"208\\\",\\\"190\\\",\\\"196\\\",\\\"178\\\",\\\"192\\\",\\\"192\\\",\\\"203\\\",\\\"183\\\",\\\"190\\\",\\\"193\\\",\\\"184\\\",\\\"199\\\",\\\"190\\\",\\\"181\\\",\\\"197\\\",\\\"198\\\",\\\"191\\\",\\\"193\\\",\\\"197\\\",\\\"191\\\",\\\"196\\\",\\\"188\\\",\\\"199\\\",\\\"189\\\",\\\"189\\\",\\\"187\\\",\\\"198\\\",\\\"176\\\",\\\"202\\\",\\\"186\\\",\\\"199\\\",\\\"191\\\",\\\"195\\\",\\\"191\\\",\\\"210\\\",\\\"190\\\",\\\"197\\\",\\\"193\\\",\\\"199\\\",\\\"187\\\",\\\"190\\\",\\\"191\\\",\\\"200\\\",\\\"185\\\",\\\"193\\\",\\\"193\\\",\\\"187\\\",\\\"188\\\",\\\"190\\\",\\\"192\\\",\\\"185\\\",\\\"190\\\",\\\"184\\\",\\\"195\\\",\\\"193\\\",\\\"187\\\",\\\"201\\\",\\\"211\\\",\\\"230\\\",\\\"210\\\",\\\"218\\\",\\\"215\\\",\\\"210\\\",\\\"211\\\",\\\"219\\\",\\\"209\\\",\\\"215\\\",\\\"214\\\",\\\"216\\\",\\\"214\\\",\\\"213\\\",\\\"210\\\",\\\"217\\\",\\\"210\\\",\\\"221\\\",\\\"209\\\",\\\"222\\\",\\\"218\\\",\\\"215\\\",\\\"213\\\",\\\"215\\\",\\\"215\\\",\\\"215\\\",\\\"216\\\",\\\"215\\\",\\\"210\\\",\\\"220\\\",\\\"222\\\",\\\"209\\\",\\\"207\\\",\\\"230\\\",\\\"220\\\",\\\"220\\\",\\\"213\\\",\\\"219\\\",\\\"208\\\",\\\"208\\\",\\\"208\\\",\\\"225\\\",\\\"210\\\",\\\"216\\\",\\\"222\\\",\\\"217\\\",\\\"210\\\",\\\"225\\\",\\\"213\\\",\\\"215\\\",\\\"210\\\",\\\"220\\\",\\\"210\\\",\\\"225\\\",\\\"217\\\",\\\"220\\\",\\\"208\\\",\\\"220\\\",\\\"208\\\",\\\"224\\\",\\\"208\\\",\\\"221\\\",\\\"214\\\",\\\"231\\\",\\\"219\\\",\\\"230\\\",\\\"214\\\",\\\"229\\\",\\\"220\\\",\\\"223\\\",\\\"216\\\",\\\"221\\\",\\\"221\\\",\\\"217\\\",\\\"216\\\",\\\"230\\\",\\\"209\\\",\\\"220\\\",\\\"215\\\",\\\"223\\\",\\\"212\\\",\\\"221\\\",\\\"212\\\",\\\"224\\\",\\\"212\\\",\\\"228\\\",\\\"218\\\",\\\"218\\\",\\\"212\\\",\\\"230\\\",\\\"218\\\",\\\"228\\\",\\\"212\\\",\\\"224\\\",\\\"214\\\",\\\"226\\\",\\\"216\\\",\\\"222\\\",\\\"203\\\",\\\"225\\\",\\\"219\\\",\\\"228\\\",\\\"215\\\",\\\"228\\\",\\\"216\\\",\\\"215\\\",\\\"210\\\",\\\"219\\\",\\\"208\\\",\\\"209\\\",\\\"216\\\",\\\"229\\\",\\\"213\\\",\\\"230\\\",\\\"217\\\",\\\"230\\\",\\\"217\\\",\\\"222\\\",\\\"214\\\",\\\"NA\\\",\\\"215\\\",\\\"222\\\",\\\"212\\\",\\\"213\\\",\\\"192\\\",\\\"196\\\",\\\"193\\\",\\\"188\\\",\\\"197\\\",\\\"198\\\",\\\"178\\\",\\\"197\\\",\\\"195\\\",\\\"198\\\",\\\"193\\\",\\\"194\\\",\\\"185\\\",\\\"201\\\",\\\"190\\\",\\\"201\\\",\\\"197\\\",\\\"181\\\",\\\"190\\\",\\\"195\\\",\\\"181\\\",\\\"191\\\",\\\"187\\\",\\\"193\\\",\\\"195\\\",\\\"197\\\",\\\"200\\\",\\\"200\\\",\\\"191\\\",\\\"205\\\",\\\"187\\\",\\\"201\\\",\\\"187\\\",\\\"203\\\",\\\"195\\\",\\\"199\\\",\\\"195\\\",\\\"210\\\",\\\"192\\\",\\\"205\\\",\\\"210\\\",\\\"187\\\",\\\"196\\\",\\\"196\\\",\\\"196\\\",\\\"201\\\",\\\"190\\\",\\\"212\\\",\\\"187\\\",\\\"198\\\",\\\"199\\\",\\\"201\\\",\\\"193\\\",\\\"203\\\",\\\"187\\\",\\\"197\\\",\\\"191\\\",\\\"203\\\",\\\"202\\\",\\\"194\\\",\\\"206\\\",\\\"189\\\",\\\"195\\\",\\\"207\\\",\\\"202\\\",\\\"193\\\",\\\"210\\\",\\\"198\\\"],\\\"mode\\\":\\\"markers\\\",\\\"y\\\":[\\\"39.1\\\",\\\"39.5\\\",\\\"40.3\\\",\\\"NA\\\",\\\"36.7\\\",\\\"39.3\\\",\\\"38.9\\\",\\\"39.2\\\",\\\"34.1\\\",\\\"42\\\",\\\"37.8\\\",\\\"37.8\\\",\\\"41.1\\\",\\\"38.6\\\",\\\"34.6\\\",\\\"36.6\\\",\\\"38.7\\\",\\\"42.5\\\",\\\"34.4\\\",\\\"46\\\",\\\"37.8\\\",\\\"37.7\\\",\\\"35.9\\\",\\\"38.2\\\",\\\"38.8\\\",\\\"35.3\\\",\\\"40.6\\\",\\\"40.5\\\",\\\"37.9\\\",\\\"40.5\\\",\\\"39.5\\\",\\\"37.2\\\",\\\"39.5\\\",\\\"40.9\\\",\\\"36.4\\\",\\\"39.2\\\",\\\"38.8\\\",\\\"42.2\\\",\\\"37.6\\\",\\\"39.8\\\",\\\"36.5\\\",\\\"40.8\\\",\\\"36\\\",\\\"44.1\\\",\\\"37\\\",\\\"39.6\\\",\\\"41.1\\\",\\\"37.5\\\",\\\"36\\\",\\\"42.3\\\",\\\"39.6\\\",\\\"40.1\\\",\\\"35\\\",\\\"42\\\",\\\"34.5\\\",\\\"41.4\\\",\\\"39\\\",\\\"40.6\\\",\\\"36.5\\\",\\\"37.6\\\",\\\"35.7\\\",\\\"41.3\\\",\\\"37.6\\\",\\\"41.1\\\",\\\"36.4\\\",\\\"41.6\\\",\\\"35.5\\\",\\\"41.1\\\",\\\"35.9\\\",\\\"41.8\\\",\\\"33.5\\\",\\\"39.7\\\",\\\"39.6\\\",\\\"45.8\\\",\\\"35.5\\\",\\\"42.8\\\",\\\"40.9\\\",\\\"37.2\\\",\\\"36.2\\\",\\\"42.1\\\",\\\"34.6\\\",\\\"42.9\\\",\\\"36.7\\\",\\\"35.1\\\",\\\"37.3\\\",\\\"41.3\\\",\\\"36.3\\\",\\\"36.9\\\",\\\"38.3\\\",\\\"38.9\\\",\\\"35.7\\\",\\\"41.1\\\",\\\"34\\\",\\\"39.6\\\",\\\"36.2\\\",\\\"40.8\\\",\\\"38.1\\\",\\\"40.3\\\",\\\"33.1\\\",\\\"43.2\\\",\\\"35\\\",\\\"41\\\",\\\"37.7\\\",\\\"37.8\\\",\\\"37.9\\\",\\\"39.7\\\",\\\"38.6\\\",\\\"38.2\\\",\\\"38.1\\\",\\\"43.2\\\",\\\"38.1\\\",\\\"45.6\\\",\\\"39.7\\\",\\\"42.2\\\",\\\"39.6\\\",\\\"42.7\\\",\\\"38.6\\\",\\\"37.3\\\",\\\"35.7\\\",\\\"41.1\\\",\\\"36.2\\\",\\\"37.7\\\",\\\"40.2\\\",\\\"41.4\\\",\\\"35.2\\\",\\\"40.6\\\",\\\"38.8\\\",\\\"41.5\\\",\\\"39\\\",\\\"44.1\\\",\\\"38.5\\\",\\\"43.1\\\",\\\"36.8\\\",\\\"37.5\\\",\\\"38.1\\\",\\\"41.1\\\",\\\"35.6\\\",\\\"40.2\\\",\\\"37\\\",\\\"39.7\\\",\\\"40.2\\\",\\\"40.6\\\",\\\"32.1\\\",\\\"40.7\\\",\\\"37.3\\\",\\\"39\\\",\\\"39.2\\\",\\\"36.6\\\",\\\"36\\\",\\\"37.8\\\",\\\"36\\\",\\\"41.5\\\",\\\"46.1\\\",\\\"50\\\",\\\"48.7\\\",\\\"50\\\",\\\"47.6\\\",\\\"46.5\\\",\\\"45.4\\\",\\\"46.7\\\",\\\"43.3\\\",\\\"46.8\\\",\\\"40.9\\\",\\\"49\\\",\\\"45.5\\\",\\\"48.4\\\",\\\"45.8\\\",\\\"49.3\\\",\\\"42\\\",\\\"49.2\\\",\\\"46.2\\\",\\\"48.7\\\",\\\"50.2\\\",\\\"45.1\\\",\\\"46.5\\\",\\\"46.3\\\",\\\"42.9\\\",\\\"46.1\\\",\\\"44.5\\\",\\\"47.8\\\",\\\"48.2\\\",\\\"50\\\",\\\"47.3\\\",\\\"42.8\\\",\\\"45.1\\\",\\\"59.6\\\",\\\"49.1\\\",\\\"48.4\\\",\\\"42.6\\\",\\\"44.4\\\",\\\"44\\\",\\\"48.7\\\",\\\"42.7\\\",\\\"49.6\\\",\\\"45.3\\\",\\\"49.6\\\",\\\"50.5\\\",\\\"43.6\\\",\\\"45.5\\\",\\\"50.5\\\",\\\"44.9\\\",\\\"45.2\\\",\\\"46.6\\\",\\\"48.5\\\",\\\"45.1\\\",\\\"50.1\\\",\\\"46.5\\\",\\\"45\\\",\\\"43.8\\\",\\\"45.5\\\",\\\"43.2\\\",\\\"50.4\\\",\\\"45.3\\\",\\\"46.2\\\",\\\"45.7\\\",\\\"54.3\\\",\\\"45.8\\\",\\\"49.8\\\",\\\"46.2\\\",\\\"49.5\\\",\\\"43.5\\\",\\\"50.7\\\",\\\"47.7\\\",\\\"46.4\\\",\\\"48.2\\\",\\\"46.5\\\",\\\"46.4\\\",\\\"48.6\\\",\\\"47.5\\\",\\\"51.1\\\",\\\"45.2\\\",\\\"45.2\\\",\\\"49.1\\\",\\\"52.5\\\",\\\"47.4\\\",\\\"50\\\",\\\"44.9\\\",\\\"50.8\\\",\\\"43.4\\\",\\\"51.3\\\",\\\"47.5\\\",\\\"52.1\\\",\\\"47.5\\\",\\\"52.2\\\",\\\"45.5\\\",\\\"49.5\\\",\\\"44.5\\\",\\\"50.8\\\",\\\"49.4\\\",\\\"46.9\\\",\\\"48.4\\\",\\\"51.1\\\",\\\"48.5\\\",\\\"55.9\\\",\\\"47.2\\\",\\\"49.1\\\",\\\"47.3\\\",\\\"46.8\\\",\\\"41.7\\\",\\\"53.4\\\",\\\"43.3\\\",\\\"48.1\\\",\\\"50.5\\\",\\\"49.8\\\",\\\"43.5\\\",\\\"51.5\\\",\\\"46.2\\\",\\\"55.1\\\",\\\"44.5\\\",\\\"48.8\\\",\\\"47.2\\\",\\\"NA\\\",\\\"46.8\\\",\\\"50.4\\\",\\\"45.2\\\",\\\"49.9\\\",\\\"46.5\\\",\\\"50\\\",\\\"51.3\\\",\\\"45.4\\\",\\\"52.7\\\",\\\"45.2\\\",\\\"46.1\\\",\\\"51.3\\\",\\\"46\\\",\\\"51.3\\\",\\\"46.6\\\",\\\"51.7\\\",\\\"47\\\",\\\"52\\\",\\\"45.9\\\",\\\"50.5\\\",\\\"50.3\\\",\\\"58\\\",\\\"46.4\\\",\\\"49.2\\\",\\\"42.4\\\",\\\"48.5\\\",\\\"43.2\\\",\\\"50.6\\\",\\\"46.7\\\",\\\"52\\\",\\\"50.5\\\",\\\"49.5\\\",\\\"46.4\\\",\\\"52.8\\\",\\\"40.9\\\",\\\"54.2\\\",\\\"42.5\\\",\\\"51\\\",\\\"49.7\\\",\\\"47.5\\\",\\\"47.6\\\",\\\"52\\\",\\\"46.9\\\",\\\"53.5\\\",\\\"49\\\",\\\"46.2\\\",\\\"50.9\\\",\\\"45.5\\\",\\\"50.9\\\",\\\"50.8\\\",\\\"50.1\\\",\\\"49\\\",\\\"51.5\\\",\\\"49.8\\\",\\\"48.1\\\",\\\"51.4\\\",\\\"45.7\\\",\\\"50.7\\\",\\\"42.5\\\",\\\"52.2\\\",\\\"45.2\\\",\\\"49.3\\\",\\\"50.2\\\",\\\"45.6\\\",\\\"51.9\\\",\\\"46.8\\\",\\\"45.7\\\",\\\"55.8\\\",\\\"43.5\\\",\\\"49.6\\\",\\\"50.8\\\",\\\"50.2\\\"],\\\"type\\\":\\\"scatter3d\\\",\\\"text\\\":[\\\"Species: Adelie<br>Flipper Length (mm): 181<br>Bill Length (mm): 39.1<br>Body Mass (g): 3750\\\",\\\"Species: Adelie<br>Flipper Length (mm): 186<br>Bill Length (mm): 39.5<br>Body Mass (g): 3800\\\",\\\"Species: Adelie<br>Flipper Length (mm): 195<br>Bill Length (mm): 40.3<br>Body Mass (g): 3250\\\",\\\"Species: Adelie<br>Flipper Length (mm): NA<br>Bill Length (mm): NA<br>Body Mass (g): NA\\\",\\\"Species: Adelie<br>Flipper Length (mm): 193<br>Bill Length (mm): 36.7<br>Body Mass (g): 3450\\\",\\\"Species: Adelie<br>Flipper Length (mm): 190<br>Bill Length (mm): 39.3<br>Body Mass (g): 3650\\\",\\\"Species: Adelie<br>Flipper Length (mm): 181<br>Bill Length (mm): 38.9<br>Body Mass (g): 3625\\\",\\\"Species: Adelie<br>Flipper Length (mm): 195<br>Bill Length (mm): 39.2<br>Body Mass (g): 4675\\\",\\\"Species: Adelie<br>Flipper Length (mm): 193<br>Bill Length (mm): 34.1<br>Body Mass (g): 3475\\\",\\\"Species: Adelie<br>Flipper Length (mm): 190<br>Bill Length (mm): 42<br>Body Mass (g): 4250\\\",\\\"Species: Adelie<br>Flipper Length (mm): 186<br>Bill Length (mm): 37.8<br>Body Mass (g): 3300\\\",\\\"Species: Adelie<br>Flipper Length (mm): 180<br>Bill Length (mm): 37.8<br>Body Mass (g): 3700\\\",\\\"Species: Adelie<br>Flipper Length (mm): 182<br>Bill Length (mm): 41.1<br>Body Mass (g): 3200\\\",\\\"Species: Adelie<br>Flipper Length (mm): 191<br>Bill Length (mm): 38.6<br>Body Mass (g): 3800\\\",\\\"Species: Adelie<br>Flipper Length (mm): 198<br>Bill Length (mm): 34.6<br>Body Mass (g): 4400\\\",\\\"Species: Adelie<br>Flipper Length (mm): 185<br>Bill Length (mm): 36.6<br>Body Mass (g): 3700\\\",\\\"Species: Adelie<br>Flipper Length (mm): 195<br>Bill Length (mm): 38.7<br>Body Mass (g): 3450\\\",\\\"Species: Adelie<br>Flipper Length (mm): 197<br>Bill Length (mm): 42.5<br>Body Mass (g): 4500\\\",\\\"Species: Adelie<br>Flipper Length (mm): 184<br>Bill Length (mm): 34.4<br>Body Mass (g): 3325\\\",\\\"Species: Adelie<br>Flipper Length (mm): 194<br>Bill Length (mm): 46<br>Body Mass (g): 4200\\\",\\\"Species: Adelie<br>Flipper Length (mm): 174<br>Bill Length (mm): 37.8<br>Body Mass (g): 3400\\\",\\\"Species: Adelie<br>Flipper Length (mm): 180<br>Bill Length (mm): 37.7<br>Body Mass (g): 3600\\\",\\\"Species: Adelie<br>Flipper Length (mm): 189<br>Bill Length (mm): 35.9<br>Body Mass (g): 3800\\\",\\\"Species: Adelie<br>Flipper Length (mm): 185<br>Bill Length (mm): 38.2<br>Body Mass (g): 3950\\\",\\\"Species: Adelie<br>Flipper Length (mm): 180<br>Bill Length (mm): 38.8<br>Body Mass (g): 3800\\\",\\\"Species: Adelie<br>Flipper Length (mm): 187<br>Bill Length (mm): 35.3<br>Body Mass (g): 3800\\\",\\\"Species: Adelie<br>Flipper Length (mm): 183<br>Bill Length (mm): 40.6<br>Body Mass (g): 3550\\\",\\\"Species: Adelie<br>Flipper Length (mm): 187<br>Bill Length (mm): 40.5<br>Body Mass (g): 3200\\\",\\\"Species: Adelie<br>Flipper Length (mm): 172<br>Bill Length (mm): 37.9<br>Body Mass (g): 3150\\\",\\\"Species: Adelie<br>Flipper Length (mm): 180<br>Bill Length (mm): 40.5<br>Body Mass (g): 3950\\\",\\\"Species: Adelie<br>Flipper Length (mm): 178<br>Bill Length (mm): 39.5<br>Body Mass (g): 3250\\\",\\\"Species: Adelie<br>Flipper Length (mm): 178<br>Bill Length (mm): 37.2<br>Body Mass (g): 3900\\\",\\\"Species: Adelie<br>Flipper Length (mm): 188<br>Bill Length (mm): 39.5<br>Body Mass (g): 3300\\\",\\\"Species: Adelie<br>Flipper Length (mm): 184<br>Bill Length (mm): 40.9<br>Body Mass (g): 3900\\\",\\\"Species: Adelie<br>Flipper Length (mm): 195<br>Bill Length (mm): 36.4<br>Body Mass (g): 3325\\\",\\\"Species: Adelie<br>Flipper Length (mm): 196<br>Bill Length (mm): 39.2<br>Body Mass (g): 4150\\\",\\\"Species: Adelie<br>Flipper Length (mm): 190<br>Bill Length (mm): 38.8<br>Body Mass (g): 3950\\\",\\\"Species: Adelie<br>Flipper Length (mm): 180<br>Bill Length (mm): 42.2<br>Body Mass (g): 3550\\\",\\\"Species: Adelie<br>Flipper Length (mm): 181<br>Bill Length (mm): 37.6<br>Body Mass (g): 3300\\\",\\\"Species: Adelie<br>Flipper Length (mm): 184<br>Bill Length (mm): 39.8<br>Body Mass (g): 4650\\\",\\\"Species: Adelie<br>Flipper Length (mm): 182<br>Bill Length (mm): 36.5<br>Body Mass (g): 3150\\\",\\\"Species: Adelie<br>Flipper Length (mm): 195<br>Bill Length (mm): 40.8<br>Body Mass (g): 3900\\\",\\\"Species: Adelie<br>Flipper Length (mm): 186<br>Bill Length (mm): 36<br>Body Mass (g): 3100\\\",\\\"Species: Adelie<br>Flipper Length (mm): 196<br>Bill Length (mm): 44.1<br>Body Mass (g): 4400\\\",\\\"Species: Adelie<br>Flipper Length (mm): 185<br>Bill Length (mm): 37<br>Body Mass (g): 3000\\\",\\\"Species: Adelie<br>Flipper Length (mm): 190<br>Bill Length (mm): 39.6<br>Body Mass (g): 4600\\\",\\\"Species: Adelie<br>Flipper Length (mm): 182<br>Bill Length (mm): 41.1<br>Body Mass (g): 3425\\\",\\\"Species: Adelie<br>Flipper Length (mm): 179<br>Bill Length (mm): 37.5<br>Body Mass (g): 2975\\\",\\\"Species: Adelie<br>Flipper Length (mm): 190<br>Bill Length (mm): 36<br>Body Mass (g): 3450\\\",\\\"Species: Adelie<br>Flipper Length (mm): 191<br>Bill Length (mm): 42.3<br>Body Mass (g): 4150\\\",\\\"Species: Adelie<br>Flipper Length (mm): 186<br>Bill Length (mm): 39.6<br>Body Mass (g): 3500\\\",\\\"Species: Adelie<br>Flipper Length (mm): 188<br>Bill Length (mm): 40.1<br>Body Mass (g): 4300\\\",\\\"Species: Adelie<br>Flipper Length (mm): 190<br>Bill Length (mm): 35<br>Body Mass (g): 3450\\\",\\\"Species: Adelie<br>Flipper Length (mm): 200<br>Bill Length (mm): 42<br>Body Mass (g): 4050\\\",\\\"Species: Adelie<br>Flipper Length (mm): 187<br>Bill Length (mm): 34.5<br>Body Mass (g): 2900\\\",\\\"Species: Adelie<br>Flipper Length (mm): 191<br>Bill Length (mm): 41.4<br>Body Mass (g): 3700\\\",\\\"Species: Adelie<br>Flipper Length (mm): 186<br>Bill Length (mm): 39<br>Body Mass (g): 3550\\\",\\\"Species: Adelie<br>Flipper Length (mm): 193<br>Bill Length (mm): 40.6<br>Body Mass (g): 3800\\\",\\\"Species: Adelie<br>Flipper Length (mm): 181<br>Bill Length (mm): 36.5<br>Body Mass (g): 2850\\\",\\\"Species: Adelie<br>Flipper Length (mm): 194<br>Bill Length (mm): 37.6<br>Body Mass (g): 3750\\\",\\\"Species: Adelie<br>Flipper Length (mm): 185<br>Bill Length (mm): 35.7<br>Body Mass (g): 3150\\\",\\\"Species: Adelie<br>Flipper Length (mm): 195<br>Bill Length (mm): 41.3<br>Body Mass (g): 4400\\\",\\\"Species: Adelie<br>Flipper Length (mm): 185<br>Bill Length (mm): 37.6<br>Body Mass (g): 3600\\\",\\\"Species: Adelie<br>Flipper Length (mm): 192<br>Bill Length (mm): 41.1<br>Body Mass (g): 4050\\\",\\\"Species: Adelie<br>Flipper Length (mm): 184<br>Bill Length (mm): 36.4<br>Body Mass (g): 2850\\\",\\\"Species: Adelie<br>Flipper Length (mm): 192<br>Bill Length (mm): 41.6<br>Body Mass (g): 3950\\\",\\\"Species: Adelie<br>Flipper Length (mm): 195<br>Bill Length (mm): 35.5<br>Body Mass (g): 3350\\\",\\\"Species: Adelie<br>Flipper Length (mm): 188<br>Bill Length (mm): 41.1<br>Body Mass (g): 4100\\\",\\\"Species: Adelie<br>Flipper Length (mm): 190<br>Bill Length (mm): 35.9<br>Body Mass (g): 3050\\\",\\\"Species: Adelie<br>Flipper Length (mm): 198<br>Bill Length (mm): 41.8<br>Body Mass (g): 4450\\\",\\\"Species: Adelie<br>Flipper Length (mm): 190<br>Bill Length (mm): 33.5<br>Body Mass (g): 3600\\\",\\\"Species: Adelie<br>Flipper Length (mm): 190<br>Bill Length (mm): 39.7<br>Body Mass (g): 3900\\\",\\\"Species: Adelie<br>Flipper Length (mm): 196<br>Bill Length (mm): 39.6<br>Body Mass (g): 3550\\\",\\\"Species: Adelie<br>Flipper Length (mm): 197<br>Bill Length (mm): 45.8<br>Body Mass (g): 4150\\\",\\\"Species: Adelie<br>Flipper Length (mm): 190<br>Bill Length (mm): 35.5<br>Body Mass (g): 3700\\\",\\\"Species: Adelie<br>Flipper Length (mm): 195<br>Bill Length (mm): 42.8<br>Body Mass (g): 4250\\\",\\\"Species: Adelie<br>Flipper Length (mm): 191<br>Bill Length (mm): 40.9<br>Body Mass (g): 3700\\\",\\\"Species: Adelie<br>Flipper Length (mm): 184<br>Bill Length (mm): 37.2<br>Body Mass (g): 3900\\\",\\\"Species: Adelie<br>Flipper Length (mm): 187<br>Bill Length (mm): 36.2<br>Body Mass (g): 3550\\\",\\\"Species: Adelie<br>Flipper Length (mm): 195<br>Bill Length (mm): 42.1<br>Body Mass (g): 4000\\\",\\\"Species: Adelie<br>Flipper Length (mm): 189<br>Bill Length (mm): 34.6<br>Body Mass (g): 3200\\\",\\\"Species: Adelie<br>Flipper Length (mm): 196<br>Bill Length (mm): 42.9<br>Body Mass (g): 4700\\\",\\\"Species: Adelie<br>Flipper Length (mm): 187<br>Bill Length (mm): 36.7<br>Body Mass (g): 3800\\\",\\\"Species: Adelie<br>Flipper Length (mm): 193<br>Bill Length (mm): 35.1<br>Body Mass (g): 4200\\\",\\\"Species: Adelie<br>Flipper Length (mm): 191<br>Bill Length (mm): 37.3<br>Body Mass (g): 3350\\\",\\\"Species: Adelie<br>Flipper Length (mm): 194<br>Bill Length (mm): 41.3<br>Body Mass (g): 3550\\\",\\\"Species: Adelie<br>Flipper Length (mm): 190<br>Bill Length (mm): 36.3<br>Body Mass (g): 3800\\\",\\\"Species: Adelie<br>Flipper Length (mm): 189<br>Bill Length (mm): 36.9<br>Body Mass (g): 3500\\\",\\\"Species: Adelie<br>Flipper Length (mm): 189<br>Bill Length (mm): 38.3<br>Body Mass (g): 3950\\\",\\\"Species: Adelie<br>Flipper Length (mm): 190<br>Bill Length (mm): 38.9<br>Body Mass (g): 3600\\\",\\\"Species: Adelie<br>Flipper Length (mm): 202<br>Bill Length (mm): 35.7<br>Body Mass (g): 3550\\\",\\\"Species: Adelie<br>Flipper Length (mm): 205<br>Bill Length (mm): 41.1<br>Body Mass (g): 4300\\\",\\\"Species: Adelie<br>Flipper Length (mm): 185<br>Bill Length (mm): 34<br>Body Mass (g): 3400\\\",\\\"Species: Adelie<br>Flipper Length (mm): 186<br>Bill Length (mm): 39.6<br>Body Mass (g): 4450\\\",\\\"Species: Adelie<br>Flipper Length (mm): 187<br>Bill Length (mm): 36.2<br>Body Mass (g): 3300\\\",\\\"Species: Adelie<br>Flipper Length (mm): 208<br>Bill Length (mm): 40.8<br>Body Mass (g): 4300\\\",\\\"Species: Adelie<br>Flipper Length (mm): 190<br>Bill Length (mm): 38.1<br>Body Mass (g): 3700\\\",\\\"Species: Adelie<br>Flipper Length (mm): 196<br>Bill Length (mm): 40.3<br>Body Mass (g): 4350\\\",\\\"Species: Adelie<br>Flipper Length (mm): 178<br>Bill Length (mm): 33.1<br>Body Mass (g): 2900\\\",\\\"Species: Adelie<br>Flipper Length (mm): 192<br>Bill Length (mm): 43.2<br>Body Mass (g): 4100\\\",\\\"Species: Adelie<br>Flipper Length (mm): 192<br>Bill Length (mm): 35<br>Body Mass (g): 3725\\\",\\\"Species: Adelie<br>Flipper Length (mm): 203<br>Bill Length (mm): 41<br>Body Mass (g): 4725\\\",\\\"Species: Adelie<br>Flipper Length (mm): 183<br>Bill Length (mm): 37.7<br>Body Mass (g): 3075\\\",\\\"Species: Adelie<br>Flipper Length (mm): 190<br>Bill Length (mm): 37.8<br>Body Mass (g): 4250\\\",\\\"Species: Adelie<br>Flipper Length (mm): 193<br>Bill Length (mm): 37.9<br>Body Mass (g): 2925\\\",\\\"Species: Adelie<br>Flipper Length (mm): 184<br>Bill Length (mm): 39.7<br>Body Mass (g): 3550\\\",\\\"Species: Adelie<br>Flipper Length (mm): 199<br>Bill Length (mm): 38.6<br>Body Mass (g): 3750\\\",\\\"Species: Adelie<br>Flipper Length (mm): 190<br>Bill Length (mm): 38.2<br>Body Mass (g): 3900\\\",\\\"Species: Adelie<br>Flipper Length (mm): 181<br>Bill Length (mm): 38.1<br>Body Mass (g): 3175\\\",\\\"Species: Adelie<br>Flipper Length (mm): 197<br>Bill Length (mm): 43.2<br>Body Mass (g): 4775\\\",\\\"Species: Adelie<br>Flipper Length (mm): 198<br>Bill Length (mm): 38.1<br>Body Mass (g): 3825\\\",\\\"Species: Adelie<br>Flipper Length (mm): 191<br>Bill Length (mm): 45.6<br>Body Mass (g): 4600\\\",\\\"Species: Adelie<br>Flipper Length (mm): 193<br>Bill Length (mm): 39.7<br>Body Mass (g): 3200\\\",\\\"Species: Adelie<br>Flipper Length (mm): 197<br>Bill Length (mm): 42.2<br>Body Mass (g): 4275\\\",\\\"Species: Adelie<br>Flipper Length (mm): 191<br>Bill Length (mm): 39.6<br>Body Mass (g): 3900\\\",\\\"Species: Adelie<br>Flipper Length (mm): 196<br>Bill Length (mm): 42.7<br>Body Mass (g): 4075\\\",\\\"Species: Adelie<br>Flipper Length (mm): 188<br>Bill Length (mm): 38.6<br>Body Mass (g): 2900\\\",\\\"Species: Adelie<br>Flipper Length (mm): 199<br>Bill Length (mm): 37.3<br>Body Mass (g): 3775\\\",\\\"Species: Adelie<br>Flipper Length (mm): 189<br>Bill Length (mm): 35.7<br>Body Mass (g): 3350\\\",\\\"Species: Adelie<br>Flipper Length (mm): 189<br>Bill Length (mm): 41.1<br>Body Mass (g): 3325\\\",\\\"Species: Adelie<br>Flipper Length (mm): 187<br>Bill Length (mm): 36.2<br>Body Mass (g): 3150\\\",\\\"Species: Adelie<br>Flipper Length (mm): 198<br>Bill Length (mm): 37.7<br>Body Mass (g): 3500\\\",\\\"Species: Adelie<br>Flipper Length (mm): 176<br>Bill Length (mm): 40.2<br>Body Mass (g): 3450\\\",\\\"Species: Adelie<br>Flipper Length (mm): 202<br>Bill Length (mm): 41.4<br>Body Mass (g): 3875\\\",\\\"Species: Adelie<br>Flipper Length (mm): 186<br>Bill Length (mm): 35.2<br>Body Mass (g): 3050\\\",\\\"Species: Adelie<br>Flipper Length (mm): 199<br>Bill Length (mm): 40.6<br>Body Mass (g): 4000\\\",\\\"Species: Adelie<br>Flipper Length (mm): 191<br>Bill Length (mm): 38.8<br>Body Mass (g): 3275\\\",\\\"Species: Adelie<br>Flipper Length (mm): 195<br>Bill Length (mm): 41.5<br>Body Mass (g): 4300\\\",\\\"Species: Adelie<br>Flipper Length (mm): 191<br>Bill Length (mm): 39<br>Body Mass (g): 3050\\\",\\\"Species: Adelie<br>Flipper Length (mm): 210<br>Bill Length (mm): 44.1<br>Body Mass (g): 4000\\\",\\\"Species: Adelie<br>Flipper Length (mm): 190<br>Bill Length (mm): 38.5<br>Body Mass (g): 3325\\\",\\\"Species: Adelie<br>Flipper Length (mm): 197<br>Bill Length (mm): 43.1<br>Body Mass (g): 3500\\\",\\\"Species: Adelie<br>Flipper Length (mm): 193<br>Bill Length (mm): 36.8<br>Body Mass (g): 3500\\\",\\\"Species: Adelie<br>Flipper Length (mm): 199<br>Bill Length (mm): 37.5<br>Body Mass (g): 4475\\\",\\\"Species: Adelie<br>Flipper Length (mm): 187<br>Bill Length (mm): 38.1<br>Body Mass (g): 3425\\\",\\\"Species: Adelie<br>Flipper Length (mm): 190<br>Bill Length (mm): 41.1<br>Body Mass (g): 3900\\\",\\\"Species: Adelie<br>Flipper Length (mm): 191<br>Bill Length (mm): 35.6<br>Body Mass (g): 3175\\\",\\\"Species: Adelie<br>Flipper Length (mm): 200<br>Bill Length (mm): 40.2<br>Body Mass (g): 3975\\\",\\\"Species: Adelie<br>Flipper Length (mm): 185<br>Bill Length (mm): 37<br>Body Mass (g): 3400\\\",\\\"Species: Adelie<br>Flipper Length (mm): 193<br>Bill Length (mm): 39.7<br>Body Mass (g): 4250\\\",\\\"Species: Adelie<br>Flipper Length (mm): 193<br>Bill Length (mm): 40.2<br>Body Mass (g): 3400\\\",\\\"Species: Adelie<br>Flipper Length (mm): 187<br>Bill Length (mm): 40.6<br>Body Mass (g): 3475\\\",\\\"Species: Adelie<br>Flipper Length (mm): 188<br>Bill Length (mm): 32.1<br>Body Mass (g): 3050\\\",\\\"Species: Adelie<br>Flipper Length (mm): 190<br>Bill Length (mm): 40.7<br>Body Mass (g): 3725\\\",\\\"Species: Adelie<br>Flipper Length (mm): 192<br>Bill Length (mm): 37.3<br>Body Mass (g): 3000\\\",\\\"Species: Adelie<br>Flipper Length (mm): 185<br>Bill Length (mm): 39<br>Body Mass (g): 3650\\\",\\\"Species: Adelie<br>Flipper Length (mm): 190<br>Bill Length (mm): 39.2<br>Body Mass (g): 4250\\\",\\\"Species: Adelie<br>Flipper Length (mm): 184<br>Bill Length (mm): 36.6<br>Body Mass (g): 3475\\\",\\\"Species: Adelie<br>Flipper Length (mm): 195<br>Bill Length (mm): 36<br>Body Mass (g): 3450\\\",\\\"Species: Adelie<br>Flipper Length (mm): 193<br>Bill Length (mm): 37.8<br>Body Mass (g): 3750\\\",\\\"Species: Adelie<br>Flipper Length (mm): 187<br>Bill Length (mm): 36<br>Body Mass (g): 3700\\\",\\\"Species: Adelie<br>Flipper Length (mm): 201<br>Bill Length (mm): 41.5<br>Body Mass (g): 4000\\\",\\\"Species: Gentoo<br>Flipper Length (mm): 211<br>Bill Length (mm): 46.1<br>Body Mass (g): 4500\\\",\\\"Species: Gentoo<br>Flipper Length (mm): 230<br>Bill Length (mm): 50<br>Body Mass (g): 5700\\\",\\\"Species: Gentoo<br>Flipper Length (mm): 210<br>Bill Length (mm): 48.7<br>Body Mass (g): 4450\\\",\\\"Species: Gentoo<br>Flipper Length (mm): 218<br>Bill Length (mm): 50<br>Body Mass (g): 5700\\\",\\\"Species: Gentoo<br>Flipper Length (mm): 215<br>Bill Length (mm): 47.6<br>Body Mass (g): 5400\\\",\\\"Species: Gentoo<br>Flipper Length (mm): 210<br>Bill Length (mm): 46.5<br>Body Mass (g): 4550\\\",\\\"Species: Gentoo<br>Flipper Length (mm): 211<br>Bill Length (mm): 45.4<br>Body Mass (g): 4800\\\",\\\"Species: Gentoo<br>Flipper Length (mm): 219<br>Bill Length (mm): 46.7<br>Body Mass (g): 5200\\\",\\\"Species: Gentoo<br>Flipper Length (mm): 209<br>Bill Length (mm): 43.3<br>Body Mass (g): 4400\\\",\\\"Species: Gentoo<br>Flipper Length (mm): 215<br>Bill Length (mm): 46.8<br>Body Mass (g): 5150\\\",\\\"Species: Gentoo<br>Flipper Length (mm): 214<br>Bill Length (mm): 40.9<br>Body Mass (g): 4650\\\",\\\"Species: Gentoo<br>Flipper Length (mm): 216<br>Bill Length (mm): 49<br>Body Mass (g): 5550\\\",\\\"Species: Gentoo<br>Flipper Length (mm): 214<br>Bill Length (mm): 45.5<br>Body Mass (g): 4650\\\",\\\"Species: Gentoo<br>Flipper Length (mm): 213<br>Bill Length (mm): 48.4<br>Body Mass (g): 5850\\\",\\\"Species: Gentoo<br>Flipper Length (mm): 210<br>Bill Length (mm): 45.8<br>Body Mass (g): 4200\\\",\\\"Species: Gentoo<br>Flipper Length (mm): 217<br>Bill Length (mm): 49.3<br>Body Mass (g): 5850\\\",\\\"Species: Gentoo<br>Flipper Length (mm): 210<br>Bill Length (mm): 42<br>Body Mass (g): 4150\\\",\\\"Species: Gentoo<br>Flipper Length (mm): 221<br>Bill Length (mm): 49.2<br>Body Mass (g): 6300\\\",\\\"Species: Gentoo<br>Flipper Length (mm): 209<br>Bill Length (mm): 46.2<br>Body Mass (g): 4800\\\",\\\"Species: Gentoo<br>Flipper Length (mm): 222<br>Bill Length (mm): 48.7<br>Body Mass (g): 5350\\\",\\\"Species: Gentoo<br>Flipper Length (mm): 218<br>Bill Length (mm): 50.2<br>Body Mass (g): 5700\\\",\\\"Species: Gentoo<br>Flipper Length (mm): 215<br>Bill Length (mm): 45.1<br>Body Mass (g): 5000\\\",\\\"Species: Gentoo<br>Flipper Length (mm): 213<br>Bill Length (mm): 46.5<br>Body Mass (g): 4400\\\",\\\"Species: Gentoo<br>Flipper Length (mm): 215<br>Bill Length (mm): 46.3<br>Body Mass (g): 5050\\\",\\\"Species: Gentoo<br>Flipper Length (mm): 215<br>Bill Length (mm): 42.9<br>Body Mass (g): 5000\\\",\\\"Species: Gentoo<br>Flipper Length (mm): 215<br>Bill Length (mm): 46.1<br>Body Mass (g): 5100\\\",\\\"Species: Gentoo<br>Flipper Length (mm): 216<br>Bill Length (mm): 44.5<br>Body Mass (g): 4100\\\",\\\"Species: Gentoo<br>Flipper Length (mm): 215<br>Bill Length (mm): 47.8<br>Body Mass (g): 5650\\\",\\\"Species: Gentoo<br>Flipper Length (mm): 210<br>Bill Length (mm): 48.2<br>Body Mass (g): 4600\\\",\\\"Species: Gentoo<br>Flipper Length (mm): 220<br>Bill Length (mm): 50<br>Body Mass (g): 5550\\\",\\\"Species: Gentoo<br>Flipper Length (mm): 222<br>Bill Length (mm): 47.3<br>Body Mass (g): 5250\\\",\\\"Species: Gentoo<br>Flipper Length (mm): 209<br>Bill Length (mm): 42.8<br>Body Mass (g): 4700\\\",\\\"Species: Gentoo<br>Flipper Length (mm): 207<br>Bill Length (mm): 45.1<br>Body Mass (g): 5050\\\",\\\"Species: Gentoo<br>Flipper Length (mm): 230<br>Bill Length (mm): 59.6<br>Body Mass (g): 6050\\\",\\\"Species: Gentoo<br>Flipper Length (mm): 220<br>Bill Length (mm): 49.1<br>Body Mass (g): 5150\\\",\\\"Species: Gentoo<br>Flipper Length (mm): 220<br>Bill Length (mm): 48.4<br>Body Mass (g): 5400\\\",\\\"Species: Gentoo<br>Flipper Length (mm): 213<br>Bill Length (mm): 42.6<br>Body Mass (g): 4950\\\",\\\"Species: Gentoo<br>Flipper Length (mm): 219<br>Bill Length (mm): 44.4<br>Body Mass (g): 5250\\\",\\\"Species: Gentoo<br>Flipper Length (mm): 208<br>Bill Length (mm): 44<br>Body Mass (g): 4350\\\",\\\"Species: Gentoo<br>Flipper Length (mm): 208<br>Bill Length (mm): 48.7<br>Body Mass (g): 5350\\\",\\\"Species: Gentoo<br>Flipper Length (mm): 208<br>Bill Length (mm): 42.7<br>Body Mass (g): 3950\\\",\\\"Species: Gentoo<br>Flipper Length (mm): 225<br>Bill Length (mm): 49.6<br>Body Mass (g): 5700\\\",\\\"Species: Gentoo<br>Flipper Length (mm): 210<br>Bill Length (mm): 45.3<br>Body Mass (g): 4300\\\",\\\"Species: Gentoo<br>Flipper Length (mm): 216<br>Bill Length (mm): 49.6<br>Body Mass (g): 4750\\\",\\\"Species: Gentoo<br>Flipper Length (mm): 222<br>Bill Length (mm): 50.5<br>Body Mass (g): 5550\\\",\\\"Species: Gentoo<br>Flipper Length (mm): 217<br>Bill Length (mm): 43.6<br>Body Mass (g): 4900\\\",\\\"Species: Gentoo<br>Flipper Length (mm): 210<br>Bill Length (mm): 45.5<br>Body Mass (g): 4200\\\",\\\"Species: Gentoo<br>Flipper Length (mm): 225<br>Bill Length (mm): 50.5<br>Body Mass (g): 5400\\\",\\\"Species: Gentoo<br>Flipper Length (mm): 213<br>Bill Length (mm): 44.9<br>Body Mass (g): 5100\\\",\\\"Species: Gentoo<br>Flipper Length (mm): 215<br>Bill Length (mm): 45.2<br>Body Mass (g): 5300\\\",\\\"Species: Gentoo<br>Flipper Length (mm): 210<br>Bill Length (mm): 46.6<br>Body Mass (g): 4850\\\",\\\"Species: Gentoo<br>Flipper Length (mm): 220<br>Bill Length (mm): 48.5<br>Body Mass (g): 5300\\\",\\\"Species: Gentoo<br>Flipper Length (mm): 210<br>Bill Length (mm): 45.1<br>Body Mass (g): 4400\\\",\\\"Species: Gentoo<br>Flipper Length (mm): 225<br>Bill Length (mm): 50.1<br>Body Mass (g): 5000\\\",\\\"Species: Gentoo<br>Flipper Length (mm): 217<br>Bill Length (mm): 46.5<br>Body Mass (g): 4900\\\",\\\"Species: Gentoo<br>Flipper Length (mm): 220<br>Bill Length (mm): 45<br>Body Mass (g): 5050\\\",\\\"Species: Gentoo<br>Flipper Length (mm): 208<br>Bill Length (mm): 43.8<br>Body Mass (g): 4300\\\",\\\"Species: Gentoo<br>Flipper Length (mm): 220<br>Bill Length (mm): 45.5<br>Body Mass (g): 5000\\\",\\\"Species: Gentoo<br>Flipper Length (mm): 208<br>Bill Length (mm): 43.2<br>Body Mass (g): 4450\\\",\\\"Species: Gentoo<br>Flipper Length (mm): 224<br>Bill Length (mm): 50.4<br>Body Mass (g): 5550\\\",\\\"Species: Gentoo<br>Flipper Length (mm): 208<br>Bill Length (mm): 45.3<br>Body Mass (g): 4200\\\",\\\"Species: Gentoo<br>Flipper Length (mm): 221<br>Bill Length (mm): 46.2<br>Body Mass (g): 5300\\\",\\\"Species: Gentoo<br>Flipper Length (mm): 214<br>Bill Length (mm): 45.7<br>Body Mass (g): 4400\\\",\\\"Species: Gentoo<br>Flipper Length (mm): 231<br>Bill Length (mm): 54.3<br>Body Mass (g): 5650\\\",\\\"Species: Gentoo<br>Flipper Length (mm): 219<br>Bill Length (mm): 45.8<br>Body Mass (g): 4700\\\",\\\"Species: Gentoo<br>Flipper Length (mm): 230<br>Bill Length (mm): 49.8<br>Body Mass (g): 5700\\\",\\\"Species: Gentoo<br>Flipper Length (mm): 214<br>Bill Length (mm): 46.2<br>Body Mass (g): 4650\\\",\\\"Species: Gentoo<br>Flipper Length (mm): 229<br>Bill Length (mm): 49.5<br>Body Mass (g): 5800\\\",\\\"Species: Gentoo<br>Flipper Length (mm): 220<br>Bill Length (mm): 43.5<br>Body Mass (g): 4700\\\",\\\"Species: Gentoo<br>Flipper Length (mm): 223<br>Bill Length (mm): 50.7<br>Body Mass (g): 5550\\\",\\\"Species: Gentoo<br>Flipper Length (mm): 216<br>Bill Length (mm): 47.7<br>Body Mass (g): 4750\\\",\\\"Species: Gentoo<br>Flipper Length (mm): 221<br>Bill Length (mm): 46.4<br>Body Mass (g): 5000\\\",\\\"Species: Gentoo<br>Flipper Length (mm): 221<br>Bill Length (mm): 48.2<br>Body Mass (g): 5100\\\",\\\"Species: Gentoo<br>Flipper Length (mm): 217<br>Bill Length (mm): 46.5<br>Body Mass (g): 5200\\\",\\\"Species: Gentoo<br>Flipper Length (mm): 216<br>Bill Length (mm): 46.4<br>Body Mass (g): 4700\\\",\\\"Species: Gentoo<br>Flipper Length (mm): 230<br>Bill Length (mm): 48.6<br>Body Mass (g): 5800\\\",\\\"Species: Gentoo<br>Flipper Length (mm): 209<br>Bill Length (mm): 47.5<br>Body Mass (g): 4600\\\",\\\"Species: Gentoo<br>Flipper Length (mm): 220<br>Bill Length (mm): 51.1<br>Body Mass (g): 6000\\\",\\\"Species: Gentoo<br>Flipper Length (mm): 215<br>Bill Length (mm): 45.2<br>Body Mass (g): 4750\\\",\\\"Species: Gentoo<br>Flipper Length (mm): 223<br>Bill Length (mm): 45.2<br>Body Mass (g): 5950\\\",\\\"Species: Gentoo<br>Flipper Length (mm): 212<br>Bill Length (mm): 49.1<br>Body Mass (g): 4625\\\",\\\"Species: Gentoo<br>Flipper Length (mm): 221<br>Bill Length (mm): 52.5<br>Body Mass (g): 5450\\\",\\\"Species: Gentoo<br>Flipper Length (mm): 212<br>Bill Length (mm): 47.4<br>Body Mass (g): 4725\\\",\\\"Species: Gentoo<br>Flipper Length (mm): 224<br>Bill Length (mm): 50<br>Body Mass (g): 5350\\\",\\\"Species: Gentoo<br>Flipper Length (mm): 212<br>Bill Length (mm): 44.9<br>Body Mass (g): 4750\\\",\\\"Species: Gentoo<br>Flipper Length (mm): 228<br>Bill Length (mm): 50.8<br>Body Mass (g): 5600\\\",\\\"Species: Gentoo<br>Flipper Length (mm): 218<br>Bill Length (mm): 43.4<br>Body Mass (g): 4600\\\",\\\"Species: Gentoo<br>Flipper Length (mm): 218<br>Bill Length (mm): 51.3<br>Body Mass (g): 5300\\\",\\\"Species: Gentoo<br>Flipper Length (mm): 212<br>Bill Length (mm): 47.5<br>Body Mass (g): 4875\\\",\\\"Species: Gentoo<br>Flipper Length (mm): 230<br>Bill Length (mm): 52.1<br>Body Mass (g): 5550\\\",\\\"Species: Gentoo<br>Flipper Length (mm): 218<br>Bill Length (mm): 47.5<br>Body Mass (g): 4950\\\",\\\"Species: Gentoo<br>Flipper Length (mm): 228<br>Bill Length (mm): 52.2<br>Body Mass (g): 5400\\\",\\\"Species: Gentoo<br>Flipper Length (mm): 212<br>Bill Length (mm): 45.5<br>Body Mass (g): 4750\\\",\\\"Species: Gentoo<br>Flipper Length (mm): 224<br>Bill Length (mm): 49.5<br>Body Mass (g): 5650\\\",\\\"Species: Gentoo<br>Flipper Length (mm): 214<br>Bill Length (mm): 44.5<br>Body Mass (g): 4850\\\",\\\"Species: Gentoo<br>Flipper Length (mm): 226<br>Bill Length (mm): 50.8<br>Body Mass (g): 5200\\\",\\\"Species: Gentoo<br>Flipper Length (mm): 216<br>Bill Length (mm): 49.4<br>Body Mass (g): 4925\\\",\\\"Species: Gentoo<br>Flipper Length (mm): 222<br>Bill Length (mm): 46.9<br>Body Mass (g): 4875\\\",\\\"Species: Gentoo<br>Flipper Length (mm): 203<br>Bill Length (mm): 48.4<br>Body Mass (g): 4625\\\",\\\"Species: Gentoo<br>Flipper Length (mm): 225<br>Bill Length (mm): 51.1<br>Body Mass (g): 5250\\\",\\\"Species: Gentoo<br>Flipper Length (mm): 219<br>Bill Length (mm): 48.5<br>Body Mass (g): 4850\\\",\\\"Species: Gentoo<br>Flipper Length (mm): 228<br>Bill Length (mm): 55.9<br>Body Mass (g): 5600\\\",\\\"Species: Gentoo<br>Flipper Length (mm): 215<br>Bill Length (mm): 47.2<br>Body Mass (g): 4975\\\",\\\"Species: Gentoo<br>Flipper Length (mm): 228<br>Bill Length (mm): 49.1<br>Body Mass (g): 5500\\\",\\\"Species: Gentoo<br>Flipper Length (mm): 216<br>Bill Length (mm): 47.3<br>Body Mass (g): 4725\\\",\\\"Species: Gentoo<br>Flipper Length (mm): 215<br>Bill Length (mm): 46.8<br>Body Mass (g): 5500\\\",\\\"Species: Gentoo<br>Flipper Length (mm): 210<br>Bill Length (mm): 41.7<br>Body Mass (g): 4700\\\",\\\"Species: Gentoo<br>Flipper Length (mm): 219<br>Bill Length (mm): 53.4<br>Body Mass (g): 5500\\\",\\\"Species: Gentoo<br>Flipper Length (mm): 208<br>Bill Length (mm): 43.3<br>Body Mass (g): 4575\\\",\\\"Species: Gentoo<br>Flipper Length (mm): 209<br>Bill Length (mm): 48.1<br>Body Mass (g): 5500\\\",\\\"Species: Gentoo<br>Flipper Length (mm): 216<br>Bill Length (mm): 50.5<br>Body Mass (g): 5000\\\",\\\"Species: Gentoo<br>Flipper Length (mm): 229<br>Bill Length (mm): 49.8<br>Body Mass (g): 5950\\\",\\\"Species: Gentoo<br>Flipper Length (mm): 213<br>Bill Length (mm): 43.5<br>Body Mass (g): 4650\\\",\\\"Species: Gentoo<br>Flipper Length (mm): 230<br>Bill Length (mm): 51.5<br>Body Mass (g): 5500\\\",\\\"Species: Gentoo<br>Flipper Length (mm): 217<br>Bill Length (mm): 46.2<br>Body Mass (g): 4375\\\",\\\"Species: Gentoo<br>Flipper Length (mm): 230<br>Bill Length (mm): 55.1<br>Body Mass (g): 5850\\\",\\\"Species: Gentoo<br>Flipper Length (mm): 217<br>Bill Length (mm): 44.5<br>Body Mass (g): 4875\\\",\\\"Species: Gentoo<br>Flipper Length (mm): 222<br>Bill Length (mm): 48.8<br>Body Mass (g): 6000\\\",\\\"Species: Gentoo<br>Flipper Length (mm): 214<br>Bill Length (mm): 47.2<br>Body Mass (g): 4925\\\",\\\"Species: Gentoo<br>Flipper Length (mm): NA<br>Bill Length (mm): NA<br>Body Mass (g): NA\\\",\\\"Species: Gentoo<br>Flipper Length (mm): 215<br>Bill Length (mm): 46.8<br>Body Mass (g): 4850\\\",\\\"Species: Gentoo<br>Flipper Length (mm): 222<br>Bill Length (mm): 50.4<br>Body Mass (g): 5750\\\",\\\"Species: Gentoo<br>Flipper Length (mm): 212<br>Bill Length (mm): 45.2<br>Body Mass (g): 5200\\\",\\\"Species: Gentoo<br>Flipper Length (mm): 213<br>Bill Length (mm): 49.9<br>Body Mass (g): 5400\\\",\\\"Species: Chinstrap<br>Flipper Length (mm): 192<br>Bill Length (mm): 46.5<br>Body Mass (g): 3500\\\",\\\"Species: Chinstrap<br>Flipper Length (mm): 196<br>Bill Length (mm): 50<br>Body Mass (g): 3900\\\",\\\"Species: Chinstrap<br>Flipper Length (mm): 193<br>Bill Length (mm): 51.3<br>Body Mass (g): 3650\\\",\\\"Species: Chinstrap<br>Flipper Length (mm): 188<br>Bill Length (mm): 45.4<br>Body Mass (g): 3525\\\",\\\"Species: Chinstrap<br>Flipper Length (mm): 197<br>Bill Length (mm): 52.7<br>Body Mass (g): 3725\\\",\\\"Species: Chinstrap<br>Flipper Length (mm): 198<br>Bill Length (mm): 45.2<br>Body Mass (g): 3950\\\",\\\"Species: Chinstrap<br>Flipper Length (mm): 178<br>Bill Length (mm): 46.1<br>Body Mass (g): 3250\\\",\\\"Species: Chinstrap<br>Flipper Length (mm): 197<br>Bill Length (mm): 51.3<br>Body Mass (g): 3750\\\",\\\"Species: Chinstrap<br>Flipper Length (mm): 195<br>Bill Length (mm): 46<br>Body Mass (g): 4150\\\",\\\"Species: Chinstrap<br>Flipper Length (mm): 198<br>Bill Length (mm): 51.3<br>Body Mass (g): 3700\\\",\\\"Species: Chinstrap<br>Flipper Length (mm): 193<br>Bill Length (mm): 46.6<br>Body Mass (g): 3800\\\",\\\"Species: Chinstrap<br>Flipper Length (mm): 194<br>Bill Length (mm): 51.7<br>Body Mass (g): 3775\\\",\\\"Species: Chinstrap<br>Flipper Length (mm): 185<br>Bill Length (mm): 47<br>Body Mass (g): 3700\\\",\\\"Species: Chinstrap<br>Flipper Length (mm): 201<br>Bill Length (mm): 52<br>Body Mass (g): 4050\\\",\\\"Species: Chinstrap<br>Flipper Length (mm): 190<br>Bill Length (mm): 45.9<br>Body Mass (g): 3575\\\",\\\"Species: Chinstrap<br>Flipper Length (mm): 201<br>Bill Length (mm): 50.5<br>Body Mass (g): 4050\\\",\\\"Species: Chinstrap<br>Flipper Length (mm): 197<br>Bill Length (mm): 50.3<br>Body Mass (g): 3300\\\",\\\"Species: Chinstrap<br>Flipper Length (mm): 181<br>Bill Length (mm): 58<br>Body Mass (g): 3700\\\",\\\"Species: Chinstrap<br>Flipper Length (mm): 190<br>Bill Length (mm): 46.4<br>Body Mass (g): 3450\\\",\\\"Species: Chinstrap<br>Flipper Length (mm): 195<br>Bill Length (mm): 49.2<br>Body Mass (g): 4400\\\",\\\"Species: Chinstrap<br>Flipper Length (mm): 181<br>Bill Length (mm): 42.4<br>Body Mass (g): 3600\\\",\\\"Species: Chinstrap<br>Flipper Length (mm): 191<br>Bill Length (mm): 48.5<br>Body Mass (g): 3400\\\",\\\"Species: Chinstrap<br>Flipper Length (mm): 187<br>Bill Length (mm): 43.2<br>Body Mass (g): 2900\\\",\\\"Species: Chinstrap<br>Flipper Length (mm): 193<br>Bill Length (mm): 50.6<br>Body Mass (g): 3800\\\",\\\"Species: Chinstrap<br>Flipper Length (mm): 195<br>Bill Length (mm): 46.7<br>Body Mass (g): 3300\\\",\\\"Species: Chinstrap<br>Flipper Length (mm): 197<br>Bill Length (mm): 52<br>Body Mass (g): 4150\\\",\\\"Species: Chinstrap<br>Flipper Length (mm): 200<br>Bill Length (mm): 50.5<br>Body Mass (g): 3400\\\",\\\"Species: Chinstrap<br>Flipper Length (mm): 200<br>Bill Length (mm): 49.5<br>Body Mass (g): 3800\\\",\\\"Species: Chinstrap<br>Flipper Length (mm): 191<br>Bill Length (mm): 46.4<br>Body Mass (g): 3700\\\",\\\"Species: Chinstrap<br>Flipper Length (mm): 205<br>Bill Length (mm): 52.8<br>Body Mass (g): 4550\\\",\\\"Species: Chinstrap<br>Flipper Length (mm): 187<br>Bill Length (mm): 40.9<br>Body Mass (g): 3200\\\",\\\"Species: Chinstrap<br>Flipper Length (mm): 201<br>Bill Length (mm): 54.2<br>Body Mass (g): 4300\\\",\\\"Species: Chinstrap<br>Flipper Length (mm): 187<br>Bill Length (mm): 42.5<br>Body Mass (g): 3350\\\",\\\"Species: Chinstrap<br>Flipper Length (mm): 203<br>Bill Length (mm): 51<br>Body Mass (g): 4100\\\",\\\"Species: Chinstrap<br>Flipper Length (mm): 195<br>Bill Length (mm): 49.7<br>Body Mass (g): 3600\\\",\\\"Species: Chinstrap<br>Flipper Length (mm): 199<br>Bill Length (mm): 47.5<br>Body Mass (g): 3900\\\",\\\"Species: Chinstrap<br>Flipper Length (mm): 195<br>Bill Length (mm): 47.6<br>Body Mass (g): 3850\\\",\\\"Species: Chinstrap<br>Flipper Length (mm): 210<br>Bill Length (mm): 52<br>Body Mass (g): 4800\\\",\\\"Species: Chinstrap<br>Flipper Length (mm): 192<br>Bill Length (mm): 46.9<br>Body Mass (g): 2700\\\",\\\"Species: Chinstrap<br>Flipper Length (mm): 205<br>Bill Length (mm): 53.5<br>Body Mass (g): 4500\\\",\\\"Species: Chinstrap<br>Flipper Length (mm): 210<br>Bill Length (mm): 49<br>Body Mass (g): 3950\\\",\\\"Species: Chinstrap<br>Flipper Length (mm): 187<br>Bill Length (mm): 46.2<br>Body Mass (g): 3650\\\",\\\"Species: Chinstrap<br>Flipper Length (mm): 196<br>Bill Length (mm): 50.9<br>Body Mass (g): 3550\\\",\\\"Species: Chinstrap<br>Flipper Length (mm): 196<br>Bill Length (mm): 45.5<br>Body Mass (g): 3500\\\",\\\"Species: Chinstrap<br>Flipper Length (mm): 196<br>Bill Length (mm): 50.9<br>Body Mass (g): 3675\\\",\\\"Species: Chinstrap<br>Flipper Length (mm): 201<br>Bill Length (mm): 50.8<br>Body Mass (g): 4450\\\",\\\"Species: Chinstrap<br>Flipper Length (mm): 190<br>Bill Length (mm): 50.1<br>Body Mass (g): 3400\\\",\\\"Species: Chinstrap<br>Flipper Length (mm): 212<br>Bill Length (mm): 49<br>Body Mass (g): 4300\\\",\\\"Species: Chinstrap<br>Flipper Length (mm): 187<br>Bill Length (mm): 51.5<br>Body Mass (g): 3250\\\",\\\"Species: Chinstrap<br>Flipper Length (mm): 198<br>Bill Length (mm): 49.8<br>Body Mass (g): 3675\\\",\\\"Species: Chinstrap<br>Flipper Length (mm): 199<br>Bill Length (mm): 48.1<br>Body Mass (g): 3325\\\",\\\"Species: Chinstrap<br>Flipper Length (mm): 201<br>Bill Length (mm): 51.4<br>Body Mass (g): 3950\\\",\\\"Species: Chinstrap<br>Flipper Length (mm): 193<br>Bill Length (mm): 45.7<br>Body Mass (g): 3600\\\",\\\"Species: Chinstrap<br>Flipper Length (mm): 203<br>Bill Length (mm): 50.7<br>Body Mass (g): 4050\\\",\\\"Species: Chinstrap<br>Flipper Length (mm): 187<br>Bill Length (mm): 42.5<br>Body Mass (g): 3350\\\",\\\"Species: Chinstrap<br>Flipper Length (mm): 197<br>Bill Length (mm): 52.2<br>Body Mass (g): 3450\\\",\\\"Species: Chinstrap<br>Flipper Length (mm): 191<br>Bill Length (mm): 45.2<br>Body Mass (g): 3250\\\",\\\"Species: Chinstrap<br>Flipper Length (mm): 203<br>Bill Length (mm): 49.3<br>Body Mass (g): 4050\\\",\\\"Species: Chinstrap<br>Flipper Length (mm): 202<br>Bill Length (mm): 50.2<br>Body Mass (g): 3800\\\",\\\"Species: Chinstrap<br>Flipper Length (mm): 194<br>Bill Length (mm): 45.6<br>Body Mass (g): 3525\\\",\\\"Species: Chinstrap<br>Flipper Length (mm): 206<br>Bill Length (mm): 51.9<br>Body Mass (g): 3950\\\",\\\"Species: Chinstrap<br>Flipper Length (mm): 189<br>Bill Length (mm): 46.8<br>Body Mass (g): 3650\\\",\\\"Species: Chinstrap<br>Flipper Length (mm): 195<br>Bill Length (mm): 45.7<br>Body Mass (g): 3650\\\",\\\"Species: Chinstrap<br>Flipper Length (mm): 207<br>Bill Length (mm): 55.8<br>Body Mass (g): 4000\\\",\\\"Species: Chinstrap<br>Flipper Length (mm): 202<br>Bill Length (mm): 43.5<br>Body Mass (g): 3400\\\",\\\"Species: Chinstrap<br>Flipper Length (mm): 193<br>Bill Length (mm): 49.6<br>Body Mass (g): 3775\\\",\\\"Species: Chinstrap<br>Flipper Length (mm): 210<br>Bill Length (mm): 50.8<br>Body Mass (g): 4100\\\",\\\"Species: Chinstrap<br>Flipper Length (mm): 198<br>Bill Length (mm): 50.2<br>Body Mass (g): 3775\\\"],\\\"z\\\":[\\\"3750\\\",\\\"3800\\\",\\\"3250\\\",\\\"NA\\\",\\\"3450\\\",\\\"3650\\\",\\\"3625\\\",\\\"4675\\\",\\\"3475\\\",\\\"4250\\\",\\\"3300\\\",\\\"3700\\\",\\\"3200\\\",\\\"3800\\\",\\\"4400\\\",\\\"3700\\\",\\\"3450\\\",\\\"4500\\\",\\\"3325\\\",\\\"4200\\\",\\\"3400\\\",\\\"3600\\\",\\\"3800\\\",\\\"3950\\\",\\\"3800\\\",\\\"3800\\\",\\\"3550\\\",\\\"3200\\\",\\\"3150\\\",\\\"3950\\\",\\\"3250\\\",\\\"3900\\\",\\\"3300\\\",\\\"3900\\\",\\\"3325\\\",\\\"4150\\\",\\\"3950\\\",\\\"3550\\\",\\\"3300\\\",\\\"4650\\\",\\\"3150\\\",\\\"3900\\\",\\\"3100\\\",\\\"4400\\\",\\\"3000\\\",\\\"4600\\\",\\\"3425\\\",\\\"2975\\\",\\\"3450\\\",\\\"4150\\\",\\\"3500\\\",\\\"4300\\\",\\\"3450\\\",\\\"4050\\\",\\\"2900\\\",\\\"3700\\\",\\\"3550\\\",\\\"3800\\\",\\\"2850\\\",\\\"3750\\\",\\\"3150\\\",\\\"4400\\\",\\\"3600\\\",\\\"4050\\\",\\\"2850\\\",\\\"3950\\\",\\\"3350\\\",\\\"4100\\\",\\\"3050\\\",\\\"4450\\\",\\\"3600\\\",\\\"3900\\\",\\\"3550\\\",\\\"4150\\\",\\\"3700\\\",\\\"4250\\\",\\\"3700\\\",\\\"3900\\\",\\\"3550\\\",\\\"4000\\\",\\\"3200\\\",\\\"4700\\\",\\\"3800\\\",\\\"4200\\\",\\\"3350\\\",\\\"3550\\\",\\\"3800\\\",\\\"3500\\\",\\\"3950\\\",\\\"3600\\\",\\\"3550\\\",\\\"4300\\\",\\\"3400\\\",\\\"4450\\\",\\\"3300\\\",\\\"4300\\\",\\\"3700\\\",\\\"4350\\\",\\\"2900\\\",\\\"4100\\\",\\\"3725\\\",\\\"4725\\\",\\\"3075\\\",\\\"4250\\\",\\\"2925\\\",\\\"3550\\\",\\\"3750\\\",\\\"3900\\\",\\\"3175\\\",\\\"4775\\\",\\\"3825\\\",\\\"4600\\\",\\\"3200\\\",\\\"4275\\\",\\\"3900\\\",\\\"4075\\\",\\\"2900\\\",\\\"3775\\\",\\\"3350\\\",\\\"3325\\\",\\\"3150\\\",\\\"3500\\\",\\\"3450\\\",\\\"3875\\\",\\\"3050\\\",\\\"4000\\\",\\\"3275\\\",\\\"4300\\\",\\\"3050\\\",\\\"4000\\\",\\\"3325\\\",\\\"3500\\\",\\\"3500\\\",\\\"4475\\\",\\\"3425\\\",\\\"3900\\\",\\\"3175\\\",\\\"3975\\\",\\\"3400\\\",\\\"4250\\\",\\\"3400\\\",\\\"3475\\\",\\\"3050\\\",\\\"3725\\\",\\\"3000\\\",\\\"3650\\\",\\\"4250\\\",\\\"3475\\\",\\\"3450\\\",\\\"3750\\\",\\\"3700\\\",\\\"4000\\\",\\\"4500\\\",\\\"5700\\\",\\\"4450\\\",\\\"5700\\\",\\\"5400\\\",\\\"4550\\\",\\\"4800\\\",\\\"5200\\\",\\\"4400\\\",\\\"5150\\\",\\\"4650\\\",\\\"5550\\\",\\\"4650\\\",\\\"5850\\\",\\\"4200\\\",\\\"5850\\\",\\\"4150\\\",\\\"6300\\\",\\\"4800\\\",\\\"5350\\\",\\\"5700\\\",\\\"5000\\\",\\\"4400\\\",\\\"5050\\\",\\\"5000\\\",\\\"5100\\\",\\\"4100\\\",\\\"5650\\\",\\\"4600\\\",\\\"5550\\\",\\\"5250\\\",\\\"4700\\\",\\\"5050\\\",\\\"6050\\\",\\\"5150\\\",\\\"5400\\\",\\\"4950\\\",\\\"5250\\\",\\\"4350\\\",\\\"5350\\\",\\\"3950\\\",\\\"5700\\\",\\\"4300\\\",\\\"4750\\\",\\\"5550\\\",\\\"4900\\\",\\\"4200\\\",\\\"5400\\\",\\\"5100\\\",\\\"5300\\\",\\\"4850\\\",\\\"5300\\\",\\\"4400\\\",\\\"5000\\\",\\\"4900\\\",\\\"5050\\\",\\\"4300\\\",\\\"5000\\\",\\\"4450\\\",\\\"5550\\\",\\\"4200\\\",\\\"5300\\\",\\\"4400\\\",\\\"5650\\\",\\\"4700\\\",\\\"5700\\\",\\\"4650\\\",\\\"5800\\\",\\\"4700\\\",\\\"5550\\\",\\\"4750\\\",\\\"5000\\\",\\\"5100\\\",\\\"5200\\\",\\\"4700\\\",\\\"5800\\\",\\\"4600\\\",\\\"6000\\\",\\\"4750\\\",\\\"5950\\\",\\\"4625\\\",\\\"5450\\\",\\\"4725\\\",\\\"5350\\\",\\\"4750\\\",\\\"5600\\\",\\\"4600\\\",\\\"5300\\\",\\\"4875\\\",\\\"5550\\\",\\\"4950\\\",\\\"5400\\\",\\\"4750\\\",\\\"5650\\\",\\\"4850\\\",\\\"5200\\\",\\\"4925\\\",\\\"4875\\\",\\\"4625\\\",\\\"5250\\\",\\\"4850\\\",\\\"5600\\\",\\\"4975\\\",\\\"5500\\\",\\\"4725\\\",\\\"5500\\\",\\\"4700\\\",\\\"5500\\\",\\\"4575\\\",\\\"5500\\\",\\\"5000\\\",\\\"5950\\\",\\\"4650\\\",\\\"5500\\\",\\\"4375\\\",\\\"5850\\\",\\\"4875\\\",\\\"6000\\\",\\\"4925\\\",\\\"NA\\\",\\\"4850\\\",\\\"5750\\\",\\\"5200\\\",\\\"5400\\\",\\\"3500\\\",\\\"3900\\\",\\\"3650\\\",\\\"3525\\\",\\\"3725\\\",\\\"3950\\\",\\\"3250\\\",\\\"3750\\\",\\\"4150\\\",\\\"3700\\\",\\\"3800\\\",\\\"3775\\\",\\\"3700\\\",\\\"4050\\\",\\\"3575\\\",\\\"4050\\\",\\\"3300\\\",\\\"3700\\\",\\\"3450\\\",\\\"4400\\\",\\\"3600\\\",\\\"3400\\\",\\\"2900\\\",\\\"3800\\\",\\\"3300\\\",\\\"4150\\\",\\\"3400\\\",\\\"3800\\\",\\\"3700\\\",\\\"4550\\\",\\\"3200\\\",\\\"4300\\\",\\\"3350\\\",\\\"4100\\\",\\\"3600\\\",\\\"3900\\\",\\\"3850\\\",\\\"4800\\\",\\\"2700\\\",\\\"4500\\\",\\\"3950\\\",\\\"3650\\\",\\\"3550\\\",\\\"3500\\\",\\\"3675\\\",\\\"4450\\\",\\\"3400\\\",\\\"4300\\\",\\\"3250\\\",\\\"3675\\\",\\\"3325\\\",\\\"3950\\\",\\\"3600\\\",\\\"4050\\\",\\\"3350\\\",\\\"3450\\\",\\\"3250\\\",\\\"4050\\\",\\\"3800\\\",\\\"3525\\\",\\\"3950\\\",\\\"3650\\\",\\\"3650\\\",\\\"4000\\\",\\\"3400\\\",\\\"3775\\\",\\\"4100\\\",\\\"3775\\\"],\\\"marker\\\":{\\\"color\\\":[\\\"Adelie\\\",\\\"Adelie\\\",\\\"Adelie\\\",\\\"Adelie\\\",\\\"Adelie\\\",\\\"Adelie\\\",\\\"Adelie\\\",\\\"Adelie\\\",\\\"Adelie\\\",\\\"Adelie\\\",\\\"Adelie\\\",\\\"Adelie\\\",\\\"Adelie\\\",\\\"Adelie\\\",\\\"Adelie\\\",\\\"Adelie\\\",\\\"Adelie\\\",\\\"Adelie\\\",\\\"Adelie\\\",\\\"Adelie\\\",\\\"Adelie\\\",\\\"Adelie\\\",\\\"Adelie\\\",\\\"Adelie\\\",\\\"Adelie\\\",\\\"Adelie\\\",\\\"Adelie\\\",\\\"Adelie\\\",\\\"Adelie\\\",\\\"Adelie\\\",\\\"Adelie\\\",\\\"Adelie\\\",\\\"Adelie\\\",\\\"Adelie\\\",\\\"Adelie\\\",\\\"Adelie\\\",\\\"Adelie\\\",\\\"Adelie\\\",\\\"Adelie\\\",\\\"Adelie\\\",\\\"Adelie\\\",\\\"Adelie\\\",\\\"Adelie\\\",\\\"Adelie\\\",\\\"Adelie\\\",\\\"Adelie\\\",\\\"Adelie\\\",\\\"Adelie\\\",\\\"Adelie\\\",\\\"Adelie\\\",\\\"Adelie\\\",\\\"Adelie\\\",\\\"Adelie\\\",\\\"Adelie\\\",\\\"Adelie\\\",\\\"Adelie\\\",\\\"Adelie\\\",\\\"Adelie\\\",\\\"Adelie\\\",\\\"Adelie\\\",\\\"Adelie\\\",\\\"Adelie\\\",\\\"Adelie\\\",\\\"Adelie\\\",\\\"Adelie\\\",\\\"Adelie\\\",\\\"Adelie\\\",\\\"Adelie\\\",\\\"Adelie\\\",\\\"Adelie\\\",\\\"Adelie\\\",\\\"Adelie\\\",\\\"Adelie\\\",\\\"Adelie\\\",\\\"Adelie\\\",\\\"Adelie\\\",\\\"Adelie\\\",\\\"Adelie\\\",\\\"Adelie\\\",\\\"Adelie\\\",\\\"Adelie\\\",\\\"Adelie\\\",\\\"Adelie\\\",\\\"Adelie\\\",\\\"Adelie\\\",\\\"Adelie\\\",\\\"Adelie\\\",\\\"Adelie\\\",\\\"Adelie\\\",\\\"Adelie\\\",\\\"Adelie\\\",\\\"Adelie\\\",\\\"Adelie\\\",\\\"Adelie\\\",\\\"Adelie\\\",\\\"Adelie\\\",\\\"Adelie\\\",\\\"Adelie\\\",\\\"Adelie\\\",\\\"Adelie\\\",\\\"Adelie\\\",\\\"Adelie\\\",\\\"Adelie\\\",\\\"Adelie\\\",\\\"Adelie\\\",\\\"Adelie\\\",\\\"Adelie\\\",\\\"Adelie\\\",\\\"Adelie\\\",\\\"Adelie\\\",\\\"Adelie\\\",\\\"Adelie\\\",\\\"Adelie\\\",\\\"Adelie\\\",\\\"Adelie\\\",\\\"Adelie\\\",\\\"Adelie\\\",\\\"Adelie\\\",\\\"Adelie\\\",\\\"Adelie\\\",\\\"Adelie\\\",\\\"Adelie\\\",\\\"Adelie\\\",\\\"Adelie\\\",\\\"Adelie\\\",\\\"Adelie\\\",\\\"Adelie\\\",\\\"Adelie\\\",\\\"Adelie\\\",\\\"Adelie\\\",\\\"Adelie\\\",\\\"Adelie\\\",\\\"Adelie\\\",\\\"Adelie\\\",\\\"Adelie\\\",\\\"Adelie\\\",\\\"Adelie\\\",\\\"Adelie\\\",\\\"Adelie\\\",\\\"Adelie\\\",\\\"Adelie\\\",\\\"Adelie\\\",\\\"Adelie\\\",\\\"Adelie\\\",\\\"Adelie\\\",\\\"Adelie\\\",\\\"Adelie\\\",\\\"Adelie\\\",\\\"Adelie\\\",\\\"Adelie\\\",\\\"Adelie\\\",\\\"Adelie\\\",\\\"Gentoo\\\",\\\"Gentoo\\\",\\\"Gentoo\\\",\\\"Gentoo\\\",\\\"Gentoo\\\",\\\"Gentoo\\\",\\\"Gentoo\\\",\\\"Gentoo\\\",\\\"Gentoo\\\",\\\"Gentoo\\\",\\\"Gentoo\\\",\\\"Gentoo\\\",\\\"Gentoo\\\",\\\"Gentoo\\\",\\\"Gentoo\\\",\\\"Gentoo\\\",\\\"Gentoo\\\",\\\"Gentoo\\\",\\\"Gentoo\\\",\\\"Gentoo\\\",\\\"Gentoo\\\",\\\"Gentoo\\\",\\\"Gentoo\\\",\\\"Gentoo\\\",\\\"Gentoo\\\",\\\"Gentoo\\\",\\\"Gentoo\\\",\\\"Gentoo\\\",\\\"Gentoo\\\",\\\"Gentoo\\\",\\\"Gentoo\\\",\\\"Gentoo\\\",\\\"Gentoo\\\",\\\"Gentoo\\\",\\\"Gentoo\\\",\\\"Gentoo\\\",\\\"Gentoo\\\",\\\"Gentoo\\\",\\\"Gentoo\\\",\\\"Gentoo\\\",\\\"Gentoo\\\",\\\"Gentoo\\\",\\\"Gentoo\\\",\\\"Gentoo\\\",\\\"Gentoo\\\",\\\"Gentoo\\\",\\\"Gentoo\\\",\\\"Gentoo\\\",\\\"Gentoo\\\",\\\"Gentoo\\\",\\\"Gentoo\\\",\\\"Gentoo\\\",\\\"Gentoo\\\",\\\"Gentoo\\\",\\\"Gentoo\\\",\\\"Gentoo\\\",\\\"Gentoo\\\",\\\"Gentoo\\\",\\\"Gentoo\\\",\\\"Gentoo\\\",\\\"Gentoo\\\",\\\"Gentoo\\\",\\\"Gentoo\\\",\\\"Gentoo\\\",\\\"Gentoo\\\",\\\"Gentoo\\\",\\\"Gentoo\\\",\\\"Gentoo\\\",\\\"Gentoo\\\",\\\"Gentoo\\\",\\\"Gentoo\\\",\\\"Gentoo\\\",\\\"Gentoo\\\",\\\"Gentoo\\\",\\\"Gentoo\\\",\\\"Gentoo\\\",\\\"Gentoo\\\",\\\"Gentoo\\\",\\\"Gentoo\\\",\\\"Gentoo\\\",\\\"Gentoo\\\",\\\"Gentoo\\\",\\\"Gentoo\\\",\\\"Gentoo\\\",\\\"Gentoo\\\",\\\"Gentoo\\\",\\\"Gentoo\\\",\\\"Gentoo\\\",\\\"Gentoo\\\",\\\"Gentoo\\\",\\\"Gentoo\\\",\\\"Gentoo\\\",\\\"Gentoo\\\",\\\"Gentoo\\\",\\\"Gentoo\\\",\\\"Gentoo\\\",\\\"Gentoo\\\",\\\"Gentoo\\\",\\\"Gentoo\\\",\\\"Gentoo\\\",\\\"Gentoo\\\",\\\"Gentoo\\\",\\\"Gentoo\\\",\\\"Gentoo\\\",\\\"Gentoo\\\",\\\"Gentoo\\\",\\\"Gentoo\\\",\\\"Gentoo\\\",\\\"Gentoo\\\",\\\"Gentoo\\\",\\\"Gentoo\\\",\\\"Gentoo\\\",\\\"Gentoo\\\",\\\"Gentoo\\\",\\\"Gentoo\\\",\\\"Gentoo\\\",\\\"Gentoo\\\",\\\"Gentoo\\\",\\\"Gentoo\\\",\\\"Gentoo\\\",\\\"Gentoo\\\",\\\"Gentoo\\\",\\\"Gentoo\\\",\\\"Gentoo\\\",\\\"Chinstrap\\\",\\\"Chinstrap\\\",\\\"Chinstrap\\\",\\\"Chinstrap\\\",\\\"Chinstrap\\\",\\\"Chinstrap\\\",\\\"Chinstrap\\\",\\\"Chinstrap\\\",\\\"Chinstrap\\\",\\\"Chinstrap\\\",\\\"Chinstrap\\\",\\\"Chinstrap\\\",\\\"Chinstrap\\\",\\\"Chinstrap\\\",\\\"Chinstrap\\\",\\\"Chinstrap\\\",\\\"Chinstrap\\\",\\\"Chinstrap\\\",\\\"Chinstrap\\\",\\\"Chinstrap\\\",\\\"Chinstrap\\\",\\\"Chinstrap\\\",\\\"Chinstrap\\\",\\\"Chinstrap\\\",\\\"Chinstrap\\\",\\\"Chinstrap\\\",\\\"Chinstrap\\\",\\\"Chinstrap\\\",\\\"Chinstrap\\\",\\\"Chinstrap\\\",\\\"Chinstrap\\\",\\\"Chinstrap\\\",\\\"Chinstrap\\\",\\\"Chinstrap\\\",\\\"Chinstrap\\\",\\\"Chinstrap\\\",\\\"Chinstrap\\\",\\\"Chinstrap\\\",\\\"Chinstrap\\\",\\\"Chinstrap\\\",\\\"Chinstrap\\\",\\\"Chinstrap\\\",\\\"Chinstrap\\\",\\\"Chinstrap\\\",\\\"Chinstrap\\\",\\\"Chinstrap\\\",\\\"Chinstrap\\\",\\\"Chinstrap\\\",\\\"Chinstrap\\\",\\\"Chinstrap\\\",\\\"Chinstrap\\\",\\\"Chinstrap\\\",\\\"Chinstrap\\\",\\\"Chinstrap\\\",\\\"Chinstrap\\\",\\\"Chinstrap\\\",\\\"Chinstrap\\\",\\\"Chinstrap\\\",\\\"Chinstrap\\\",\\\"Chinstrap\\\",\\\"Chinstrap\\\",\\\"Chinstrap\\\",\\\"Chinstrap\\\",\\\"Chinstrap\\\",\\\"Chinstrap\\\",\\\"Chinstrap\\\",\\\"Chinstrap\\\",\\\"Chinstrap\\\"],\\\"size\\\":5,\\\"colorscale\\\":\\\"Viridis\\\"}}],{\\\"template\\\":{\\\"layout\\\":{\\\"coloraxis\\\":{\\\"colorbar\\\":{\\\"ticks\\\":\\\"\\\",\\\"outlinewidth\\\":0}},\\\"xaxis\\\":{\\\"gridcolor\\\":\\\"white\\\",\\\"zerolinewidth\\\":2,\\\"title\\\":{\\\"standoff\\\":15},\\\"ticks\\\":\\\"\\\",\\\"zerolinecolor\\\":\\\"white\\\",\\\"automargin\\\":true,\\\"linecolor\\\":\\\"white\\\"},\\\"hovermode\\\":\\\"closest\\\",\\\"paper_bgcolor\\\":\\\"white\\\",\\\"geo\\\":{\\\"showlakes\\\":true,\\\"showland\\\":true,\\\"landcolor\\\":\\\"#E5ECF6\\\",\\\"bgcolor\\\":\\\"white\\\",\\\"subunitcolor\\\":\\\"white\\\",\\\"lakecolor\\\":\\\"white\\\"},\\\"colorscale\\\":{\\\"sequential\\\":[[0.0,\\\"#0d0887\\\"],[0.1111111111111111,\\\"#46039f\\\"],[0.2222222222222222,\\\"#7201a8\\\"],[0.3333333333333333,\\\"#9c179e\\\"],[0.4444444444444444,\\\"#bd3786\\\"],[0.5555555555555556,\\\"#d8576b\\\"],[0.6666666666666666,\\\"#ed7953\\\"],[0.7777777777777778,\\\"#fb9f3a\\\"],[0.8888888888888888,\\\"#fdca26\\\"],[1.0,\\\"#f0f921\\\"]],\\\"diverging\\\":[[0,\\\"#8e0152\\\"],[0.1,\\\"#c51b7d\\\"],[0.2,\\\"#de77ae\\\"],[0.3,\\\"#f1b6da\\\"],[0.4,\\\"#fde0ef\\\"],[0.5,\\\"#f7f7f7\\\"],[0.6,\\\"#e6f5d0\\\"],[0.7,\\\"#b8e186\\\"],[0.8,\\\"#7fbc41\\\"],[0.9,\\\"#4d9221\\\"],[1,\\\"#276419\\\"]],\\\"sequentialminus\\\":[[0.0,\\\"#0d0887\\\"],[0.1111111111111111,\\\"#46039f\\\"],[0.2222222222222222,\\\"#7201a8\\\"],[0.3333333333333333,\\\"#9c179e\\\"],[0.4444444444444444,\\\"#bd3786\\\"],[0.5555555555555556,\\\"#d8576b\\\"],[0.6666666666666666,\\\"#ed7953\\\"],[0.7777777777777778,\\\"#fb9f3a\\\"],[0.8888888888888888,\\\"#fdca26\\\"],[1.0,\\\"#f0f921\\\"]]},\\\"yaxis\\\":{\\\"gridcolor\\\":\\\"white\\\",\\\"zerolinewidth\\\":2,\\\"title\\\":{\\\"standoff\\\":15},\\\"ticks\\\":\\\"\\\",\\\"zerolinecolor\\\":\\\"white\\\",\\\"automargin\\\":true,\\\"linecolor\\\":\\\"white\\\"},\\\"shapedefaults\\\":{\\\"line\\\":{\\\"color\\\":\\\"#2a3f5f\\\"}},\\\"hoverlabel\\\":{\\\"align\\\":\\\"left\\\"},\\\"mapbox\\\":{\\\"style\\\":\\\"light\\\"},\\\"polar\\\":{\\\"angularaxis\\\":{\\\"gridcolor\\\":\\\"white\\\",\\\"ticks\\\":\\\"\\\",\\\"linecolor\\\":\\\"white\\\"},\\\"bgcolor\\\":\\\"#E5ECF6\\\",\\\"radialaxis\\\":{\\\"gridcolor\\\":\\\"white\\\",\\\"ticks\\\":\\\"\\\",\\\"linecolor\\\":\\\"white\\\"}},\\\"autotypenumbers\\\":\\\"strict\\\",\\\"font\\\":{\\\"color\\\":\\\"#2a3f5f\\\"},\\\"ternary\\\":{\\\"baxis\\\":{\\\"gridcolor\\\":\\\"white\\\",\\\"ticks\\\":\\\"\\\",\\\"linecolor\\\":\\\"white\\\"},\\\"bgcolor\\\":\\\"#E5ECF6\\\",\\\"caxis\\\":{\\\"gridcolor\\\":\\\"white\\\",\\\"ticks\\\":\\\"\\\",\\\"linecolor\\\":\\\"white\\\"},\\\"aaxis\\\":{\\\"gridcolor\\\":\\\"white\\\",\\\"ticks\\\":\\\"\\\",\\\"linecolor\\\":\\\"white\\\"}},\\\"annotationdefaults\\\":{\\\"arrowhead\\\":0,\\\"arrowwidth\\\":1,\\\"arrowcolor\\\":\\\"#2a3f5f\\\"},\\\"plot_bgcolor\\\":\\\"#E5ECF6\\\",\\\"title\\\":{\\\"x\\\":0.05},\\\"scene\\\":{\\\"xaxis\\\":{\\\"gridcolor\\\":\\\"white\\\",\\\"gridwidth\\\":2,\\\"backgroundcolor\\\":\\\"#E5ECF6\\\",\\\"ticks\\\":\\\"\\\",\\\"showbackground\\\":true,\\\"zerolinecolor\\\":\\\"white\\\",\\\"linecolor\\\":\\\"white\\\"},\\\"zaxis\\\":{\\\"gridcolor\\\":\\\"white\\\",\\\"gridwidth\\\":2,\\\"backgroundcolor\\\":\\\"#E5ECF6\\\",\\\"ticks\\\":\\\"\\\",\\\"showbackground\\\":true,\\\"zerolinecolor\\\":\\\"white\\\",\\\"linecolor\\\":\\\"white\\\"},\\\"yaxis\\\":{\\\"gridcolor\\\":\\\"white\\\",\\\"gridwidth\\\":2,\\\"backgroundcolor\\\":\\\"#E5ECF6\\\",\\\"ticks\\\":\\\"\\\",\\\"showbackground\\\":true,\\\"zerolinecolor\\\":\\\"white\\\",\\\"linecolor\\\":\\\"white\\\"}},\\\"colorway\\\":[\\\"#636efa\\\",\\\"#EF553B\\\",\\\"#00cc96\\\",\\\"#ab63fa\\\",\\\"#FFA15A\\\",\\\"#19d3f3\\\",\\\"#FF6692\\\",\\\"#B6E880\\\",\\\"#FF97FF\\\",\\\"#FECB52\\\"]},\\\"data\\\":{\\\"barpolar\\\":[{\\\"type\\\":\\\"barpolar\\\",\\\"marker\\\":{\\\"line\\\":{\\\"color\\\":\\\"#E5ECF6\\\",\\\"width\\\":0.5}}}],\\\"carpet\\\":[{\\\"aaxis\\\":{\\\"gridcolor\\\":\\\"white\\\",\\\"endlinecolor\\\":\\\"#2a3f5f\\\",\\\"minorgridcolor\\\":\\\"white\\\",\\\"startlinecolor\\\":\\\"#2a3f5f\\\",\\\"linecolor\\\":\\\"white\\\"},\\\"type\\\":\\\"carpet\\\",\\\"baxis\\\":{\\\"gridcolor\\\":\\\"white\\\",\\\"endlinecolor\\\":\\\"#2a3f5f\\\",\\\"minorgridcolor\\\":\\\"white\\\",\\\"startlinecolor\\\":\\\"#2a3f5f\\\",\\\"linecolor\\\":\\\"white\\\"}}],\\\"scatterpolar\\\":[{\\\"type\\\":\\\"scatterpolar\\\",\\\"marker\\\":{\\\"colorbar\\\":{\\\"ticks\\\":\\\"\\\",\\\"outlinewidth\\\":0}}}],\\\"parcoords\\\":[{\\\"line\\\":{\\\"colorbar\\\":{\\\"ticks\\\":\\\"\\\",\\\"outlinewidth\\\":0}},\\\"type\\\":\\\"parcoords\\\"}],\\\"scatter\\\":[{\\\"type\\\":\\\"scatter\\\",\\\"marker\\\":{\\\"colorbar\\\":{\\\"ticks\\\":\\\"\\\",\\\"outlinewidth\\\":0}}}],\\\"histogram2dcontour\\\":[{\\\"colorbar\\\":{\\\"ticks\\\":\\\"\\\",\\\"outlinewidth\\\":0},\\\"type\\\":\\\"histogram2dcontour\\\",\\\"colorscale\\\":[[0.0,\\\"#0d0887\\\"],[0.1111111111111111,\\\"#46039f\\\"],[0.2222222222222222,\\\"#7201a8\\\"],[0.3333333333333333,\\\"#9c179e\\\"],[0.4444444444444444,\\\"#bd3786\\\"],[0.5555555555555556,\\\"#d8576b\\\"],[0.6666666666666666,\\\"#ed7953\\\"],[0.7777777777777778,\\\"#fb9f3a\\\"],[0.8888888888888888,\\\"#fdca26\\\"],[1.0,\\\"#f0f921\\\"]]}],\\\"contour\\\":[{\\\"colorbar\\\":{\\\"ticks\\\":\\\"\\\",\\\"outlinewidth\\\":0},\\\"type\\\":\\\"contour\\\",\\\"colorscale\\\":[[0.0,\\\"#0d0887\\\"],[0.1111111111111111,\\\"#46039f\\\"],[0.2222222222222222,\\\"#7201a8\\\"],[0.3333333333333333,\\\"#9c179e\\\"],[0.4444444444444444,\\\"#bd3786\\\"],[0.5555555555555556,\\\"#d8576b\\\"],[0.6666666666666666,\\\"#ed7953\\\"],[0.7777777777777778,\\\"#fb9f3a\\\"],[0.8888888888888888,\\\"#fdca26\\\"],[1.0,\\\"#f0f921\\\"]]}],\\\"scattercarpet\\\":[{\\\"type\\\":\\\"scattercarpet\\\",\\\"marker\\\":{\\\"colorbar\\\":{\\\"ticks\\\":\\\"\\\",\\\"outlinewidth\\\":0}}}],\\\"mesh3d\\\":[{\\\"colorbar\\\":{\\\"ticks\\\":\\\"\\\",\\\"outlinewidth\\\":0},\\\"type\\\":\\\"mesh3d\\\"}],\\\"surface\\\":[{\\\"colorbar\\\":{\\\"ticks\\\":\\\"\\\",\\\"outlinewidth\\\":0},\\\"type\\\":\\\"surface\\\",\\\"colorscale\\\":[[0.0,\\\"#0d0887\\\"],[0.1111111111111111,\\\"#46039f\\\"],[0.2222222222222222,\\\"#7201a8\\\"],[0.3333333333333333,\\\"#9c179e\\\"],[0.4444444444444444,\\\"#bd3786\\\"],[0.5555555555555556,\\\"#d8576b\\\"],[0.6666666666666666,\\\"#ed7953\\\"],[0.7777777777777778,\\\"#fb9f3a\\\"],[0.8888888888888888,\\\"#fdca26\\\"],[1.0,\\\"#f0f921\\\"]]}],\\\"scattermapbox\\\":[{\\\"type\\\":\\\"scattermapbox\\\",\\\"marker\\\":{\\\"colorbar\\\":{\\\"ticks\\\":\\\"\\\",\\\"outlinewidth\\\":0}}}],\\\"scattergeo\\\":[{\\\"type\\\":\\\"scattergeo\\\",\\\"marker\\\":{\\\"colorbar\\\":{\\\"ticks\\\":\\\"\\\",\\\"outlinewidth\\\":0}}}],\\\"histogram\\\":[{\\\"type\\\":\\\"histogram\\\",\\\"marker\\\":{\\\"colorbar\\\":{\\\"ticks\\\":\\\"\\\",\\\"outlinewidth\\\":0}}}],\\\"pie\\\":[{\\\"type\\\":\\\"pie\\\",\\\"automargin\\\":true}],\\\"choropleth\\\":[{\\\"colorbar\\\":{\\\"ticks\\\":\\\"\\\",\\\"outlinewidth\\\":0},\\\"type\\\":\\\"choropleth\\\"}],\\\"heatmapgl\\\":[{\\\"colorbar\\\":{\\\"ticks\\\":\\\"\\\",\\\"outlinewidth\\\":0},\\\"type\\\":\\\"heatmapgl\\\",\\\"colorscale\\\":[[0.0,\\\"#0d0887\\\"],[0.1111111111111111,\\\"#46039f\\\"],[0.2222222222222222,\\\"#7201a8\\\"],[0.3333333333333333,\\\"#9c179e\\\"],[0.4444444444444444,\\\"#bd3786\\\"],[0.5555555555555556,\\\"#d8576b\\\"],[0.6666666666666666,\\\"#ed7953\\\"],[0.7777777777777778,\\\"#fb9f3a\\\"],[0.8888888888888888,\\\"#fdca26\\\"],[1.0,\\\"#f0f921\\\"]]}],\\\"bar\\\":[{\\\"type\\\":\\\"bar\\\",\\\"error_y\\\":{\\\"color\\\":\\\"#2a3f5f\\\"},\\\"error_x\\\":{\\\"color\\\":\\\"#2a3f5f\\\"},\\\"marker\\\":{\\\"line\\\":{\\\"color\\\":\\\"#E5ECF6\\\",\\\"width\\\":0.5}}}],\\\"heatmap\\\":[{\\\"colorbar\\\":{\\\"ticks\\\":\\\"\\\",\\\"outlinewidth\\\":0},\\\"type\\\":\\\"heatmap\\\",\\\"colorscale\\\":[[0.0,\\\"#0d0887\\\"],[0.1111111111111111,\\\"#46039f\\\"],[0.2222222222222222,\\\"#7201a8\\\"],[0.3333333333333333,\\\"#9c179e\\\"],[0.4444444444444444,\\\"#bd3786\\\"],[0.5555555555555556,\\\"#d8576b\\\"],[0.6666666666666666,\\\"#ed7953\\\"],[0.7777777777777778,\\\"#fb9f3a\\\"],[0.8888888888888888,\\\"#fdca26\\\"],[1.0,\\\"#f0f921\\\"]]}],\\\"contourcarpet\\\":[{\\\"colorbar\\\":{\\\"ticks\\\":\\\"\\\",\\\"outlinewidth\\\":0},\\\"type\\\":\\\"contourcarpet\\\"}],\\\"table\\\":[{\\\"type\\\":\\\"table\\\",\\\"header\\\":{\\\"line\\\":{\\\"color\\\":\\\"white\\\"},\\\"fill\\\":{\\\"color\\\":\\\"#C8D4E3\\\"}},\\\"cells\\\":{\\\"line\\\":{\\\"color\\\":\\\"white\\\"},\\\"fill\\\":{\\\"color\\\":\\\"#EBF0F8\\\"}}}],\\\"scatter3d\\\":[{\\\"line\\\":{\\\"colorbar\\\":{\\\"ticks\\\":\\\"\\\",\\\"outlinewidth\\\":0}},\\\"type\\\":\\\"scatter3d\\\",\\\"marker\\\":{\\\"colorbar\\\":{\\\"ticks\\\":\\\"\\\",\\\"outlinewidth\\\":0}}}],\\\"scattergl\\\":[{\\\"type\\\":\\\"scattergl\\\",\\\"marker\\\":{\\\"colorbar\\\":{\\\"ticks\\\":\\\"\\\",\\\"outlinewidth\\\":0}}}],\\\"histogram2d\\\":[{\\\"colorbar\\\":{\\\"ticks\\\":\\\"\\\",\\\"outlinewidth\\\":0},\\\"type\\\":\\\"histogram2d\\\",\\\"colorscale\\\":[[0.0,\\\"#0d0887\\\"],[0.1111111111111111,\\\"#46039f\\\"],[0.2222222222222222,\\\"#7201a8\\\"],[0.3333333333333333,\\\"#9c179e\\\"],[0.4444444444444444,\\\"#bd3786\\\"],[0.5555555555555556,\\\"#d8576b\\\"],[0.6666666666666666,\\\"#ed7953\\\"],[0.7777777777777778,\\\"#fb9f3a\\\"],[0.8888888888888888,\\\"#fdca26\\\"],[1.0,\\\"#f0f921\\\"]]}],\\\"scatterternary\\\":[{\\\"type\\\":\\\"scatterternary\\\",\\\"marker\\\":{\\\"colorbar\\\":{\\\"ticks\\\":\\\"\\\",\\\"outlinewidth\\\":0}}}],\\\"scatterpolargl\\\":[{\\\"type\\\":\\\"scatterpolargl\\\",\\\"marker\\\":{\\\"colorbar\\\":{\\\"ticks\\\":\\\"\\\",\\\"outlinewidth\\\":0}}}]}},\\\"scene\\\":{\\\"xaxis\\\":{\\\"title\\\":\\\"Flipper Length (mm)\\\"},\\\"yaxis\\\":{\\\"title\\\":\\\"Bill Length (mm)\\\"},\\\"zaxis\\\":{\\\"title\\\":\\\"Body Mass (g)\\\"}},\\\"margin\\\":{\\\"l\\\":50,\\\"b\\\":50,\\\"r\\\":50,\\\"t\\\":60},\\\"title\\\":\\\"3D Scatter Plot of Penguins\\\",\\\"legend\\\":{\\\"title\\\":{\\\"text\\\":\\\"Species\\\"}}},{\\\"showLink\\\":false,\\\"editable\\\":false,\\\"responsive\\\":true,\\\"staticPlot\\\":false,\\\"scrollZoom\\\":true}); gd.on(\\\"plotly_hover\\\",(function (data){var filtered_data=WebIO.PlotlyCommands.filterEventData(gd,data,\\\"hover\\\"); return !(filtered_data.isnil) ? (WebIO.setval({\\\"name\\\":\\\"hover\\\",\\\"scope\\\":\\\"3736333226672420282\\\",\\\"id\\\":\\\"21\\\",\\\"type\\\":\\\"observable\\\"},filtered_data.out)) : undefined})); gd.on(\\\"plotly_unhover\\\",(function (){return WebIO.setval({\\\"name\\\":\\\"hover\\\",\\\"scope\\\":\\\"3736333226672420282\\\",\\\"id\\\":\\\"21\\\",\\\"type\\\":\\\"observable\\\"},{})})); gd.on(\\\"plotly_selected\\\",(function (data){var filtered_data=WebIO.PlotlyCommands.filterEventData(gd,data,\\\"selected\\\"); return !(filtered_data.isnil) ? (WebIO.setval({\\\"name\\\":\\\"selected\\\",\\\"scope\\\":\\\"3736333226672420282\\\",\\\"id\\\":\\\"22\\\",\\\"type\\\":\\\"observable\\\"},filtered_data.out)) : undefined})); gd.on(\\\"plotly_deselect\\\",(function (){return WebIO.setval({\\\"name\\\":\\\"selected\\\",\\\"scope\\\":\\\"3736333226672420282\\\",\\\"id\\\":\\\"22\\\",\\\"type\\\":\\\"observable\\\"},{})})); gd.on(\\\"plotly_relayout\\\",(function (data){var filtered_data=WebIO.PlotlyCommands.filterEventData(gd,data,\\\"relayout\\\"); return !(filtered_data.isnil) ? (WebIO.setval({\\\"name\\\":\\\"relayout\\\",\\\"scope\\\":\\\"3736333226672420282\\\",\\\"id\\\":\\\"24\\\",\\\"type\\\":\\\"observable\\\"},filtered_data.out)) : undefined})); return gd.on(\\\"plotly_click\\\",(function (data){var filtered_data=WebIO.PlotlyCommands.filterEventData(gd,data,\\\"click\\\"); return !(filtered_data.isnil) ? (WebIO.setval({\\\"name\\\":\\\"click\\\",\\\"scope\\\":\\\"3736333226672420282\\\",\\\"id\\\":\\\"23\\\",\\\"type\\\":\\\"observable\\\"},filtered_data.out)) : undefined}))}));\\n    (WebIO.importBlock({\\\"data\\\":[{\\\"name\\\":\\\"Plotly\\\",\\\"type\\\":\\\"js\\\",\\\"url\\\":\\\"\\/assetserver\\/0dc3ed29c80963b07dcdb1858908f32b148bc21b-plotly.min.js\\\"},{\\\"name\\\":null,\\\"type\\\":\\\"js\\\",\\\"url\\\":\\\"\\/assetserver\\/6a775dc5ba4204515a8fc4d3cf669abc14b5b899-plotly_webio.bundle.js\\\"}],\\\"type\\\":\\\"async_block\\\"})).then((imports) => handler.apply(this, imports));\\n}\\n\"],\"observables\":{\"_toImage\":{\"sync\":false,\"id\":\"28\",\"value\":{}},\"hover\":{\"sync\":false,\"id\":\"21\",\"value\":{}},\"selected\":{\"sync\":false,\"id\":\"22\",\"value\":{}},\"__gd_contents\":{\"sync\":false,\"id\":\"26\",\"value\":{}},\"click\":{\"sync\":false,\"id\":\"23\",\"value\":{}},\"image\":{\"sync\":true,\"id\":\"25\",\"value\":\"\"},\"__get_gd_contents\":{\"sync\":false,\"id\":\"30\",\"value\":\"\"},\"_downloadImage\":{\"sync\":false,\"id\":\"29\",\"value\":{}},\"relayout\":{\"sync\":false,\"id\":\"24\",\"value\":{}},\"_commands\":{\"sync\":false,\"id\":\"27\",\"value\":[]}}},\"children\":[{\"props\":{\"id\":\"plot-0e40dad4-5c23-4f23-b8e9-d5da6dfdb04b\"},\"nodeType\":\"DOM\",\"type\":\"node\",\"instanceArgs\":{\"namespace\":\"html\",\"tag\":\"div\"},\"children\":[]}]},\n",
       "        window,\n",
       "    );\n",
       "    })()\n",
       "    </script>\n",
       "</div>\n"
      ],
      "text/plain": [
       "data: [\n",
       "  \"scatter3d with fields marker, mode, text, type, x, y, and z\"\n",
       "]\n",
       "\n",
       "layout: \"layout with fields legend, margin, scene, template, and title\"\n",
       "\n"
      ]
     },
     "execution_count": 5,
     "metadata": {},
     "output_type": "execute_result"
    }
   ],
   "source": [
    "# Optionally handle missing data with Interpolation (use only if necessary)\n",
    "function interpolate_column(col)\n",
    "    idx = findall(!ismissing, col)  # Find indices of non-missing values\n",
    "    itp = LinearInterpolation(idx, col[idx], extrapolation_bc = Line())  # Linear interpolation\n",
    "    col = itp.(1:length(col))  # Apply interpolation to the whole column\n",
    "end\n",
    "\n",
    "# Optionally interpolate missing values in relevant columns\n",
    "# Uncomment the next lines if you need to interpolate missing data\n",
    "# penguins.flipper_length_mm = interpolate_column(penguins.flipper_length_mm)\n",
    "# penguins.bill_length_mm = interpolate_column(penguins.bill_length_mm)\n",
    "# penguins.body_mass_g = interpolate_column(penguins.body_mass_g)\n",
    "\n",
    "# Create the 3D scatter plot\n",
    "scatter3d_penguins = scatter3d(\n",
    "    x = penguins.flipper_length_mm,  # X-axis: Flipper Length\n",
    "    y = penguins.bill_length_mm,     # Y-axis: Bill Length\n",
    "    z = penguins.body_mass_g,        # Z-axis: Body Mass\n",
    "    mode = \"markers\",\n",
    "    marker = attr(\n",
    "        size = 5,\n",
    "        color = penguins.species,    # Color by species\n",
    "        colorscale = \"Viridis\"       # Color scale\n",
    "    ),\n",
    "    text = string.(\"Species: \", penguins.species, \"<br>\",\n",
    "                   \"Flipper Length (mm): \", penguins.flipper_length_mm, \"<br>\",\n",
    "                   \"Bill Length (mm): \", penguins.bill_length_mm, \"<br>\",\n",
    "                   \"Body Mass (g): \", penguins.body_mass_g)  # Hover text\n",
    ")\n",
    "\n",
    "# Define layout for the 3D plot\n",
    "layout_penguins = Layout(\n",
    "    title = \"3D Scatter Plot of Penguins\",\n",
    "    scene = attr(\n",
    "        xaxis = attr(title = \"Flipper Length (mm)\"),\n",
    "        yaxis = attr(title = \"Bill Length (mm)\"),\n",
    "        zaxis = attr(title = \"Body Mass (g)\")\n",
    "    ),\n",
    "    legend = attr(title = attr(text = \"Species\"))\n",
    ")\n",
    "\n",
    "# Plot the figure\n",
    "plot(scatter3d_penguins, layout_penguins)"
   ]
  },
  {
   "cell_type": "code",
   "execution_count": 53,
   "id": "39b85fba-771b-462c-9242-a4740c4f6f42",
   "metadata": {},
   "outputs": [
    {
     "name": "stderr",
     "output_type": "stream",
     "text": [
      "\u001b[32m\u001b[1m   Resolving\u001b[22m\u001b[39m package versions...\n",
      "\u001b[32m\u001b[1m  No Changes\u001b[22m\u001b[39m to `C:\\Users\\aurascoper\\.julia\\environments\\v1.9\\Project.toml`\n",
      "\u001b[32m\u001b[1m  No Changes\u001b[22m\u001b[39m to `C:\\Users\\aurascoper\\.julia\\environments\\v1.9\\Manifest.toml`\n"
     ]
    }
   ],
   "source": [
    "import Pkg\n",
    "\n",
    "# Add all required packages in a single command\n",
    "Pkg.add([\n",
    "    \"CSV\", \n",
    "    \"DataFrames\", \n",
    "    \"PalmerPenguins\", \n",
    "    \"StatsBase\", \n",
    "    \"Clustering\", \n",
    "    \"Plots\", \n",
    "    \"CategoricalArrays\", \n",
    "    \"Statistics\"\n",
    "])"
   ]
  },
  {
   "cell_type": "code",
   "execution_count": null,
   "id": "8ecce1fa-ab81-4826-808d-bd7bfb33a4f2",
   "metadata": {},
   "outputs": [],
   "source": []
  }
 ],
 "metadata": {
  "kernelspec": {
   "display_name": "Julia 1.9.4",
   "language": "julia",
   "name": "julia-1.9"
  },
  "language_info": {
   "file_extension": ".jl",
   "mimetype": "application/julia",
   "name": "julia",
   "version": "1.9.4"
  }
 },
 "nbformat": 4,
 "nbformat_minor": 5
}
